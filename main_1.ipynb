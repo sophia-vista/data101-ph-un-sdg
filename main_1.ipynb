{
 "cells": [
  {
   "cell_type": "markdown",
   "id": "96092f7a",
   "metadata": {},
   "source": [
    "# DATASET & CHARTS"
   ]
  },
  {
   "cell_type": "markdown",
   "id": "70b1e777",
   "metadata": {},
   "source": [
    "## Basic Libraries"
   ]
  },
  {
   "cell_type": "code",
   "execution_count": null,
   "id": "129833f5",
   "metadata": {
    "tags": []
   },
   "outputs": [],
   "source": [
    "import pandas as pd\n",
    "import numpy as np\n",
    "import geopandas as gpd\n",
    "import matplotlib.pyplot as plt\n",
    "\n",
    "from shapely.geometry import Point\n",
    "\n",
    "import plotly.express as px\n",
    "import plotly.graph_objects as go\n",
    "import seaborn as sns\n",
    "\n",
    "%pylab inline"
   ]
  },
  {
   "cell_type": "markdown",
   "id": "5a4c3e46",
   "metadata": {},
   "source": [
    "## Dataset"
   ]
  },
  {
   "cell_type": "code",
   "execution_count": null,
   "id": "8b9e5b9e",
   "metadata": {},
   "outputs": [],
   "source": [
    "url = 'https://raw.githubusercontent.com/francheska-vicente/datapre-project/main_v2/data_output/combined_data.csv'\n",
    "sdg_data = pd.read_csv (url)\n",
    "sdg_data "
   ]
  },
  {
   "cell_type": "code",
   "execution_count": null,
   "id": "0e1722df",
   "metadata": {},
   "outputs": [],
   "source": [
    "sdg_data = sdg_data [list (sdg_data.columns [:-15])]\n",
    "sdg_data"
   ]
  },
  {
   "cell_type": "code",
   "execution_count": null,
   "id": "f545272d",
   "metadata": {},
   "outputs": [],
   "source": [
    "sdg_info = pd.read_csv ('data/sdg_infov3.csv')\n",
    "sdg_info"
   ]
  },
  {
   "cell_type": "code",
   "execution_count": null,
   "id": "badd3a60",
   "metadata": {},
   "outputs": [],
   "source": [
    "region_info = pd.read_csv ('data/region_infov1.csv')\n",
    "region_info"
   ]
  },
  {
   "cell_type": "code",
   "execution_count": null,
   "id": "545bfd68",
   "metadata": {},
   "outputs": [],
   "source": [
    "sdg_score = pd.read_csv ('data/sdg_target_score.csv')\n",
    "sdg_score"
   ]
  },
  {
   "cell_type": "markdown",
   "id": "bb0fd939",
   "metadata": {},
   "source": [
    "## Line Charts"
   ]
  },
  {
   "cell_type": "code",
   "execution_count": null,
   "id": "6fe06dbd",
   "metadata": {},
   "outputs": [],
   "source": [
    "regions_selected = []"
   ]
  },
  {
   "cell_type": "code",
   "execution_count": null,
   "id": "827c0e72",
   "metadata": {},
   "outputs": [],
   "source": [
    "regions_selected = ['NCR: National Capital Region', 'Region 1: Ilocos Region']"
   ]
  },
  {
   "cell_type": "code",
   "execution_count": null,
   "id": "a72bd19c",
   "metadata": {},
   "outputs": [],
   "source": [
    "indicators_selected = []"
   ]
  },
  {
   "cell_type": "code",
   "execution_count": null,
   "id": "a7cb4468",
   "metadata": {},
   "outputs": [],
   "source": [
    "indicators_selected = ['1.4.1 Net JHS Enrolment Rate', '1.2.1 Poverty Proportion']"
   ]
  },
  {
   "cell_type": "code",
   "execution_count": null,
   "id": "bfd7a46f",
   "metadata": {
    "scrolled": true
   },
   "outputs": [],
   "source": [
    "two_region = pd.DataFrame ()\n",
    "\n",
    "for region in regions_selected:\n",
    "    if len (indicators_selected) > 1:\n",
    "        temp_region = sdg_data [sdg_data['Geolocation'] == region][['Year', indicators_selected [0], indicators_selected [1]]]\n",
    "    else:\n",
    "        temp_region = sdg_data [sdg_data['Geolocation'] == region][['Year', indicators_selected [0]]]\n",
    "    \n",
    "    temp_region = pd.concat ([sdg_data['Geolocation'], temp_region], axis=1)\n",
    "    \n",
    "    temp_region = temp_region.dropna (thresh = len (indicators_selected) + 1)\n",
    "    temp_region ['Year'] = temp_region ['Year'].astype('int')\n",
    "    \n",
    "    two_region = pd.concat([two_region, temp_region])\n",
    "    \n",
    "two_region = two_region.reset_index (drop = True)\n",
    "two_region"
   ]
  },
  {
   "cell_type": "code",
   "execution_count": null,
   "id": "30e9fb4a",
   "metadata": {},
   "outputs": [],
   "source": [
    "def line_update_layout (fig, title, label):\n",
    "    fig.update_layout(\n",
    "        # TITLE\n",
    "\n",
    "        title={'text' : title, 'y': 0.95, 'x' : 0.5, # Position of the title\n",
    "              # 'xanchor': 'center', 'yanchor': 'top'\n",
    "              },\n",
    "        title_font_family=\"Cambria\",\n",
    "        title_font_color=\"#000000\",\n",
    "        title_font_size=20,\n",
    "\n",
    "\n",
    "        # axis and legend font\n",
    "        font_family=\"Cambria\",\n",
    "        font_color=\"#000000\",\n",
    "\n",
    "\n",
    "        # x-axis\n",
    "        xaxis_title='Year',\n",
    "\n",
    "        xaxis=dict(\n",
    "            showline=True,\n",
    "            showgrid=False,\n",
    "            showticklabels=True,\n",
    "            linecolor='#000000',\n",
    "            linewidth=2,\n",
    "            ticks='outside',\n",
    "            tickfont=dict(\n",
    "                family='Cambria',\n",
    "                size=16,\n",
    "                color='#000000',\n",
    "            ),\n",
    "        ),\n",
    "\n",
    "\n",
    "        # y-axis\n",
    "        yaxis_title = label, \n",
    "\n",
    "        yaxis=dict(\n",
    "            showgrid=False,\n",
    "            showline=True,\n",
    "            showticklabels=True,\n",
    "            linecolor='#000000',\n",
    "            linewidth=2,\n",
    "            ticks='outside',\n",
    "            tickfont=dict(\n",
    "                family='Cambria',\n",
    "                size=16,\n",
    "                color='#000000',\n",
    "            ),\n",
    "\n",
    "        ),\n",
    "\n",
    "        hovermode=\"x unified\",\n",
    "\n",
    "        autosize=True,\n",
    "\n",
    "        # MARGIN\n",
    "        # margin=dict(autoexpand=False, l=100, r=20,t=110),\n",
    "\n",
    "        showlegend=True,\n",
    "\n",
    "        paper_bgcolor=\"LightSteelBlue\", # BG COLOR OUTSIDE CHART\n",
    "\n",
    "        plot_bgcolor='light gray' # BG COLOR INSIDE CHART\n",
    "    )\n",
    "    \n",
    "    return fig"
   ]
  },
  {
   "cell_type": "code",
   "execution_count": null,
   "id": "127e6845",
   "metadata": {},
   "outputs": [],
   "source": [
    "print (indicators_selected)"
   ]
  },
  {
   "cell_type": "code",
   "execution_count": null,
   "id": "8243fc24",
   "metadata": {},
   "outputs": [],
   "source": [
    "indicator = indicators_selected [0]"
   ]
  },
  {
   "cell_type": "code",
   "execution_count": null,
   "id": "57b747de",
   "metadata": {},
   "outputs": [],
   "source": [
    "label = \" \".join (indicator.split (' ') [1 : ])\n",
    "df_visualization = two_region [['Geolocation', 'Year', indicator]]\n",
    "df_visualization = df_visualization.dropna ()\n",
    "\n",
    "x = 0\n",
    "while indicator != sdg_score.iloc[x]['Indicator']:\n",
    "    x = x + 1\n",
    "\n",
    "y = 0\n",
    "while y < len(df_visualization['Year'].unique()):\n",
    "    target = \" \".join (indicator.split (' ') [1 : ])\n",
    "    new_row = {'Geolocation':'Target ' + target, indicator:sdg_score.iloc[x]['Target'], 'Year': df_visualization['Year'].unique()[y]}\n",
    "    df_visualization = df_visualization.append(new_row, ignore_index=True)\n",
    "    y = y + 1\n",
    "\n",
    "x_axis_values = df_visualization ['Year'].unique ()\n",
    "    \n",
    "fig = px.line(df_visualization, x='Year', y = indicator, markers=True,\n",
    "              labels={indicator: label}, color = 'Geolocation') \n",
    "title = \" \".join (indicator.split (' ') [1 : ]) + ' per Year'\n",
    "fig = line_update_layout (fig, title, label)\n",
    "fig.update_xaxes(type='category')\n",
    "    \n",
    "fig.show ()"
   ]
  },
  {
   "cell_type": "code",
   "execution_count": null,
   "id": "25ef147d",
   "metadata": {},
   "outputs": [],
   "source": [
    "for indicator in indicators_selected:\n",
    "    label = \" \".join (indicator.split (' ') [1 : ])\n",
    "    df_visualization = two_region [['Geolocation', 'Year', indicator]]\n",
    "    df_visualization = df_visualization.dropna ()\n",
    "\n",
    "    x = 0\n",
    "    while indicator != sdg_score.iloc[x]['Indicator']:\n",
    "        x = x + 1\n",
    "\n",
    "    y = 0\n",
    "    while y < len(df_visualization['Year'].unique()):\n",
    "        target = \" \".join (indicator.split (' ') [1 : ])\n",
    "        new_row = {'Geolocation':'Target ' + target, indicator:sdg_score.iloc[x]['Target'], 'Year': df_visualization['Year'].unique()[y]}\n",
    "        df_visualization = df_visualization.append(new_row, ignore_index=True)\n",
    "        y = y + 1\n",
    "    \n",
    "    x_axis_values = df_visualization ['Year'].unique ()\n",
    "    \n",
    "    fig = px.line(df_visualization, x='Year', y = indicator, markers=True,\n",
    "             labels={indicator: label}, color = 'Geolocation') \n",
    "    title = \" \".join (indicator.split (' ') [1 : ]) + ' per Year'\n",
    "    fig = line_update_layout (fig, title, label)\n",
    "    fig.update_xaxes(type='category')\n",
    "    \n",
    "    fig.show ()"
   ]
  },
  {
   "cell_type": "markdown",
   "id": "ae164987",
   "metadata": {},
   "source": [
    "## LINE CHART FOR REGION-FOCUSED TAB"
   ]
  },
  {
   "cell_type": "code",
   "execution_count": null,
   "id": "f41736ff",
   "metadata": {},
   "outputs": [],
   "source": [
    "region_selected = 'PHILIPPINES'"
   ]
  },
  {
   "cell_type": "code",
   "execution_count": null,
   "id": "071f258f",
   "metadata": {},
   "outputs": [],
   "source": [
    "target_selected = 'By 2030, the proportion of men, women and children living in poverty should be reduced by half.'"
   ]
  },
  {
   "cell_type": "code",
   "execution_count": null,
   "id": "e91094b6",
   "metadata": {},
   "outputs": [],
   "source": [
    "target_selected = sdg_info [sdg_info ['Shortened Target'] == target_selected].drop_duplicates (['Shortened Target'])['Target Number'].values[0]\n",
    "target_selected"
   ]
  },
  {
   "cell_type": "code",
   "execution_count": null,
   "id": "09a20a5b",
   "metadata": {},
   "outputs": [],
   "source": [
    "sdg_columns = sdg_data.columns [:-15]\n",
    "targets_value = ['Target Number', '', '1.2.', '1.4.', '1.4.', '1.4.', '1.4.', '1.4.', '1.4.', '1.4.', '1.4.', '1.4.', '1.5.', \n",
    " '3.4.', '3.4.', '3.4.', '3.4.', '3.4.', '3.7.', '3.7.', '4.1.', '4.1.', '4.1.', '4.1.', '4.1.', \n",
    " '4.1.', '4.1.', '4.1.', '4.1.', '', '7.1.', '8.1.', '10.1.', '10.1.', '14.5.', '14.5.', \n",
    " '16.1.', '16.1.']\n",
    "targets_df = pd.DataFrame ([targets_value], columns = sdg_columns)\n",
    "sdg_data_only = sdg_data [sdg_columns]"
   ]
  },
  {
   "cell_type": "code",
   "execution_count": null,
   "id": "24173d40",
   "metadata": {},
   "outputs": [],
   "source": [
    "region_df = sdg_data_only [sdg_data_only ['Geolocation'] == region_selected]\n",
    "region_df = pd.concat ([targets_df, region_df]).reset_index (drop = True)\n",
    "region_df = region_df.drop ('Geolocation', axis = 1)\n",
    "region_df.loc [0, 'Year'] = 'Target Number'\n",
    "region_df"
   ]
  },
  {
   "cell_type": "code",
   "execution_count": null,
   "id": "f55e8149",
   "metadata": {},
   "outputs": [],
   "source": [
    "region_df = region_df.T\n",
    "region_df.columns = region_df.iloc [0]\n",
    "region_df = region_df.drop ('Year', axis = 0)\n",
    "region_df"
   ]
  },
  {
   "cell_type": "code",
   "execution_count": null,
   "id": "bd92bbc1",
   "metadata": {},
   "outputs": [],
   "source": [
    "region_df = region_df [region_df ['Target Number'] == target_selected].T\n",
    "region_df = region_df.drop ('Target Number', axis = 0)\n",
    "region_df = region_df.dropna ()\n",
    "region_df"
   ]
  },
  {
   "cell_type": "code",
   "execution_count": null,
   "id": "d4b948ad",
   "metadata": {},
   "outputs": [],
   "source": [
    "fig = px.line(region_df) \n",
    "title = sdg_info [sdg_info ['Target Number'] == target_selected].drop_duplicates(['Target Number'])['Shortened Target'].values[0]\n",
    "\n",
    "fig = line_update_layout (fig, title, 'Indicator Value')\n",
    "fig.update_xaxes(type='category')\n",
    "    \n",
    "fig.show ()"
   ]
  },
  {
   "cell_type": "markdown",
   "id": "f32b9748",
   "metadata": {},
   "source": [
    "## Bar Charts"
   ]
  },
  {
   "cell_type": "markdown",
   "id": "9b14cec2",
   "metadata": {},
   "source": [
    "### HORIZONTAL BAR CHART"
   ]
  },
  {
   "cell_type": "code",
   "execution_count": null,
   "id": "bd65c56a",
   "metadata": {},
   "outputs": [],
   "source": [
    "regions_selected = []"
   ]
  },
  {
   "cell_type": "code",
   "execution_count": null,
   "id": "dd550a05",
   "metadata": {},
   "outputs": [],
   "source": [
    "regions_selected = ['NCR: National Capital Region', 'Region 1: Ilocos Region']"
   ]
  },
  {
   "cell_type": "code",
   "execution_count": null,
   "id": "082566ad",
   "metadata": {},
   "outputs": [],
   "source": [
    "indicators_selected = []"
   ]
  },
  {
   "cell_type": "code",
   "execution_count": null,
   "id": "fb286dbd",
   "metadata": {},
   "outputs": [],
   "source": [
    "indicators_selected = ['1.4.1 Net JHS Enrolment Rate', '1.2.1 Poverty Proportion']"
   ]
  },
  {
   "cell_type": "code",
   "execution_count": null,
   "id": "c38f3556",
   "metadata": {},
   "outputs": [],
   "source": [
    "two_region = pd.DataFrame ()\n",
    "\n",
    "for indicartor in indicators_selected:\n",
    "    if len (indicators_selected) > 1:\n",
    "        temp_region = sdg_data [['Year', indicators_selected [0], indicators_selected [1]]]\n",
    "    else:\n",
    "        temp_region = sdg_data [['Year', indicators_selected [0]]]\n",
    "    \n",
    "    temp_region = pd.concat ([sdg_data['Geolocation'], temp_region], axis=1)\n",
    "    temp_region = temp_region [temp_region ['Geolocation'] != 'PHILIPPINES']\n",
    "    temp_region = temp_region.dropna (thresh = len (indicators_selected) + 1)\n",
    "    temp_region ['Year'] = temp_region ['Year'].astype('int')\n",
    "    \n",
    "    two_region = pd.concat([two_region, temp_region])\n",
    "    \n",
    "two_region = two_region.reset_index (drop = True)\n",
    "two_region"
   ]
  },
  {
   "cell_type": "raw",
   "id": "4f2059b6",
   "metadata": {},
   "source": [
    "# Change the bar mode\n",
    "def grouped_bar_update_layout (title, label):\n",
    "    fig.update_layout(\n",
    "\n",
    "        barmode='group',\n",
    "\n",
    "\n",
    "        # TITLE\n",
    "\n",
    "        title={'text':title, 'y':0.95, 'x':0.2, # Position of the title\n",
    "              # 'xanchor': 'center', 'yanchor': 'top'\n",
    "              },    \n",
    "        title_font_family=\"Cambria\",\n",
    "        title_font_color=\"#000000\",\n",
    "        title_font_size=20,\n",
    "\n",
    "\n",
    "        # axis font\n",
    "        font_family=\"Cambria\",\n",
    "        font_color=\"#000000\",\n",
    "\n",
    "\n",
    "        # x-axis 1\n",
    "        xaxis1=dict(\n",
    "            showline=True,\n",
    "            showgrid=False,\n",
    "            showticklabels=True,\n",
    "            linecolor='#000000',\n",
    "            linewidth=2,\n",
    "            ticks='outside',\n",
    "            tickfont=dict(\n",
    "                family='Cambria',\n",
    "                size=14,\n",
    "                color='#000000',\n",
    "            ),\n",
    "        ),\n",
    "\n",
    "\n",
    "        # x-axis 2\n",
    "        xaxis2=dict(\n",
    "            showline=True,\n",
    "            showgrid=False,\n",
    "            showticklabels=True,\n",
    "            linecolor='#000000',\n",
    "            linewidth=2,\n",
    "            ticks='outside',\n",
    "            tickfont=dict(\n",
    "                family='Cambria',\n",
    "                size=14,\n",
    "                color='#000000',\n",
    "            ),\n",
    "        ),\n",
    "\n",
    "\n",
    "        # y-axis\n",
    "        yaxis_title = 'Geolocation',\n",
    "        yaxis=dict(\n",
    "            {'categoryorder':'total ascending'}, # ascending values from bottom to top\n",
    "            showgrid=False,\n",
    "            showline=True,\n",
    "            showticklabels=True,\n",
    "            linecolor='#000000',\n",
    "            linewidth=2,\n",
    "            ticks='outside',\n",
    "            tickfont=dict(\n",
    "                family='Cambria',\n",
    "                size=10,\n",
    "                color='#000000',\n",
    "            ),\n",
    "        ),\n",
    "\n",
    "\n",
    "        # LEGEND\n",
    "\n",
    "        legend=dict(orientation=\"h\", # horizontal orientation\n",
    "\n",
    "            # entrywidth=70, # spacing in between legends, can't make it work sa akin\n",
    "\n",
    "            yanchor=\"bottom\",\n",
    "            y=1.02,\n",
    "            xanchor=\"right\",\n",
    "            x=1,\n",
    "\n",
    "            traceorder=\"reversed\",\n",
    "\n",
    "            title_font_color=\"#000000\",\n",
    "            title_font_family=\"Times New Roman\",\n",
    "\n",
    "            font=dict(\n",
    "                family=\"Courier\",\n",
    "                size=12,\n",
    "                color=\"black\"\n",
    "                ),\n",
    "\n",
    "            bgcolor=\"LightSteelBlue\", # legend box\n",
    "            bordercolor=\"Black\",\n",
    "            borderwidth=1\n",
    "            ),\n",
    "\n",
    "        hovermode=\"y unified\",\n",
    "\n",
    "        autosize=True,\n",
    "\n",
    "        # margin=dict(autoexpand=False, l=100, r=20,t=110),\n",
    "\n",
    "        showlegend=True,\n",
    "\n",
    "        plot_bgcolor='light grey'\n",
    "\n",
    "    )\n",
    "\n",
    "    return fig"
   ]
  },
  {
   "cell_type": "raw",
   "id": "97f0eec5",
   "metadata": {},
   "source": [
    "list_bars = []\n",
    "list_titles = []\n",
    "for indicator in indicators_selected:\n",
    "    title = \" \".join (indicator.split (' ') [1 : ]) + ' for the Year ' + str (year_values [-1])\n",
    "    list_titles.append (list)\n",
    "    temp_bar = go.Bar(name = title, \n",
    "           y = two_region ['Geolocation'], \n",
    "           x = two_region [indicator], \n",
    "           xaxis = 'x', \n",
    "           offsetgroup =1, \n",
    "           orientation = 'h')\n",
    "    \n",
    "    list_bars.append (temp_bar)"
   ]
  },
  {
   "cell_type": "raw",
   "id": "1d659adf",
   "metadata": {},
   "source": [
    "dict_bars = {}\n",
    "counter = 1\n",
    "\n",
    "for indicator in indicators_selected:\n",
    "    dict_bars ['xaxis' + str (counter)] = {'title': list_titles [counter - 1]}"
   ]
  },
  {
   "cell_type": "code",
   "execution_count": null,
   "id": "c5d1ecc5",
   "metadata": {},
   "outputs": [],
   "source": [
    "def bar_update_layout (fig, title, label):\n",
    "    fig.update_layout(\n",
    "    # TITLE\n",
    "    \n",
    "        title={'text': title, 'y':0.95, 'x':0.5, # Position of the title\n",
    "              # 'xanchor': 'center', 'yanchor': 'top'\n",
    "              },    \n",
    "        title_font_family=\"Cambria\",\n",
    "        title_font_color=\"#000000\",\n",
    "        title_font_size=20,\n",
    "\n",
    "        # axis font\n",
    "        font_family=\"Cambria\",\n",
    "        font_color=\"#000000\",\n",
    "\n",
    "\n",
    "        # x-axis\n",
    "        xaxis_title= label,\n",
    "\n",
    "        xaxis=dict(\n",
    "            showline=True,\n",
    "            showgrid=False,\n",
    "            showticklabels=True,\n",
    "            linecolor='#000000',\n",
    "            linewidth=2,\n",
    "            ticks='outside',\n",
    "            tickfont=dict(\n",
    "                family='Cambria',\n",
    "                size=14,\n",
    "                color='#000000',\n",
    "            ),\n",
    "        ),\n",
    "\n",
    "        # y-axis\n",
    "        yaxis_title='Geolocation',\n",
    "        yaxis=dict(\n",
    "            {'categoryorder':'total ascending'}, # ascending values from bottom to top\n",
    "            showgrid=False,\n",
    "            showline=True,\n",
    "            showticklabels=True,\n",
    "            linecolor='#000000',\n",
    "            linewidth=2,\n",
    "            ticks='outside',\n",
    "            tickfont=dict(\n",
    "                family='Cambria',\n",
    "                size=10,\n",
    "                color='#000000',\n",
    "            ),\n",
    "        ),\n",
    "\n",
    "        autosize=True,\n",
    "\n",
    "        # margin=dict(autoexpand=False, l=100, r=20,t=110),\n",
    "\n",
    "        showlegend=True,\n",
    "\n",
    "        plot_bgcolor='light grey'\n",
    "    )\n",
    "\n",
    "    return fig"
   ]
  },
  {
   "cell_type": "code",
   "execution_count": null,
   "id": "c586320f",
   "metadata": {},
   "outputs": [],
   "source": [
    "geolocation_values = []\n",
    "for temp in sdg_data ['Geolocation'].unique () [1 :]:\n",
    "    temp = temp.split (\":\")\n",
    "    geolocation_values.append (temp [1])"
   ]
  },
  {
   "cell_type": "code",
   "execution_count": null,
   "id": "bcbaecfe",
   "metadata": {
    "scrolled": true
   },
   "outputs": [],
   "source": [
    "for indicator in indicators_selected:\n",
    "    label = \" \".join (indicator.split (' ') [1 : ])\n",
    "    df_visualization = two_region [['Geolocation', 'Year', indicator]]\n",
    "    df_visualization = df_visualization.dropna ()\n",
    "    \n",
    "    year_values = df_visualization ['Year'].unique ()\n",
    "    \n",
    "    df_visualization_curr = df_visualization [df_visualization ['Year'] == year_values [-1]]\n",
    "    df_visualization_curr = df_visualization_curr.drop_duplicates ()\n",
    "    fig = px.bar(df_visualization_curr, x = indicator, y = geolocation_values,\n",
    "             labels={indicator: label}, color = 'Geolocation') \n",
    "    title = \" \".join (indicator.split (' ') [1 : ]) + ' of the Year ' + str (year_values [-1])\n",
    "    fig = bar_update_layout (fig, title, label)\n",
    "    \n",
    "    fig.show ()"
   ]
  },
  {
   "cell_type": "markdown",
   "id": "6b5329a4",
   "metadata": {},
   "source": [
    "## Heat Map"
   ]
  },
  {
   "cell_type": "code",
   "execution_count": null,
   "id": "97e0f53a",
   "metadata": {},
   "outputs": [],
   "source": [
    "sdg_columns = sdg_data.columns [:-15]\n",
    "targets_value = ['Target Number', '', '1.2.', '1.4.', '1.4.', '1.4.', '1.4.', '1.4.', '1.4.', '1.4.', '1.4.', '1.4.', '1.5.', \n",
    " '3.4.', '3.4.', '3.4.', '3.4.', '3.4.', '3.7.', '3.7.', '4.1.', '4.1.', '4.1.', '4.1.', '4.1.', \n",
    " '4.1.', '4.1.', '4.1.', '4.1.', '', '7.1.', '8.1.', '10.1.', '10.1.', '14.5.', '14.5.', \n",
    " '16.1.', '16.1.']\n",
    "targets_df = pd.DataFrame ([targets_value], columns = sdg_columns)\n",
    "targets_df"
   ]
  },
  {
   "cell_type": "code",
   "execution_count": null,
   "id": "816932f7",
   "metadata": {},
   "outputs": [],
   "source": [
    "sdg_data_only = sdg_data [sdg_columns]\n",
    "sdg_data_only"
   ]
  },
  {
   "cell_type": "code",
   "execution_count": null,
   "id": "5f4aae81",
   "metadata": {},
   "outputs": [],
   "source": [
    "\n",
    "sdg_data_only "
   ]
  },
  {
   "cell_type": "code",
   "execution_count": null,
   "id": "5bbec30c",
   "metadata": {},
   "outputs": [],
   "source": [
    "region_selected = 'PHILIPPINES'\n",
    "\n",
    "region_df = sdg_data_only [sdg_data_only ['Geolocation'] == region_selected]\n",
    "region_df = pd.concat ([targets_df, region_df]).reset_index (drop = True)\n",
    "region_df = region_df.T\n",
    "region_df.columns = region_df.iloc [0]\n",
    "region_df = region_df.drop (['Geolocation', 'Year'], axis = 0)\n",
    "region_df = region_df.groupby ('Target Number', group_keys=True).mean ().T\n",
    "region_df = region_df.drop ([''], axis = 1)\n",
    "region_df"
   ]
  },
  {
   "cell_type": "code",
   "execution_count": null,
   "id": "d64918e1",
   "metadata": {},
   "outputs": [],
   "source": [
    "temp_sdg_info = sdg_info [['Target Number', 'Shortened Target']].drop_duplicates ()\n",
    "temp_sdg_info"
   ]
  },
  {
   "cell_type": "code",
   "execution_count": null,
   "id": "b2184d23",
   "metadata": {},
   "outputs": [],
   "source": [
    "new_col_names = []\n",
    "\n",
    "for target in region_df.columns:\n",
    "    info = list (temp_sdg_info [temp_sdg_info ['Target Number'] == target]['Shortened Target'].values) [0]\n",
    "    new_col_names.append (info)\n",
    "\n",
    "region_df.columns = new_col_names\n",
    "region_df"
   ]
  },
  {
   "cell_type": "code",
   "execution_count": null,
   "id": "164b55ff",
   "metadata": {},
   "outputs": [],
   "source": [
    "region_df_corr = region_df.corr ()"
   ]
  },
  {
   "cell_type": "code",
   "execution_count": null,
   "id": "f6821c18",
   "metadata": {},
   "outputs": [],
   "source": [
    "mask = np.zeros_like(region_df_corr, dtype=bool)\n",
    "mask[np.triu_indices_from(mask)] = True\n",
    "# Viz\n",
    "df_corr_viz = region_df_corr.mask(mask).dropna(how='all').dropna('columns', how='all')\n",
    "fig = px.imshow(df_corr_viz, text_auto=True)\n",
    "fig.show()"
   ]
  },
  {
   "cell_type": "markdown",
   "id": "25108ba7",
   "metadata": {},
   "source": [
    "## Choropleth Map: Selected Indicator and Selected Year"
   ]
  },
  {
   "cell_type": "markdown",
   "id": "d8a2ef6c",
   "metadata": {},
   "source": [
    "### Load Requirements"
   ]
  },
  {
   "cell_type": "code",
   "execution_count": null,
   "id": "26d13390",
   "metadata": {},
   "outputs": [],
   "source": [
    "gdf_shp = gpd.read_file('./data/geospatial_data/regional/regional_data.shp')\n",
    "region = gpd.read_file('./data/gadm_ph/gadm_regional.geojson').set_index('geolocation')\n",
    "sdg_data = pd.read_csv('data/sdg_data/updated_sdg_data.csv')\n",
    "px.set_mapbox_access_token(open(\".mapbox_token\").read())"
   ]
  },
  {
   "cell_type": "markdown",
   "id": "dc7fcbc6",
   "metadata": {},
   "source": [
    "### Fixing the Column Names in the Geospatial Data"
   ]
  },
  {
   "cell_type": "code",
   "execution_count": null,
   "id": "a920b981",
   "metadata": {},
   "outputs": [],
   "source": [
    "# Check the current column names\n",
    "gdf_shp.columns"
   ]
  },
  {
   "cell_type": "code",
   "execution_count": null,
   "id": "105fadbe",
   "metadata": {},
   "outputs": [],
   "source": [
    "# Check the correct format of column names (from SDG Data)\n",
    "sdg_data.columns"
   ]
  },
  {
   "cell_type": "code",
   "execution_count": null,
   "id": "f6ca0cb9",
   "metadata": {},
   "outputs": [],
   "source": [
    "# Matches the column names of the Geospatial Data to the SDG data (correct format)\n",
    "for i in range(len(sdg_data.columns)):\n",
    "    name_map = {gdf_shp.columns[i] : sdg_data.columns[i]}\n",
    "    gdf_shp.rename(columns=name_map, inplace=True)\n",
    "gdf_shp.columns"
   ]
  },
  {
   "cell_type": "code",
   "execution_count": null,
   "id": "99e01ade",
   "metadata": {},
   "outputs": [],
   "source": [
    "gdf_shp"
   ]
  },
  {
   "cell_type": "code",
   "execution_count": null,
   "id": "fbd96e6a",
   "metadata": {},
   "outputs": [],
   "source": [
    "def create_choropleth_data(selected_indicator):\n",
    "    # check if a csv file for this indicator already exists\n",
    "    check_file = os.path.isfile(selected_indicator+'.csv')\n",
    "    \n",
    "    # if csv file does not exist\n",
    "    if check_file == False:\n",
    "        gdf = gdf_shp[['geometry', 'Geolocation', 'Year', selected_indicator]]\n",
    "        pvt_gdf = pd.pivot_table(gdf, index='Geolocation', columns='Year', values=selected_indicator).reset_index()\n",
    "        pvt_gdf.to_csv('./data/indicator_csv/'+selected_indicator+'.csv', index = False)\n",
    "    \n",
    "    pvt_gdf = pd.read_csv('./data/indicator_csv/'+selected_indicator+'.csv')\n",
    "    \n",
    "    # Checking if there is year data based on the selected year and selected indicator \n",
    "    try:\n",
    "        year_list = pvt_gdf.columns [1:]\n",
    "        print (year_list)\n",
    "        # year_list = list(map(float, year_list))\n",
    "        year_list = list(map(int, year_list))\n",
    "        year_list = list(map(str, year_list))\n",
    "        print('Only available year data for this indicator: ' + ', '.join(year_list))\n",
    "        selected_year = input('Input year:').strip()\n",
    "        selected_year = str (selected_year)\n",
    "        \n",
    "        # year_list = list(map(float, year_list))\n",
    "        year_list = list(map(str, year_list))\n",
    "        list(year_list).index(str(selected_year))\n",
    "        print (year_list, ' ', selected_year, type (selected_year))\n",
    "        pvt_gdf = pvt_gdf[['Geolocation',  selected_year]]\n",
    "    except:\n",
    "        print('No data for ' + selected_year)\n",
    "        selected_year = input('Input year:') # Asks for year input again if no year data\n",
    "    print('\\n[SDG Indicator] ' + selected_indicator)\n",
    "    print('[Year Data] ' + selected_year)\n",
    "    return pvt_gdf, str(selected_year)"
   ]
  },
  {
   "cell_type": "code",
   "execution_count": null,
   "id": "9d48ccc6",
   "metadata": {},
   "outputs": [],
   "source": [
    "selected_indicator = '1.2.1 Poverty Proportion'"
   ]
  },
  {
   "cell_type": "code",
   "execution_count": null,
   "id": "715a8c02",
   "metadata": {},
   "outputs": [],
   "source": [
    "import os"
   ]
  },
  {
   "cell_type": "code",
   "execution_count": null,
   "id": "0de6ee50",
   "metadata": {},
   "outputs": [],
   "source": [
    "choropleth_data = create_choropleth_data(selected_indicator)"
   ]
  },
  {
   "cell_type": "code",
   "execution_count": null,
   "id": "21479915",
   "metadata": {},
   "outputs": [],
   "source": [
    "fig = px.choropleth_mapbox(choropleth_data[0],\n",
    "                          geojson=region.geometry,\n",
    "                          locations='Geolocation',\n",
    "                          color=choropleth_data[1],\n",
    "                          center={'lat': 12.099, 'lon': 122.733}, \n",
    "                          zoom = 4)\n",
    "fig.show()"
   ]
  },
  {
   "cell_type": "markdown",
   "id": "fd39c6c1",
   "metadata": {},
   "source": [
    "## Choropleth: Correlation Between the Two Chosen Indicators"
   ]
  },
  {
   "cell_type": "code",
   "execution_count": null,
   "id": "2ba65f8e",
   "metadata": {},
   "outputs": [],
   "source": [
    "selected_indicators = ['4.1 Elem Completion Rate (Male)', '4.1 Elem Completion Rate (Female)']"
   ]
  },
  {
   "cell_type": "code",
   "execution_count": null,
   "id": "7881e292-3040-4861-a83c-989fd30e539d",
   "metadata": {
    "tags": []
   },
   "outputs": [],
   "source": [
    "ind_1 = pd.read_csv('./data/indicator_csv/'+selected_indicators[0]+'.csv')\n",
    "ind_1"
   ]
  },
  {
   "cell_type": "code",
   "execution_count": null,
   "id": "f370bd04-45cc-482a-b474-c75530723fd0",
   "metadata": {
    "tags": []
   },
   "outputs": [],
   "source": [
    "ind_2 = pd.read_csv('./data/indicator_csv/'+selected_indicators[1]+'.csv')\n",
    "ind_2"
   ]
  },
  {
   "cell_type": "code",
   "execution_count": null,
   "id": "6ede70d8-244f-4c53-96e6-a3262f163886",
   "metadata": {},
   "outputs": [],
   "source": [
    "ind_2_T = ind_2.T \n",
    "ind_2_T "
   ]
  },
  {
   "cell_type": "code",
   "execution_count": null,
   "id": "98ffd8e7-89f7-42a9-b319-ada35dcda8af",
   "metadata": {
    "tags": []
   },
   "outputs": [],
   "source": [
    "ind_1_T = ind_1.T \n",
    "ind_1_T "
   ]
  },
  {
   "cell_type": "code",
   "execution_count": null,
   "id": "0a3a1efd-e2f0-453a-83f7-483a7114707f",
   "metadata": {},
   "outputs": [],
   "source": [
    "import numpy as np\n",
    "import scipy.stats"
   ]
  },
  {
   "cell_type": "code",
   "execution_count": null,
   "id": "33b29f7a-b4e4-421e-b273-61f19a04831f",
   "metadata": {
    "tags": []
   },
   "outputs": [],
   "source": [
    "data_regional_1 = ind_1_T[0]\n",
    "\n",
    "x= np.array(data_regional_1[1:])\n",
    "x"
   ]
  },
  {
   "cell_type": "code",
   "execution_count": null,
   "id": "57452258-9ac4-4ad1-9808-65bfe2918659",
   "metadata": {
    "tags": []
   },
   "outputs": [],
   "source": [
    "data_regional_2 = ind_2_T[0]\n",
    "\n",
    "y= np.array(data_regional_2[1:])\n",
    "y"
   ]
  },
  {
   "cell_type": "code",
   "execution_count": null,
   "id": "4d4f97c6-37d7-4170-a2ee-e65147e7b3b2",
   "metadata": {
    "tags": []
   },
   "outputs": [],
   "source": [
    "r, p = scipy.stats.pearsonr(x, y)\n",
    "r"
   ]
  },
  {
   "cell_type": "code",
   "execution_count": null,
   "id": "166291d3-ae3a-4794-9428-6bb98ceb8c10",
   "metadata": {
    "tags": []
   },
   "outputs": [],
   "source": [
    "df = pd.DataFrame([])\n",
    "df = df.append({'Geolocation': data_regional_2[0], \n",
    "        selected_indicators[0] + ' and ' + selected_indicators[1]: r}, ignore_index = True)\n",
    "display(df)"
   ]
  },
  {
   "cell_type": "code",
   "execution_count": null,
   "id": "50200b69-b986-4161-8926-b0dc1efcf3f8",
   "metadata": {},
   "outputs": [],
   "source": [
    "# Index(['Geolocation', 'Year', '1.2.1 Poverty Proportion',\n",
    "#        '1.4.1 Net Elem Enrolment Rate',\n",
    "#        '1.4.1 Net Elem Enrolment Rate (Girls)',\n",
    "#        '1.4.1 Net Elem Enrolment Rate (Boys)', '1.4.1 Net JHS Enrolment Rate',\n",
    "#        '1.4.1 Net JHS Enrolment Rate (Girls)',\n",
    "#        '1.4.1 Net JHS Enrolment Rate (Boys)', '1.4.1 Net SHS Enrolment Rate',\n",
    "#        '1.4.1 Net SHS Enrolment Rate (Girls)',\n",
    "#        '1.4.1 Net SHS Enrolment Rate (Boys)',\n",
    "#        '1.5.4 Proportion of LGU with DRR',\n",
    "#        '3.4.1 Mortality rate credited to NCD',\n",
    "#        '3.4.1 Mortality rate credited to Cardio',\n",
    "#        '3.4.1 Mortality rate credited to Cancer',\n",
    "#        '3.4.1 Mortality rate credited to Diabetes',\n",
    "#        '3.4.1 Mortality rate credited to Respi',\n",
    "#        '3.7.1 Proportion of Contraceptive Use of Women',\n",
    "#        '3.7.2 Teenage pregnancy rates per 1000', '4.1 Elem Completion Rate',\n",
    "#        '4.1 Elem Completion Rate (Female)', '4.1 Elem Completion Rate (Male)',\n",
    "#        '4.1 JHS Completion Rate', '4.1 JHS Completion Rate (Female)',\n",
    "#        '4.1 JHS Completion Rate (Male)', '4.1 SHS Completion Rate',\n",
    "#        '4.1 SHS Completion Rate (Female)', '4.1 SHS Completion Rate (Male)',\n",
    "#        '4.c TVET trainers trained', '7.1.1 Proportion of pop with electricity',\n",
    "#        '8.1.1 Growth rate of real GDP per capita',\n",
    "#        '10.1.1.1 Income per capita growth rate of bottom 40',\n",
    "#        '10.1.1.2 Income per capita growth rate',\n",
    "#        '14.5.1.1 Coverage of protected areas',\n",
    "#        '14.5.1.2 Coverage of protected NIPAS and Locally managed MPAs',\n",
    "#        '16.1.1 Victims of intentional homicide per 100,000',\n",
    "#        '16.1.s1 Number of murder cases', 'geometry'],\n",
    "#       dtype='object')"
   ]
  },
  {
   "cell_type": "code",
   "execution_count": null,
   "id": "0f425e41-ee75-4044-aab0-bc0bf585b151",
   "metadata": {},
   "outputs": [],
   "source": [
    "selected_indicators = ['4.1 JHS Completion Rate (Female)', '4.1 JHS Completion Rate (Male)']\n",
    "ind_1 = pd.read_csv('./data/indicator_csv/'+selected_indicators[0]+'.csv')\n",
    "ind_1_T = ind_1.T\n",
    "ind_2 = pd.read_csv('./data/indicator_csv/'+selected_indicators[1]+'.csv')\n",
    "ind_2_T = ind_2.T\n",
    "df = pd.DataFrame([])\n",
    "for i in range(17): \n",
    "    j = 1\n",
    "    print(i)\n",
    "    data_regional_1 = ind_1_T[i]\n",
    "    data_regional_2 = ind_2_T[i]\n",
    "    \n",
    "    if i == 3:\n",
    "        j = 3\n",
    "    x= np.array(data_regional_1[j:])\n",
    "    \n",
    "    \n",
    "    y= np.array(data_regional_2[j:])\n",
    "    \n",
    "    r, p = scipy.stats.pearsonr(x, y)\n",
    "    r\n",
    "    df = df.append({'Geolocation': data_regional_1[0], \n",
    "        selected_indicators[0] + ' and ' + selected_indicators[1]: r}, ignore_index = True)\n",
    "display(df)    "
   ]
  },
  {
   "cell_type": "code",
   "execution_count": null,
   "id": "2888dda7",
   "metadata": {},
   "outputs": [],
   "source": [
    "# temp_df = sdg_data [['Geolocation', 'Year', selected_indicator [0], selected_indicator [1]]]\n",
    "# temp_df = temp_df [temp_df ['Year'] == year_selected].T\n",
    "# temp_df.columns = temp_df.loc ['Geolocation']\n",
    "# temp_df = temp_df.drop (['Geolocation', 'Year'])\n",
    "# temp_df.T"
   ]
  },
  {
   "cell_type": "code",
   "execution_count": null,
   "id": "6a8586ad-b25e-4621-93b4-87adbef68fef",
   "metadata": {},
   "outputs": [],
   "source": [
    "region = gpd.read_file('./data/gadm_ph/gadm_regional.geojson').set_index('geolocation')\n",
    "px.set_mapbox_access_token(open(\".mapbox_token\").read())"
   ]
  },
  {
   "cell_type": "code",
   "execution_count": null,
   "id": "89351d74-fa80-437e-9975-fe07cb58d79b",
   "metadata": {
    "scrolled": true
   },
   "outputs": [],
   "source": [
    "fig = px.choropleth_mapbox(df,\n",
    "                          geojson=region.geometry,\n",
    "                          locations='Geolocation',\n",
    "                          color='4.1 JHS Completion Rate (Female) and 4.1 JHS Completion Rate (Male)',\n",
    "                          center={'lat': 12.099, 'lon': 122.733}, \n",
    "                          zoom = 4)\n",
    "fig.show()"
   ]
  },
  {
   "cell_type": "markdown",
   "id": "8ba8eedf-1753-40fb-87b4-e173eae53d69",
   "metadata": {},
   "source": [
    "## Choropleth Map: Area of each region"
   ]
  },
  {
   "cell_type": "code",
   "execution_count": null,
   "id": "b450d74b-e941-4892-8af6-a1309404ce14",
   "metadata": {},
   "outputs": [],
   "source": [
    "sdg_data = pd.read_csv('./data/sdg_data/combined_data.csv')\n",
    "sdg_data"
   ]
  },
  {
   "cell_type": "markdown",
   "id": "87863228-fdfd-4b3a-a0dd-8ab320c3d68a",
   "metadata": {},
   "source": [
    "### Data cleaning and preprocessing of Region-Area Dataset"
   ]
  },
  {
   "cell_type": "code",
   "execution_count": null,
   "id": "5679cfd9-611d-42d0-89f0-95fc79002998",
   "metadata": {},
   "outputs": [],
   "source": [
    "df = pd.read_csv('./data/region_area.csv')\n",
    "df"
   ]
  },
  {
   "cell_type": "code",
   "execution_count": null,
   "id": "d92278cf-0f76-4493-a94d-e7ae0212a84a",
   "metadata": {},
   "outputs": [],
   "source": [
    "sdg= sdg_data['Geolocation'].unique()[1:]\n",
    "sdg = pd.DataFrame({'Geolocation' : sdg})\n",
    "geo = pd.DataFrame(df['Area'])              \n",
    "\n",
    "updated_region_area = pd.concat ([sdg, geo['Area']], axis = 1)"
   ]
  },
  {
   "cell_type": "code",
   "execution_count": null,
   "id": "3ea3833a",
   "metadata": {},
   "outputs": [],
   "source": [
    "for i in range(len(updated_region_area)):\n",
    "    area = float(updated_region_area.loc[i, 'Area'].replace(\",\", \"\").split(' ')[0])\n",
    "    updated_region_area['Area'] = updated_region_area['Area'].replace(\n",
    "                                    [updated_region_area.loc[i, 'Area']], \n",
    "                                    area)"
   ]
  },
  {
   "cell_type": "code",
   "execution_count": null,
   "id": "8024613f",
   "metadata": {},
   "outputs": [],
   "source": [
    "updated_region_area"
   ]
  },
  {
   "cell_type": "markdown",
   "id": "671f56b8-92b0-42fd-9ce0-ce5adb43164d",
   "metadata": {},
   "source": [
    "### Generating the choropleth map"
   ]
  },
  {
   "cell_type": "code",
   "execution_count": null,
   "id": "eb8edd70-d4bf-4c33-9b38-1d03b5719550",
   "metadata": {},
   "outputs": [],
   "source": [
    "fig = px.choropleth_mapbox(updated_region_area,\n",
    "                          geojson=region.geometry,\n",
    "                          locations='Geolocation',\n",
    "                          color='Area',\n",
    "                          center={'lat': 12.099, 'lon': 122.733}, \n",
    "                          zoom = 4)\n",
    "fig.show()"
   ]
  },
  {
   "cell_type": "markdown",
   "id": "c1c27b80",
   "metadata": {},
   "source": [
    "# Functions related to Generating Choropleth Maps"
   ]
  },
  {
   "cell_type": "code",
   "execution_count": null,
   "id": "5a2fefd5",
   "metadata": {},
   "outputs": [],
   "source": [
    "# Function for creating CSV for Correlation between 2 indicators \n",
    "def create_csv_correlation_2_ind(selected_indicators):\n",
    "    ind_1 = pd.read_csv('./data/indicator_csv/'+selected_indicators[0]+'.csv')\n",
    "    ind_2 = pd.read_csv('./data/indicator_csv/'+selected_indicators[1]+'.csv')\n",
    "    ind_1_T = ind_1.T\n",
    "    ind_2_T = ind_2.T\n",
    "    \n",
    "    df = pd.DataFrame([])\n",
    "    \n",
    "    for i in range(17): \n",
    "        data_regional_1 = ind_1_T[i]\n",
    "        data_regional_2 = ind_2_T[i]\n",
    "        \n",
    "        x= np.array(data_regional_1[j:])\n",
    "        y= np.array(data_regional_2[j:])\n",
    "        r, p = scipy.stats.pearsonr(x, y)\n",
    "        \n",
    "        df = df.append({'Geolocation': data_regional_1[0], \n",
    "            selected_indicators[0] + ' and ' + selected_indicators[1]: r}, ignore_index = True)\n",
    "    display(df)\n",
    "\n",
    "# Function for creating CSV for 1 SDG indicator \n",
    "def create_csv_sdg_1_ind(selected_indicator):\n",
    "    gdf = gdf_shp[['geometry', 'Geolocation', 'Year', selected_indicator]]\n",
    "    pvt_gdf = pd.pivot_table(gdf, index='Geolocation', columns='Year', values=selected_indicator).reset_index()\n",
    "    pvt_gdf.to_csv('./data/indicator_csv/'+selected_indicator+'.csv', index = False)\n",
    "\n",
    "# Function for creating CSV for 1 SDG indicator Choropleth Map\n",
    "def choropleth_map_1_ind(selected_indicator):\n",
    "    # check if a csv file for this indicator already exists\n",
    "    check_file = os.path.isfile(selected_indicator+'.csv')\n",
    "    \n",
    "    # if csv file does not exist\n",
    "    if check_file == False:\n",
    "        create_csv_sdg_1_ind(selected_indicator)\n",
    "    pvt_gdf = pd.read_csv('./data/indicator_csv/'+selected_indicator+'.csv')\n",
    "    \n",
    "    # Checking if there is year data based on the selected year and selected indicator \n",
    "    try:\n",
    "        year_list = pvt_gdf.columns [1:]\n",
    "        print (year_list)\n",
    "        # year_list = list(map(float, year_list))\n",
    "        year_list = list(map(int, year_list))\n",
    "        year_list = list(map(str, year_list))\n",
    "        print('Only available year data for this indicator: ' + ', '.join(year_list))\n",
    "        selected_year = input('Input year:').strip()\n",
    "        selected_year = str (selected_year)\n",
    "        \n",
    "        # year_list = list(map(float, year_list))\n",
    "        year_list = list(map(str, year_list))\n",
    "        list(year_list).index(str(selected_year))\n",
    "        print (year_list, ' ', selected_year, type (selected_year))\n",
    "        pvt_gdf = pvt_gdf[['Geolocation',  selected_year]]\n",
    "    except:\n",
    "        print('No data for ' + selected_year)\n",
    "        selected_year = input('Input year:') # Asks for year input again if no year data\n",
    "    print('\\n[SDG Indicator] ' + selected_indicator)\n",
    "    print('[Year Data] ' + selected_year)\n",
    "    return pvt_gdf, str(selected_year)\n",
    "\n",
    "# Function for creating Correlation Choropleth Map\n",
    "def choropleth_map_2_ind(corr_df):\n",
    "    fig = px.choropleth_mapbox(corr_df,\n",
    "                          geojson=region.geometry,\n",
    "                          locations='Geolocation',\n",
    "                          color=corr_df.columns[1],\n",
    "                          center={'lat': 12.099, 'lon': 122.733}, \n",
    "                          zoom = 4)\n",
    "    fig.show()\n",
    "    \n",
    "# Function for identifying number of selected indicators before generating a choropleth map\n",
    "def generate_choropleth(selected_indicators):\n",
    "    indicator_str = len(selected_indicators)\n",
    "    \n",
    "    if indicator_str == 1:\n",
    "        chropleth_map_1_ind(selected_indicator[0])\n",
    "    elif indicator_Str == 2:\n",
    "        corr_df = pd.read_csv('./data/indicator_csv/'+selected_indicators[0] + ' and ' + selected_indicators[1]+'.csv')\n",
    "        choropleth_map_2_ind(corr_df)\n",
    "    else:\n",
    "        print(\"No selected indicators!\")"
   ]
  },
  {
   "cell_type": "markdown",
   "id": "3b00a02f-72d1-4907-9a8c-5abcbd6601eb",
   "metadata": {},
   "source": [
    "### Trial for creating Correlation Dataset CSV per pair indicators"
   ]
  },
  {
   "cell_type": "code",
   "execution_count": null,
   "id": "263c2364-a287-4b98-bffd-4da0b0424d2a",
   "metadata": {},
   "outputs": [],
   "source": [
    "indicators = ['1.2.1 Poverty Proportion',\n",
    "       '1.4.1 Net Elem Enrolment Rate',\n",
    "       '1.4.1 Net Elem Enrolment Rate (Girls)',\n",
    "       '1.4.1 Net Elem Enrolment Rate (Boys)', '1.4.1 Net JHS Enrolment Rate',\n",
    "       '1.4.1 Net JHS Enrolment Rate (Girls)',\n",
    "       '1.4.1 Net JHS Enrolment Rate (Boys)', '1.4.1 Net SHS Enrolment Rate',\n",
    "       '1.4.1 Net SHS Enrolment Rate (Girls)',\n",
    "       '1.4.1 Net SHS Enrolment Rate (Boys)',\n",
    "       '1.5.4 Proportion of LGU with DRR',\n",
    "       '3.4.1 Mortality rate credited to NCD',\n",
    "       '3.4.1 Mortality rate credited to Cardio',\n",
    "       '3.4.1 Mortality rate credited to Cancer',\n",
    "       '3.4.1 Mortality rate credited to Diabetes',\n",
    "       '3.4.1 Mortality rate credited to Respi',\n",
    "       '3.7.1 Proportion of Contraceptive Use of Women',\n",
    "       '3.7.2 Teenage pregnancy rates per 1000', '4.1 Elem Completion Rate',\n",
    "       '4.1 Elem Completion Rate (Female)', '4.1 Elem Completion Rate (Male)',\n",
    "       '4.1 JHS Completion Rate', '4.1 JHS Completion Rate (Female)',\n",
    "       '4.1 JHS Completion Rate (Male)', '4.1 SHS Completion Rate',\n",
    "       '4.1 SHS Completion Rate (Female)', '4.1 SHS Completion Rate (Male)',\n",
    "       '4.c TVET trainers trained', '7.1.1 Proportion of pop with electricity',\n",
    "       '8.1.1 Growth rate of real GDP per capita',\n",
    "       '10.1.1.1 Income per capita growth rate of bottom 40',\n",
    "       '10.1.1.2 Income per capita growth rate',\n",
    "       '14.5.1.1 Coverage of protected areas',\n",
    "       '14.5.1.2 Coverage of protected NIPAS and Locally managed MPAs',\n",
    "       '16.1.1 Victims of intentional homicide per 100,000',\n",
    "       '16.1.s1 Number of murder cases']\n",
    "len(indicators)"
   ]
  },
  {
   "cell_type": "code",
   "execution_count": null,
   "id": "5c9d2a93-8e56-4c15-894e-6fafd253dc92",
   "metadata": {},
   "outputs": [],
   "source": [
    "from itertools import combinations\n",
    "import numpy as np"
   ]
  },
  {
   "cell_type": "code",
   "execution_count": null,
   "id": "eadf5817-88ea-4bf8-b086-5b8c4764caf9",
   "metadata": {},
   "outputs": [],
   "source": [
    "res = list(combinations(indicators, 2))\n",
    " \n",
    "# printing result\n",
    "for i in range(len(res)):\n",
    "    print(\"Pair #\"+ str(i) + \" \" + str(res[i]))\n",
    "q = np.array(res)"
   ]
  }
 ],
 "metadata": {
  "kernelspec": {
   "display_name": "Python 3 (ipykernel)",
   "language": "python",
   "name": "python3"
  },
  "language_info": {
   "codemirror_mode": {
    "name": "ipython",
    "version": 3
   },
   "file_extension": ".py",
   "mimetype": "text/x-python",
   "name": "python",
   "nbconvert_exporter": "python",
   "pygments_lexer": "ipython3",
   "version": "3.8.8"
  },
  "toc": {
   "base_numbering": 1,
   "nav_menu": {},
   "number_sections": true,
   "sideBar": true,
   "skip_h1_title": false,
   "title_cell": "Table of Contents",
   "title_sidebar": "Contents",
   "toc_cell": false,
   "toc_position": {},
   "toc_section_display": true,
   "toc_window_display": false
  },
  "varInspector": {
   "cols": {
    "lenName": 16,
    "lenType": 16,
    "lenVar": 40
   },
   "kernels_config": {
    "python": {
     "delete_cmd_postfix": "",
     "delete_cmd_prefix": "del ",
     "library": "var_list.py",
     "varRefreshCmd": "print(var_dic_list())"
    },
    "r": {
     "delete_cmd_postfix": ") ",
     "delete_cmd_prefix": "rm(",
     "library": "var_list.r",
     "varRefreshCmd": "cat(var_dic_list()) "
    }
   },
   "types_to_exclude": [
    "module",
    "function",
    "builtin_function_or_method",
    "instance",
    "_Feature"
   ],
   "window_display": false
  }
 },
 "nbformat": 4,
 "nbformat_minor": 5
}
