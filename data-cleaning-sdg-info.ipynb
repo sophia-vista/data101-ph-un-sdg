{
 "cells": [
  {
   "cell_type": "code",
   "execution_count": 13,
   "id": "27ba3f76",
   "metadata": {},
   "outputs": [],
   "source": [
    "import pandas as pd\n",
    "import numpy as np\n",
    "import plotly.express as px"
   ]
  },
  {
   "cell_type": "code",
   "execution_count": 14,
   "id": "e87d8b14",
   "metadata": {},
   "outputs": [
    {
     "data": {
      "text/html": [
       "<div>\n",
       "<style scoped>\n",
       "    .dataframe tbody tr th:only-of-type {\n",
       "        vertical-align: middle;\n",
       "    }\n",
       "\n",
       "    .dataframe tbody tr th {\n",
       "        vertical-align: top;\n",
       "    }\n",
       "\n",
       "    .dataframe thead th {\n",
       "        text-align: right;\n",
       "    }\n",
       "</style>\n",
       "<table border=\"1\" class=\"dataframe\">\n",
       "  <thead>\n",
       "    <tr style=\"text-align: right;\">\n",
       "      <th></th>\n",
       "      <th>Main SDG</th>\n",
       "      <th>Target Number</th>\n",
       "      <th>Target</th>\n",
       "      <th>Target Information</th>\n",
       "      <th>Indicator</th>\n",
       "      <th>Indicator Information</th>\n",
       "    </tr>\n",
       "  </thead>\n",
       "  <tbody>\n",
       "    <tr>\n",
       "      <th>0</th>\n",
       "      <td>No Poverty</td>\n",
       "      <td>1.1.</td>\n",
       "      <td>By 2030, achieve the complete elimination of e...</td>\n",
       "      <td>NaN</td>\n",
       "      <td>1.1.1. Proportion of the population living bel...</td>\n",
       "      <td>NaN</td>\n",
       "    </tr>\n",
       "    <tr>\n",
       "      <th>1</th>\n",
       "      <td>No Poverty</td>\n",
       "      <td>1.2.</td>\n",
       "      <td>By 2030, the proportion of men, women and chil...</td>\n",
       "      <td>NaN</td>\n",
       "      <td>1.2.1. Proportion of population living below t...</td>\n",
       "      <td>NaN</td>\n",
       "    </tr>\n",
       "    <tr>\n",
       "      <th>2</th>\n",
       "      <td>No Poverty</td>\n",
       "      <td>1.2.</td>\n",
       "      <td>By 2030, the proportion of men, women and chil...</td>\n",
       "      <td>NaN</td>\n",
       "      <td>1.2.2. Proportion of men, women and children o...</td>\n",
       "      <td>NaN</td>\n",
       "    </tr>\n",
       "    <tr>\n",
       "      <th>3</th>\n",
       "      <td>No Poverty</td>\n",
       "      <td>1.3.</td>\n",
       "      <td>By 2030, the aim is to achieve significant cov...</td>\n",
       "      <td>NaN</td>\n",
       "      <td>1.3.1. Proportion of population covered by soc...</td>\n",
       "      <td>NaN</td>\n",
       "    </tr>\n",
       "    <tr>\n",
       "      <th>4</th>\n",
       "      <td>No Poverty</td>\n",
       "      <td>1.4.</td>\n",
       "      <td>By 2030, guarantee equal rights for all indivi...</td>\n",
       "      <td>This includes ensuring equitable access to ess...</td>\n",
       "      <td>1.4.1. Proportion of population living in hous...</td>\n",
       "      <td>NaN</td>\n",
       "    </tr>\n",
       "    <tr>\n",
       "      <th>...</th>\n",
       "      <td>...</td>\n",
       "      <td>...</td>\n",
       "      <td>...</td>\n",
       "      <td>...</td>\n",
       "      <td>...</td>\n",
       "      <td>...</td>\n",
       "    </tr>\n",
       "    <tr>\n",
       "      <th>62</th>\n",
       "      <td>Quality Education</td>\n",
       "      <td>4.6.</td>\n",
       "      <td>By 2030, guarantee that every young person and...</td>\n",
       "      <td>NaN</td>\n",
       "      <td>4.6.1. Proportion of population in a given age...</td>\n",
       "      <td>NaN</td>\n",
       "    </tr>\n",
       "    <tr>\n",
       "      <th>63</th>\n",
       "      <td>Quality Education</td>\n",
       "      <td>4.7.</td>\n",
       "      <td>By 2030, guarantee that all individuals attain...</td>\n",
       "      <td>This encompasses various aspects such as educa...</td>\n",
       "      <td>4.7.1. Extent to which (i) global citizenship ...</td>\n",
       "      <td>NaN</td>\n",
       "    </tr>\n",
       "    <tr>\n",
       "      <th>64</th>\n",
       "      <td>Quality Education</td>\n",
       "      <td>4.a.</td>\n",
       "      <td>Construct and improve educational infrastructu...</td>\n",
       "      <td>These facilities should provide secure, non-vi...</td>\n",
       "      <td>4.a.1. Proportion of schools offering basic se...</td>\n",
       "      <td>NaN</td>\n",
       "    </tr>\n",
       "    <tr>\n",
       "      <th>65</th>\n",
       "      <td>Quality Education</td>\n",
       "      <td>4.b.</td>\n",
       "      <td>By 2020, significantly increase the global num...</td>\n",
       "      <td>These scholarships aim to facilitate enrollmen...</td>\n",
       "      <td>4.b.1. Volume of official development assistan...</td>\n",
       "      <td>NaN</td>\n",
       "    </tr>\n",
       "    <tr>\n",
       "      <th>66</th>\n",
       "      <td>Quality Education</td>\n",
       "      <td>4.c.</td>\n",
       "      <td>By  2030, significantly enhance the availabili...</td>\n",
       "      <td>NaN</td>\n",
       "      <td>4.c.1. Proportion of teachers with the minimum...</td>\n",
       "      <td>NaN</td>\n",
       "    </tr>\n",
       "  </tbody>\n",
       "</table>\n",
       "<p>67 rows × 6 columns</p>\n",
       "</div>"
      ],
      "text/plain": [
       "             Main SDG Target Number  \\\n",
       "0          No Poverty          1.1.   \n",
       "1          No Poverty          1.2.   \n",
       "2          No Poverty          1.2.   \n",
       "3          No Poverty          1.3.   \n",
       "4          No Poverty          1.4.   \n",
       "..                ...           ...   \n",
       "62  Quality Education          4.6.   \n",
       "63  Quality Education          4.7.   \n",
       "64  Quality Education          4.a.   \n",
       "65  Quality Education          4.b.   \n",
       "66  Quality Education          4.c.   \n",
       "\n",
       "                                               Target  \\\n",
       "0   By 2030, achieve the complete elimination of e...   \n",
       "1   By 2030, the proportion of men, women and chil...   \n",
       "2   By 2030, the proportion of men, women and chil...   \n",
       "3   By 2030, the aim is to achieve significant cov...   \n",
       "4   By 2030, guarantee equal rights for all indivi...   \n",
       "..                                                ...   \n",
       "62  By 2030, guarantee that every young person and...   \n",
       "63  By 2030, guarantee that all individuals attain...   \n",
       "64  Construct and improve educational infrastructu...   \n",
       "65  By 2020, significantly increase the global num...   \n",
       "66  By  2030, significantly enhance the availabili...   \n",
       "\n",
       "                                   Target Information  \\\n",
       "0                                                 NaN   \n",
       "1                                                 NaN   \n",
       "2                                                 NaN   \n",
       "3                                                 NaN   \n",
       "4   This includes ensuring equitable access to ess...   \n",
       "..                                                ...   \n",
       "62                                                NaN   \n",
       "63  This encompasses various aspects such as educa...   \n",
       "64  These facilities should provide secure, non-vi...   \n",
       "65  These scholarships aim to facilitate enrollmen...   \n",
       "66                                                NaN   \n",
       "\n",
       "                                            Indicator  Indicator Information  \n",
       "0   1.1.1. Proportion of the population living bel...                    NaN  \n",
       "1   1.2.1. Proportion of population living below t...                    NaN  \n",
       "2   1.2.2. Proportion of men, women and children o...                    NaN  \n",
       "3   1.3.1. Proportion of population covered by soc...                    NaN  \n",
       "4   1.4.1. Proportion of population living in hous...                    NaN  \n",
       "..                                                ...                    ...  \n",
       "62  4.6.1. Proportion of population in a given age...                    NaN  \n",
       "63  4.7.1. Extent to which (i) global citizenship ...                    NaN  \n",
       "64  4.a.1. Proportion of schools offering basic se...                    NaN  \n",
       "65  4.b.1. Volume of official development assistan...                    NaN  \n",
       "66  4.c.1. Proportion of teachers with the minimum...                    NaN  \n",
       "\n",
       "[67 rows x 6 columns]"
      ]
     },
     "execution_count": 14,
     "metadata": {},
     "output_type": "execute_result"
    }
   ],
   "source": [
    "sdg_info_df = pd.read_csv ('./data/sdg_info.csv')\n",
    "sdg_info_df"
   ]
  },
  {
   "cell_type": "code",
   "execution_count": 15,
   "id": "b317cd07",
   "metadata": {},
   "outputs": [
    {
     "data": {
      "text/plain": [
       "array(['No Poverty', 'Zero Hunger', 'Good Health and Well-Being',\n",
       "       'Quality Education'], dtype=object)"
      ]
     },
     "execution_count": 15,
     "metadata": {},
     "output_type": "execute_result"
    }
   ],
   "source": [
    "sdg_main = sdg_info_df ['Main SDG']\n",
    "sdg_main = sdg_main.unique ()\n",
    "sdg_main"
   ]
  },
  {
   "cell_type": "code",
   "execution_count": 16,
   "id": "23c3e3c2",
   "metadata": {},
   "outputs": [
    {
     "data": {
      "text/html": [
       "<div>\n",
       "<style scoped>\n",
       "    .dataframe tbody tr th:only-of-type {\n",
       "        vertical-align: middle;\n",
       "    }\n",
       "\n",
       "    .dataframe tbody tr th {\n",
       "        vertical-align: top;\n",
       "    }\n",
       "\n",
       "    .dataframe thead th {\n",
       "        text-align: right;\n",
       "    }\n",
       "</style>\n",
       "<table border=\"1\" class=\"dataframe\">\n",
       "  <thead>\n",
       "    <tr style=\"text-align: right;\">\n",
       "      <th></th>\n",
       "      <th>Main SDG</th>\n",
       "      <th>Target Number</th>\n",
       "      <th>Target</th>\n",
       "      <th>Target Information</th>\n",
       "      <th>Indicator</th>\n",
       "      <th>Indicator Information</th>\n",
       "      <th>SDG</th>\n",
       "    </tr>\n",
       "  </thead>\n",
       "  <tbody>\n",
       "    <tr>\n",
       "      <th>0</th>\n",
       "      <td>No Poverty</td>\n",
       "      <td>1.1.</td>\n",
       "      <td>By 2030, achieve the complete elimination of e...</td>\n",
       "      <td>NaN</td>\n",
       "      <td>1.1.1. Proportion of the population living bel...</td>\n",
       "      <td>NaN</td>\n",
       "      <td>SDG</td>\n",
       "    </tr>\n",
       "    <tr>\n",
       "      <th>1</th>\n",
       "      <td>No Poverty</td>\n",
       "      <td>1.2.</td>\n",
       "      <td>By 2030, the proportion of men, women and chil...</td>\n",
       "      <td>NaN</td>\n",
       "      <td>1.2.1. Proportion of population living below t...</td>\n",
       "      <td>NaN</td>\n",
       "      <td>SDG</td>\n",
       "    </tr>\n",
       "    <tr>\n",
       "      <th>2</th>\n",
       "      <td>No Poverty</td>\n",
       "      <td>1.2.</td>\n",
       "      <td>By 2030, the proportion of men, women and chil...</td>\n",
       "      <td>NaN</td>\n",
       "      <td>1.2.2. Proportion of men, women and children o...</td>\n",
       "      <td>NaN</td>\n",
       "      <td>SDG</td>\n",
       "    </tr>\n",
       "    <tr>\n",
       "      <th>3</th>\n",
       "      <td>No Poverty</td>\n",
       "      <td>1.3.</td>\n",
       "      <td>By 2030, the aim is to achieve significant cov...</td>\n",
       "      <td>NaN</td>\n",
       "      <td>1.3.1. Proportion of population covered by soc...</td>\n",
       "      <td>NaN</td>\n",
       "      <td>SDG</td>\n",
       "    </tr>\n",
       "    <tr>\n",
       "      <th>4</th>\n",
       "      <td>No Poverty</td>\n",
       "      <td>1.4.</td>\n",
       "      <td>By 2030, guarantee equal rights for all indivi...</td>\n",
       "      <td>This includes ensuring equitable access to ess...</td>\n",
       "      <td>1.4.1. Proportion of population living in hous...</td>\n",
       "      <td>NaN</td>\n",
       "      <td>SDG</td>\n",
       "    </tr>\n",
       "    <tr>\n",
       "      <th>...</th>\n",
       "      <td>...</td>\n",
       "      <td>...</td>\n",
       "      <td>...</td>\n",
       "      <td>...</td>\n",
       "      <td>...</td>\n",
       "      <td>...</td>\n",
       "      <td>...</td>\n",
       "    </tr>\n",
       "    <tr>\n",
       "      <th>62</th>\n",
       "      <td>Quality Education</td>\n",
       "      <td>4.6.</td>\n",
       "      <td>By 2030, guarantee that every young person and...</td>\n",
       "      <td>NaN</td>\n",
       "      <td>4.6.1. Proportion of population in a given age...</td>\n",
       "      <td>NaN</td>\n",
       "      <td>SDG</td>\n",
       "    </tr>\n",
       "    <tr>\n",
       "      <th>63</th>\n",
       "      <td>Quality Education</td>\n",
       "      <td>4.7.</td>\n",
       "      <td>By 2030, guarantee that all individuals attain...</td>\n",
       "      <td>This encompasses various aspects such as educa...</td>\n",
       "      <td>4.7.1. Extent to which (i) global citizenship ...</td>\n",
       "      <td>NaN</td>\n",
       "      <td>SDG</td>\n",
       "    </tr>\n",
       "    <tr>\n",
       "      <th>64</th>\n",
       "      <td>Quality Education</td>\n",
       "      <td>4.a.</td>\n",
       "      <td>Construct and improve educational infrastructu...</td>\n",
       "      <td>These facilities should provide secure, non-vi...</td>\n",
       "      <td>4.a.1. Proportion of schools offering basic se...</td>\n",
       "      <td>NaN</td>\n",
       "      <td>SDG</td>\n",
       "    </tr>\n",
       "    <tr>\n",
       "      <th>65</th>\n",
       "      <td>Quality Education</td>\n",
       "      <td>4.b.</td>\n",
       "      <td>By 2020, significantly increase the global num...</td>\n",
       "      <td>These scholarships aim to facilitate enrollmen...</td>\n",
       "      <td>4.b.1. Volume of official development assistan...</td>\n",
       "      <td>NaN</td>\n",
       "      <td>SDG</td>\n",
       "    </tr>\n",
       "    <tr>\n",
       "      <th>66</th>\n",
       "      <td>Quality Education</td>\n",
       "      <td>4.c.</td>\n",
       "      <td>By  2030, significantly enhance the availabili...</td>\n",
       "      <td>NaN</td>\n",
       "      <td>4.c.1. Proportion of teachers with the minimum...</td>\n",
       "      <td>NaN</td>\n",
       "      <td>SDG</td>\n",
       "    </tr>\n",
       "  </tbody>\n",
       "</table>\n",
       "<p>67 rows × 7 columns</p>\n",
       "</div>"
      ],
      "text/plain": [
       "             Main SDG Target Number  \\\n",
       "0          No Poverty          1.1.   \n",
       "1          No Poverty          1.2.   \n",
       "2          No Poverty          1.2.   \n",
       "3          No Poverty          1.3.   \n",
       "4          No Poverty          1.4.   \n",
       "..                ...           ...   \n",
       "62  Quality Education          4.6.   \n",
       "63  Quality Education          4.7.   \n",
       "64  Quality Education          4.a.   \n",
       "65  Quality Education          4.b.   \n",
       "66  Quality Education          4.c.   \n",
       "\n",
       "                                               Target  \\\n",
       "0   By 2030, achieve the complete elimination of e...   \n",
       "1   By 2030, the proportion of men, women and chil...   \n",
       "2   By 2030, the proportion of men, women and chil...   \n",
       "3   By 2030, the aim is to achieve significant cov...   \n",
       "4   By 2030, guarantee equal rights for all indivi...   \n",
       "..                                                ...   \n",
       "62  By 2030, guarantee that every young person and...   \n",
       "63  By 2030, guarantee that all individuals attain...   \n",
       "64  Construct and improve educational infrastructu...   \n",
       "65  By 2020, significantly increase the global num...   \n",
       "66  By  2030, significantly enhance the availabili...   \n",
       "\n",
       "                                   Target Information  \\\n",
       "0                                                 NaN   \n",
       "1                                                 NaN   \n",
       "2                                                 NaN   \n",
       "3                                                 NaN   \n",
       "4   This includes ensuring equitable access to ess...   \n",
       "..                                                ...   \n",
       "62                                                NaN   \n",
       "63  This encompasses various aspects such as educa...   \n",
       "64  These facilities should provide secure, non-vi...   \n",
       "65  These scholarships aim to facilitate enrollmen...   \n",
       "66                                                NaN   \n",
       "\n",
       "                                            Indicator  Indicator Information  \\\n",
       "0   1.1.1. Proportion of the population living bel...                    NaN   \n",
       "1   1.2.1. Proportion of population living below t...                    NaN   \n",
       "2   1.2.2. Proportion of men, women and children o...                    NaN   \n",
       "3   1.3.1. Proportion of population covered by soc...                    NaN   \n",
       "4   1.4.1. Proportion of population living in hous...                    NaN   \n",
       "..                                                ...                    ...   \n",
       "62  4.6.1. Proportion of population in a given age...                    NaN   \n",
       "63  4.7.1. Extent to which (i) global citizenship ...                    NaN   \n",
       "64  4.a.1. Proportion of schools offering basic se...                    NaN   \n",
       "65  4.b.1. Volume of official development assistan...                    NaN   \n",
       "66  4.c.1. Proportion of teachers with the minimum...                    NaN   \n",
       "\n",
       "    SDG  \n",
       "0   SDG  \n",
       "1   SDG  \n",
       "2   SDG  \n",
       "3   SDG  \n",
       "4   SDG  \n",
       "..  ...  \n",
       "62  SDG  \n",
       "63  SDG  \n",
       "64  SDG  \n",
       "65  SDG  \n",
       "66  SDG  \n",
       "\n",
       "[67 rows x 7 columns]"
      ]
     },
     "execution_count": 16,
     "metadata": {},
     "output_type": "execute_result"
    }
   ],
   "source": [
    "sdg_info_df ['SDG'] = 'SDG'\n",
    "sdg_info_df"
   ]
  },
  {
   "cell_type": "code",
   "execution_count": 17,
   "id": "8d5f3437",
   "metadata": {},
   "outputs": [
    {
     "data": {
      "text/html": [
       "<div>\n",
       "<style scoped>\n",
       "    .dataframe tbody tr th:only-of-type {\n",
       "        vertical-align: middle;\n",
       "    }\n",
       "\n",
       "    .dataframe tbody tr th {\n",
       "        vertical-align: top;\n",
       "    }\n",
       "\n",
       "    .dataframe thead th {\n",
       "        text-align: right;\n",
       "    }\n",
       "</style>\n",
       "<table border=\"1\" class=\"dataframe\">\n",
       "  <thead>\n",
       "    <tr style=\"text-align: right;\">\n",
       "      <th></th>\n",
       "      <th>Main SDG</th>\n",
       "      <th>Target Number</th>\n",
       "      <th>Target</th>\n",
       "      <th>Target Information</th>\n",
       "      <th>Indicator</th>\n",
       "      <th>SDG</th>\n",
       "    </tr>\n",
       "  </thead>\n",
       "  <tbody>\n",
       "    <tr>\n",
       "      <th>0</th>\n",
       "      <td>No Poverty</td>\n",
       "      <td>1.1.</td>\n",
       "      <td>By 2030, achieve the complete elimination of e...</td>\n",
       "      <td>NaN</td>\n",
       "      <td>1.1.1. Proportion of the population living bel...</td>\n",
       "      <td>SDG</td>\n",
       "    </tr>\n",
       "    <tr>\n",
       "      <th>1</th>\n",
       "      <td>No Poverty</td>\n",
       "      <td>1.2.</td>\n",
       "      <td>By 2030, the proportion of men, women and chil...</td>\n",
       "      <td>NaN</td>\n",
       "      <td>1.2.1. Proportion of population living below t...</td>\n",
       "      <td>SDG</td>\n",
       "    </tr>\n",
       "    <tr>\n",
       "      <th>2</th>\n",
       "      <td>No Poverty</td>\n",
       "      <td>1.2.</td>\n",
       "      <td>By 2030, the proportion of men, women and chil...</td>\n",
       "      <td>NaN</td>\n",
       "      <td>1.2.2. Proportion of men, women and children o...</td>\n",
       "      <td>SDG</td>\n",
       "    </tr>\n",
       "    <tr>\n",
       "      <th>3</th>\n",
       "      <td>No Poverty</td>\n",
       "      <td>1.3.</td>\n",
       "      <td>By 2030, the aim is to achieve significant cov...</td>\n",
       "      <td>NaN</td>\n",
       "      <td>1.3.1. Proportion of population covered by soc...</td>\n",
       "      <td>SDG</td>\n",
       "    </tr>\n",
       "    <tr>\n",
       "      <th>4</th>\n",
       "      <td>No Poverty</td>\n",
       "      <td>1.4.</td>\n",
       "      <td>By 2030, guarantee equal rights for all indivi...</td>\n",
       "      <td>This includes ensuring equitable access to ess...</td>\n",
       "      <td>1.4.1. Proportion of population living in hous...</td>\n",
       "      <td>SDG</td>\n",
       "    </tr>\n",
       "    <tr>\n",
       "      <th>...</th>\n",
       "      <td>...</td>\n",
       "      <td>...</td>\n",
       "      <td>...</td>\n",
       "      <td>...</td>\n",
       "      <td>...</td>\n",
       "      <td>...</td>\n",
       "    </tr>\n",
       "    <tr>\n",
       "      <th>62</th>\n",
       "      <td>Quality Education</td>\n",
       "      <td>4.6.</td>\n",
       "      <td>By 2030, guarantee that every young person and...</td>\n",
       "      <td>NaN</td>\n",
       "      <td>4.6.1. Proportion of population in a given age...</td>\n",
       "      <td>SDG</td>\n",
       "    </tr>\n",
       "    <tr>\n",
       "      <th>63</th>\n",
       "      <td>Quality Education</td>\n",
       "      <td>4.7.</td>\n",
       "      <td>By 2030, guarantee that all individuals attain...</td>\n",
       "      <td>This encompasses various aspects such as educa...</td>\n",
       "      <td>4.7.1. Extent to which (i) global citizenship ...</td>\n",
       "      <td>SDG</td>\n",
       "    </tr>\n",
       "    <tr>\n",
       "      <th>64</th>\n",
       "      <td>Quality Education</td>\n",
       "      <td>4.a.</td>\n",
       "      <td>Construct and improve educational infrastructu...</td>\n",
       "      <td>These facilities should provide secure, non-vi...</td>\n",
       "      <td>4.a.1. Proportion of schools offering basic se...</td>\n",
       "      <td>SDG</td>\n",
       "    </tr>\n",
       "    <tr>\n",
       "      <th>65</th>\n",
       "      <td>Quality Education</td>\n",
       "      <td>4.b.</td>\n",
       "      <td>By 2020, significantly increase the global num...</td>\n",
       "      <td>These scholarships aim to facilitate enrollmen...</td>\n",
       "      <td>4.b.1. Volume of official development assistan...</td>\n",
       "      <td>SDG</td>\n",
       "    </tr>\n",
       "    <tr>\n",
       "      <th>66</th>\n",
       "      <td>Quality Education</td>\n",
       "      <td>4.c.</td>\n",
       "      <td>By  2030, significantly enhance the availabili...</td>\n",
       "      <td>NaN</td>\n",
       "      <td>4.c.1. Proportion of teachers with the minimum...</td>\n",
       "      <td>SDG</td>\n",
       "    </tr>\n",
       "  </tbody>\n",
       "</table>\n",
       "<p>67 rows × 6 columns</p>\n",
       "</div>"
      ],
      "text/plain": [
       "             Main SDG Target Number  \\\n",
       "0          No Poverty          1.1.   \n",
       "1          No Poverty          1.2.   \n",
       "2          No Poverty          1.2.   \n",
       "3          No Poverty          1.3.   \n",
       "4          No Poverty          1.4.   \n",
       "..                ...           ...   \n",
       "62  Quality Education          4.6.   \n",
       "63  Quality Education          4.7.   \n",
       "64  Quality Education          4.a.   \n",
       "65  Quality Education          4.b.   \n",
       "66  Quality Education          4.c.   \n",
       "\n",
       "                                               Target  \\\n",
       "0   By 2030, achieve the complete elimination of e...   \n",
       "1   By 2030, the proportion of men, women and chil...   \n",
       "2   By 2030, the proportion of men, women and chil...   \n",
       "3   By 2030, the aim is to achieve significant cov...   \n",
       "4   By 2030, guarantee equal rights for all indivi...   \n",
       "..                                                ...   \n",
       "62  By 2030, guarantee that every young person and...   \n",
       "63  By 2030, guarantee that all individuals attain...   \n",
       "64  Construct and improve educational infrastructu...   \n",
       "65  By 2020, significantly increase the global num...   \n",
       "66  By  2030, significantly enhance the availabili...   \n",
       "\n",
       "                                   Target Information  \\\n",
       "0                                                 NaN   \n",
       "1                                                 NaN   \n",
       "2                                                 NaN   \n",
       "3                                                 NaN   \n",
       "4   This includes ensuring equitable access to ess...   \n",
       "..                                                ...   \n",
       "62                                                NaN   \n",
       "63  This encompasses various aspects such as educa...   \n",
       "64  These facilities should provide secure, non-vi...   \n",
       "65  These scholarships aim to facilitate enrollmen...   \n",
       "66                                                NaN   \n",
       "\n",
       "                                            Indicator  SDG  \n",
       "0   1.1.1. Proportion of the population living bel...  SDG  \n",
       "1   1.2.1. Proportion of population living below t...  SDG  \n",
       "2   1.2.2. Proportion of men, women and children o...  SDG  \n",
       "3   1.3.1. Proportion of population covered by soc...  SDG  \n",
       "4   1.4.1. Proportion of population living in hous...  SDG  \n",
       "..                                                ...  ...  \n",
       "62  4.6.1. Proportion of population in a given age...  SDG  \n",
       "63  4.7.1. Extent to which (i) global citizenship ...  SDG  \n",
       "64  4.a.1. Proportion of schools offering basic se...  SDG  \n",
       "65  4.b.1. Volume of official development assistan...  SDG  \n",
       "66  4.c.1. Proportion of teachers with the minimum...  SDG  \n",
       "\n",
       "[67 rows x 6 columns]"
      ]
     },
     "execution_count": 17,
     "metadata": {},
     "output_type": "execute_result"
    }
   ],
   "source": [
    "sdg_info_df = sdg_info_df.drop(columns=['Indicator Information'])\n",
    "sdg_info_df"
   ]
  },
  {
   "cell_type": "code",
   "execution_count": 29,
   "id": "be65b656",
   "metadata": {},
   "outputs": [],
   "source": [
    "sdg_info_df.to_csv ('./data/sdg_info_fixed.csv')"
   ]
  },
  {
   "cell_type": "code",
   "execution_count": 27,
   "id": "9e6c8540",
   "metadata": {},
   "outputs": [
    {
     "data": {
      "application/vnd.plotly.v1+json": {
       "config": {
        "plotlyServerURL": "https://plot.ly"
       },
       "data": [
        {
         "branchvalues": "total",
         "domain": {
          "x": [
           0,
           1
          ],
          "y": [
           0,
           1
          ]
         },
         "hoverinfo": "skip",
         "ids": [
          "SDG/No Poverty/By 2030, achieve the complete elimination of extreme poverty for all individuals globally, such as no individuals will be living on less than $1.25 per day./1.1.1. Proportion of the population living below the international poverty line by sex, age, employment status and geographical location (urban/rural)",
          "SDG/No Poverty/By 2030, the proportion of men, women and children living in poverty (i.e., based on the country’s definition of poverty) should be reduced by half./1.2.1. Proportion of population living below the national poverty line, by sex and age",
          "SDG/No Poverty/By 2030, the proportion of men, women and children living in poverty (i.e., based on the country’s definition of poverty) should be reduced by half./1.2.2. Proportion of men, women and children of all ages living in poverty in all its dimensions according to national definitions",
          "SDG/No Poverty/By 2030, the aim is to achieve significant coverage of social protection programs for those living in poverty and vulnerable conditions, and introduce social protection systems and measures that are tailored to each country's needs, providing coverage for all individuals, including establishing minimum standards. /1.3.1. Proportion of population covered by social protection floors/systems, by sex, distinguishing children, unemployed persons, older persons, persons with disabilities, pregnant women, newborns, work-injury victims and the poor and the vulnerable",
          "SDG/No Poverty/By 2030, guarantee equal rights for all individuals, particularly the impoverished and vulnerable, to economic resources. /1.4.1. Proportion of population living in households with access to basic services",
          "SDG/No Poverty/By 2030, guarantee equal rights for all individuals, particularly the impoverished and vulnerable, to economic resources. /1.4.2. Proportion of total adult population with secure tenure rights to land, (a) with legally recognized documentation, and (b) who perceive their rights to land as secure, by sex and by type of tenure",
          "SDG/No Poverty/By 2030, enhance the resilience of individuals living in poverty and vulnerable circumstances, reducing their exposure and susceptibility to climate-related extreme events, as well as other economic, social, and environmental shocks and disasters./1.5.1. Number of deaths, missing persons and directly affected persons attributed to disasters per 100,000 population",
          "SDG/No Poverty/By 2030, enhance the resilience of individuals living in poverty and vulnerable circumstances, reducing their exposure and susceptibility to climate-related extreme events, as well as other economic, social, and environmental shocks and disasters./1.5.2. Direct economic loss attributed to disasters in relation to global gross domestic product (GDP)",
          "SDG/No Poverty/By 2030, enhance the resilience of individuals living in poverty and vulnerable circumstances, reducing their exposure and susceptibility to climate-related extreme events, as well as other economic, social, and environmental shocks and disasters./1.5.3. Number of countries that adopt and implement national disaster risk reduction strategies in line with the Sendai Framework for Disaster Risk Reduction 2015-2030",
          "SDG/No Poverty/By 2030, enhance the resilience of individuals living in poverty and vulnerable circumstances, reducing their exposure and susceptibility to climate-related extreme events, as well as other economic, social, and environmental shocks and disasters./1.5.4. Proportion of local governments that adopt and implement local disaster risk reduction strategies in line with national disaster risk reduction strategies",
          "SDG/No Poverty/Ensure substantial mobilization of resources from diverse channels, including strengthened development cooperation, to ensure that developing countries, especially least developed nations, have sufficient and predictable means to implement comprehensive programs and policies aimed at eradicating poverty in all its dimensions./1.a.1. Total official development assistance grants from all donors that focus on poverty reduction as a share of the recipient country's gross national income",
          "SDG/No Poverty/Ensure substantial mobilization of resources from diverse channels, including strengthened development cooperation, to ensure that developing countries, especially least developed nations, have sufficient and predictable means to implement comprehensive programs and policies aimed at eradicating poverty in all its dimensions./1.a.2. Proportion of total government spending on essential services (education, health and social protection)",
          "SDG/No Poverty/Establish robust policy frameworks at the national, regional, and international levels that are rooted in pro-poor and gender-responsive development strategies. /1.b.1. Pro-poor public social spending",
          "SDG/Zero Hunger/By 2030, eradicate hunger and ensure that everyone, especially those living in poverty and vulnerable conditions, including infants, has consistent access to safe, nutritious, and adequate food throughout the year./2.1.1. Prevalence of undernourishment",
          "SDG/Zero Hunger/By 2030, eradicate hunger and ensure that everyone, especially those living in poverty and vulnerable conditions, including infants, has consistent access to safe, nutritious, and adequate food throughout the year./2.1.2. Prevalence of moderate or severe food insecurity in the population, based on the Food Insecurity Experience Scale (FIES)",
          "SDG/Zero Hunger/By 2030, eradicate all manifestations of malnutrition, including attaining the internationally agreed-upon goals for reducing stunting and wasting in children under the age of 5 by 2025. Additionally, focus on addressing the nutritional requirements of adolescent girls, pregnant and lactating women, and older individuals./2.2.1. Prevalence of stunting (height for age <-2 standard deviation from the median of the World Health Organization (WHO) Child Growth Standards) among children under 5 years of age",
          "SDG/Zero Hunger/By 2030, eradicate all manifestations of malnutrition, including attaining the internationally agreed-upon goals for reducing stunting and wasting in children under the age of 5 by 2025. Additionally, focus on addressing the nutritional requirements of adolescent girls, pregnant and lactating women, and older individuals./2.2.2. Prevalence of malnutrition (weight for height >+2 or <-2 standard deviation from the median of the WHO Child Growth Standards) among children under 5 years of age, by type (wasting and overweight)",
          "SDG/Zero Hunger/By 2030, eradicate all manifestations of malnutrition, including attaining the internationally agreed-upon goals for reducing stunting and wasting in children under the age of 5 by 2025. Additionally, focus on addressing the nutritional requirements of adolescent girls, pregnant and lactating women, and older individuals./2.2.3. Prevalence of anaemia in women aged 15 to 49 years, by pregnancy status (percentage)",
          "SDG/Zero Hunger/By 2030, strive to achieve to double the increase in agricultural productivity and incomes for small-scale food producers, with special emphasis on women, indigenous communities, family farmers, pastoralists, and fishers./2.3.1. Volume of production per labour unit by classes of farming/pastoral/forestry enterprise size",
          "SDG/Zero Hunger/By 2030, strive to achieve to double the increase in agricultural productivity and incomes for small-scale food producers, with special emphasis on women, indigenous communities, family farmers, pastoralists, and fishers./2.3.2. Average income of small-scale food producers, by sex and indigenous status",
          "SDG/Zero Hunger/By 2030, establish sustainable food production systems and adopt resilient agricultural practices that enhance productivity and output. /2.4.1. Proportion of agricultural area under productive and sustainable agriculture",
          "SDG/Zero Hunger/Safeguard the genetic diversity of seeds, cultivated plants, domesticated animals, and their associated wild species by preserving them in well-managed and diversified seed and plant banks at national, regional, and international levels. Additionally, promote access to genetic resources and the fair and equitable sharing of benefits derived from their utilization, in accordance with internationally agreed agreements and protocols, including the protection of traditional knowledge./2.5.1. Number of (a) plant and (b) animal genetic resources for food and agriculture secured in either medium- or long-term conservation facilities",
          "SDG/Zero Hunger/Safeguard the genetic diversity of seeds, cultivated plants, domesticated animals, and their associated wild species by preserving them in well-managed and diversified seed and plant banks at national, regional, and international levels. Additionally, promote access to genetic resources and the fair and equitable sharing of benefits derived from their utilization, in accordance with internationally agreed agreements and protocols, including the protection of traditional knowledge./2.5.2. Proportion of local breeds classified as being at risk of extinction",
          "SDG/Zero Hunger/Boost investment, including through intensified international collaboration, in rural infrastructure, agricultural research, extension services, technology advancement, and the preservation of plant and livestock gene banks. /2.a.1. The agriculture orientation index for government expenditures",
          "SDG/Zero Hunger/Boost investment, including through intensified international collaboration, in rural infrastructure, agricultural research, extension services, technology advancement, and the preservation of plant and livestock gene banks. /2.a.2. Total official flows (official development assistance plus other official flows) to the agriculture sector",
          "SDG/Zero Hunger/Address and prevent trade restrictions and imbalances in global agricultural markets, including the complete elimination of agricultural export subsidies and export measures that have similar impacts. These actions should align with the objectives of the Doha Development Round./2.b.1. Agricultural export subsidies",
          "SDG/Zero Hunger/Implement measures to ensure the effective operation of food commodity markets and their derivatives, while also enabling timely access to market information, including data on food reserves. These efforts are crucial in mitigating excessive volatility in food prices./2.c.1. Indicator of food price anomalies",
          "SDG/Good Health and Well-Being/By 2030, decrease the worldwide maternal mortality ratio to below 70 deaths per 100,000 live births./3.1.1. Maternal mortality ratio",
          "SDG/Good Health and Well-Being/By 2030, decrease the worldwide maternal mortality ratio to below 70 deaths per 100,000 live births./3.1.2. Proportion of births attended by skilled health personnel",
          "SDG/Good Health and Well-Being/By  2030, achieve the elimination of avoidable deaths among newborns and children under the age of five, with all nations striving to reduce neonatal mortality to a level no higher than 12 per 1,000 live births, and under-five mortality to a level no higher than 25 per 1,000 live births./3.2.1. Under-five mortality rate",
          "SDG/Good Health and Well-Being/By  2030, achieve the elimination of avoidable deaths among newborns and children under the age of five, with all nations striving to reduce neonatal mortality to a level no higher than 12 per 1,000 live births, and under-five mortality to a level no higher than 25 per 1,000 live births./3.2.2. Neonatal mortality rate",
          "SDG/Good Health and Well-Being/By  2030, put an end to the epidemics of AIDS, tuberculosis, malaria, and neglected tropical diseases, while also addressing the challenges posed by hepatitis, water-borne diseases, and other communicable diseases./3.3.1. Number of new HIV infections per 1,000 uninfected population, by sex, age and key populations",
          "SDG/Good Health and Well-Being/By  2030, put an end to the epidemics of AIDS, tuberculosis, malaria, and neglected tropical diseases, while also addressing the challenges posed by hepatitis, water-borne diseases, and other communicable diseases./3.3.2. Tuberculosis incidence per 100,000 population",
          "SDG/Good Health and Well-Being/By  2030, put an end to the epidemics of AIDS, tuberculosis, malaria, and neglected tropical diseases, while also addressing the challenges posed by hepatitis, water-borne diseases, and other communicable diseases./3.3.3. Malaria incidence per 1,000 population",
          "SDG/Good Health and Well-Being/By  2030, put an end to the epidemics of AIDS, tuberculosis, malaria, and neglected tropical diseases, while also addressing the challenges posed by hepatitis, water-borne diseases, and other communicable diseases./3.3.4. Hepatitis B incidence per 100,000 population",
          "SDG/Good Health and Well-Being/By  2030, put an end to the epidemics of AIDS, tuberculosis, malaria, and neglected tropical diseases, while also addressing the challenges posed by hepatitis, water-borne diseases, and other communicable diseases./3.3.5. Number of people requiring interventions against neglected tropical diseases",
          "SDG/Good Health and Well-Being/By 2030, decrease premature mortality from non-communicable diseases by one-third through preventive measures, treatment interventions, and the promotion of mental health and overall well-being./3.4.1. Mortality rate attributed to cardiovascular disease, cancer, diabetes or chronic respiratory disease",
          "SDG/Good Health and Well-Being/By 2030, decrease premature mortality from non-communicable diseases by one-third through preventive measures, treatment interventions, and the promotion of mental health and overall well-being./3.4.2. Suicide mortality rate",
          "SDG/Good Health and Well-Being/Enhance efforts to prevent and address substance abuse, including the misuse of narcotic drugs and harmful alcohol consumption, through improved prevention measures and effective treatment approaches./3.5.1. Coverage of treatment interventions (pharmacological, psychosocial and rehabilitation and aftercare services) for substance use disorders",
          "SDG/Good Health and Well-Being/Enhance efforts to prevent and address substance abuse, including the misuse of narcotic drugs and harmful alcohol consumption, through improved prevention measures and effective treatment approaches./3.5.2. Alcohol per capita consumption (aged 15 years and older) within a calendar year in litres of pure alcohol",
          "SDG/Good Health and Well-Being/By 2020, reduce by half the worldwide number of fatalities and injuries resulting from road traffic accidents./3.6.1. Death rate due to road traffic injuries",
          "SDG/Good Health and Well-Being/By  2030, guarantee equal and widespread availability of sexual and reproductive healthcare services, including family planning, comprehensive information, and education, as well as the incorporation of reproductive health within national strategies and programs./3.7.1. Proportion of women of reproductive age (aged 15-49 years) who have their need for family planning satisfied with modern methods",
          "SDG/Good Health and Well-Being/By  2030, guarantee equal and widespread availability of sexual and reproductive healthcare services, including family planning, comprehensive information, and education, as well as the incorporation of reproductive health within national strategies and programs./3.7.2. Adolescent birth rate (aged 10-14 years; aged 15-19 years) per 1,000 women in that age group",
          "SDG/Good Health and Well-Being/Attain universal health coverage for everyone, encompassing financial security, access to high-quality essential healthcare services, and availability of safe, effective, and affordable essential medicines and vaccines for all individuals./3.8.1. Coverage of essential health services",
          "SDG/Good Health and Well-Being/Attain universal health coverage for everyone, encompassing financial security, access to high-quality essential healthcare services, and availability of safe, effective, and affordable essential medicines and vaccines for all individuals./3.8.2. Proportion of population with large household expenditures on health as a share of total household expenditure or income",
          "SDG/Good Health and Well-Being/By 2030, significantly decrease the number of fatalities and illnesses caused by dangerous chemicals, as well as mitigate the impact of air, water, and soil pollution and contamination./3.9.1. Mortality rate attributed to household and ambient air pollution",
          "SDG/Good Health and Well-Being/By 2030, significantly decrease the number of fatalities and illnesses caused by dangerous chemicals, as well as mitigate the impact of air, water, and soil pollution and contamination./3.9.2. Mortality rate attributed to unsafe water, unsafe sanitation and lack of hygiene (exposure to unsafe Water, Sanitation and Hygiene for All (WASH) services)",
          "SDG/Good Health and Well-Being/By 2030, significantly decrease the number of fatalities and illnesses caused by dangerous chemicals, as well as mitigate the impact of air, water, and soil pollution and contamination./3.9.3. Mortality rate attributed to unintentional poisoning",
          "SDG/Good Health and Well-Being/Enhance the enforcement and application of the World Health Organization Framework Convention on Tobacco Control in all relevant countries, as deemed suitable./3.a.1. Age-standardized prevalence of current tobacco use among persons aged 15 years and older",
          "SDG/Good Health and Well-Being/Promote and facilitate research and innovation in the field of vaccines and medications for both communicable and non-communicable diseases that disproportionately impact developing nations. Additionally, ensure affordable access to essential medicines and vaccines, aligning with the principles outlined in the Doha Declaration on the Trade-Related Aspects of Intellectual Property Rights (TRIPS) and Public Health./3.b.1. Proportion of the target population covered by all vaccines included in their national programme",
          "SDG/Good Health and Well-Being/Promote and facilitate research and innovation in the field of vaccines and medications for both communicable and non-communicable diseases that disproportionately impact developing nations. Additionally, ensure affordable access to essential medicines and vaccines, aligning with the principles outlined in the Doha Declaration on the Trade-Related Aspects of Intellectual Property Rights (TRIPS) and Public Health./3.b.2. Total net official development assistance to medical research and basic health sectors",
          "SDG/Good Health and Well-Being/Promote and facilitate research and innovation in the field of vaccines and medications for both communicable and non-communicable diseases that disproportionately impact developing nations. Additionally, ensure affordable access to essential medicines and vaccines, aligning with the principles outlined in the Doha Declaration on the Trade-Related Aspects of Intellectual Property Rights (TRIPS) and Public Health./3.b.3. Proportion of health facilities that have a core set of relevant essential medicines available and affordable on a sustainable basis",
          "SDG/Good Health and Well-Being/Significantly augment health funding and prioritize the recruitment, advancement, training, and retention of healthcare professionals in developing nations, particularly in least developed countries and small island developing states./3.c.1. Health worker density and distribution",
          "SDG/Good Health and Well-Being/Enhance the capabilities of all nations, with a particular focus on developing countries, to strengthen early warning systems, mitigate risks, and manage health threats at both national and global levels./3.d.1. International Health Regulations (IHR) capacity and health emergency preparedness",
          "SDG/Good Health and Well-Being/Enhance the capabilities of all nations, with a particular focus on developing countries, to strengthen early warning systems, mitigate risks, and manage health threats at both national and global levels./3.d.2. Percentage of bloodstream infections due to selected antimicrobial-resistant organisms",
          "SDG/Quality Education/By 2030, ensure the achievement of universal, free, fair, and high-quality primary and secondary education for all girls and boys. This education should result in relevant and effective learning outcomes for students./4.1.1. Proportion of children and young people (a) in grades 2/3; (b) at the end of primary; and (c) at the end of lower secondary achieving at least a minimum proficiency level in (i) reading and (ii) mathematics, by sex",
          "SDG/Quality Education/By 2030, ensure the achievement of universal, free, fair, and high-quality primary and secondary education for all girls and boys. This education should result in relevant and effective learning outcomes for students./4.1.2. Completion rate (primary education, lower secondary education, upper secondary education)",
          "SDG/Quality Education/Proportion of children aged 24–59 months who are developmentally on track in health, learning and psychosocial well-being, by sex/4.2.1. Proportion of children aged 24–59 months who are developmentally on track in health, learning and psychosocial well-being, by sex",
          "SDG/Quality Education/Proportion of children aged 24–59 months who are developmentally on track in health, learning and psychosocial well-being, by sex/4.2.2. Participation rate in organized learning (one year before the official primary entry age), by sex",
          "SDG/Quality Education/By 2030, guarantee equal opportunities for women and men to avail affordable and high-quality technical, vocational, and higher education, including university-level education./4.3.1. Participation rate of youth and adults in formal and non-formal education and training in the previous 12 months, by sex",
          "SDG/Quality Education/By 2030, significantly enhance the number of young people and adults equipped with relevant skills, including technical and vocational competencies, to foster employment, secure decent jobs, and promote entrepreneurship./4.4.1. Proportion of youth and adults with information and communications technology (ICT) skills, by type of skill",
          "SDG/Quality Education/By  2030, eradicate gender inequalities in education and ensure equal access for all individuals, including vulnerable groups such as persons with disabilities, indigenous peoples, and children in precarious circumstances, to all levels of education and vocational training./4.5.1. Parity indices (female/male, rural/urban, bottom/top wealth quintile and others such as disability status, indigenous peoples and conflict-affected, as data become available) for all education indicators on this list that can be disaggregated",
          "SDG/Quality Education/By 2030, guarantee that every young person and a significant portion of adults, regardless of gender, attain proficiency in reading, writing, and basic arithmetic skills./4.6.1. Proportion of population in a given age group achieving at least a fixed level of proficiency in functional (a) literacy and (b) numeracy skills, by sex",
          "SDG/Quality Education/By 2030, guarantee that all individuals attain the necessary knowledge and competencies to advance sustainable development./4.7.1. Extent to which (i) global citizenship education and (ii) education for sustainable development are mainstreamed in (a) national education policies; (b) curricula; (c) teacher education and (d) student assessment",
          "SDG/Quality Education/Construct and improve educational infrastructures that are considerate of the needs of children, individuals with disabilities, and different genders. /4.a.1. Proportion of schools offering basic services, by type of service",
          "SDG/Quality Education/By 2020, significantly increase the global number of scholarships to developing nations, with a specific emphasis on least developed countries, small island developing states, and African countries./4.b.1. Volume of official development assistance flows for scholarships by sector and type of study",
          "SDG/Quality Education/By  2030, significantly enhance the availability of qualified teachers, particularly in least developed countries, through international collaboration aimed at providing teacher training./4.c.1. Proportion of teachers with the minimum required qualifications, by education level",
          "SDG/Zero Hunger/Address and prevent trade restrictions and imbalances in global agricultural markets, including the complete elimination of agricultural export subsidies and export measures that have similar impacts. These actions should align with the objectives of the Doha Development Round.",
          "SDG/Good Health and Well-Being/Attain universal health coverage for everyone, encompassing financial security, access to high-quality essential healthcare services, and availability of safe, effective, and affordable essential medicines and vaccines for all individuals.",
          "SDG/Zero Hunger/Boost investment, including through intensified international collaboration, in rural infrastructure, agricultural research, extension services, technology advancement, and the preservation of plant and livestock gene banks. ",
          "SDG/Good Health and Well-Being/By  2030, achieve the elimination of avoidable deaths among newborns and children under the age of five, with all nations striving to reduce neonatal mortality to a level no higher than 12 per 1,000 live births, and under-five mortality to a level no higher than 25 per 1,000 live births.",
          "SDG/Quality Education/By  2030, eradicate gender inequalities in education and ensure equal access for all individuals, including vulnerable groups such as persons with disabilities, indigenous peoples, and children in precarious circumstances, to all levels of education and vocational training.",
          "SDG/Good Health and Well-Being/By  2030, guarantee equal and widespread availability of sexual and reproductive healthcare services, including family planning, comprehensive information, and education, as well as the incorporation of reproductive health within national strategies and programs.",
          "SDG/Good Health and Well-Being/By  2030, put an end to the epidemics of AIDS, tuberculosis, malaria, and neglected tropical diseases, while also addressing the challenges posed by hepatitis, water-borne diseases, and other communicable diseases.",
          "SDG/Quality Education/By  2030, significantly enhance the availability of qualified teachers, particularly in least developed countries, through international collaboration aimed at providing teacher training.",
          "SDG/Good Health and Well-Being/By 2020, reduce by half the worldwide number of fatalities and injuries resulting from road traffic accidents.",
          "SDG/Quality Education/By 2020, significantly increase the global number of scholarships to developing nations, with a specific emphasis on least developed countries, small island developing states, and African countries.",
          "SDG/No Poverty/By 2030, achieve the complete elimination of extreme poverty for all individuals globally, such as no individuals will be living on less than $1.25 per day.",
          "SDG/Good Health and Well-Being/By 2030, decrease premature mortality from non-communicable diseases by one-third through preventive measures, treatment interventions, and the promotion of mental health and overall well-being.",
          "SDG/Good Health and Well-Being/By 2030, decrease the worldwide maternal mortality ratio to below 70 deaths per 100,000 live births.",
          "SDG/No Poverty/By 2030, enhance the resilience of individuals living in poverty and vulnerable circumstances, reducing their exposure and susceptibility to climate-related extreme events, as well as other economic, social, and environmental shocks and disasters.",
          "SDG/Quality Education/By 2030, ensure the achievement of universal, free, fair, and high-quality primary and secondary education for all girls and boys. This education should result in relevant and effective learning outcomes for students.",
          "SDG/Zero Hunger/By 2030, eradicate all manifestations of malnutrition, including attaining the internationally agreed-upon goals for reducing stunting and wasting in children under the age of 5 by 2025. Additionally, focus on addressing the nutritional requirements of adolescent girls, pregnant and lactating women, and older individuals.",
          "SDG/Zero Hunger/By 2030, eradicate hunger and ensure that everyone, especially those living in poverty and vulnerable conditions, including infants, has consistent access to safe, nutritious, and adequate food throughout the year.",
          "SDG/Zero Hunger/By 2030, establish sustainable food production systems and adopt resilient agricultural practices that enhance productivity and output. ",
          "SDG/Quality Education/By 2030, guarantee equal opportunities for women and men to avail affordable and high-quality technical, vocational, and higher education, including university-level education.",
          "SDG/No Poverty/By 2030, guarantee equal rights for all individuals, particularly the impoverished and vulnerable, to economic resources. ",
          "SDG/Quality Education/By 2030, guarantee that all individuals attain the necessary knowledge and competencies to advance sustainable development.",
          "SDG/Quality Education/By 2030, guarantee that every young person and a significant portion of adults, regardless of gender, attain proficiency in reading, writing, and basic arithmetic skills.",
          "SDG/Good Health and Well-Being/By 2030, significantly decrease the number of fatalities and illnesses caused by dangerous chemicals, as well as mitigate the impact of air, water, and soil pollution and contamination.",
          "SDG/Quality Education/By 2030, significantly enhance the number of young people and adults equipped with relevant skills, including technical and vocational competencies, to foster employment, secure decent jobs, and promote entrepreneurship.",
          "SDG/Zero Hunger/By 2030, strive to achieve to double the increase in agricultural productivity and incomes for small-scale food producers, with special emphasis on women, indigenous communities, family farmers, pastoralists, and fishers.",
          "SDG/No Poverty/By 2030, the aim is to achieve significant coverage of social protection programs for those living in poverty and vulnerable conditions, and introduce social protection systems and measures that are tailored to each country's needs, providing coverage for all individuals, including establishing minimum standards. ",
          "SDG/No Poverty/By 2030, the proportion of men, women and children living in poverty (i.e., based on the country’s definition of poverty) should be reduced by half.",
          "SDG/Quality Education/Construct and improve educational infrastructures that are considerate of the needs of children, individuals with disabilities, and different genders. ",
          "SDG/Good Health and Well-Being/Enhance efforts to prevent and address substance abuse, including the misuse of narcotic drugs and harmful alcohol consumption, through improved prevention measures and effective treatment approaches.",
          "SDG/Good Health and Well-Being/Enhance the capabilities of all nations, with a particular focus on developing countries, to strengthen early warning systems, mitigate risks, and manage health threats at both national and global levels.",
          "SDG/Good Health and Well-Being/Enhance the enforcement and application of the World Health Organization Framework Convention on Tobacco Control in all relevant countries, as deemed suitable.",
          "SDG/No Poverty/Ensure substantial mobilization of resources from diverse channels, including strengthened development cooperation, to ensure that developing countries, especially least developed nations, have sufficient and predictable means to implement comprehensive programs and policies aimed at eradicating poverty in all its dimensions.",
          "SDG/No Poverty/Establish robust policy frameworks at the national, regional, and international levels that are rooted in pro-poor and gender-responsive development strategies. ",
          "SDG/Zero Hunger/Implement measures to ensure the effective operation of food commodity markets and their derivatives, while also enabling timely access to market information, including data on food reserves. These efforts are crucial in mitigating excessive volatility in food prices.",
          "SDG/Good Health and Well-Being/Promote and facilitate research and innovation in the field of vaccines and medications for both communicable and non-communicable diseases that disproportionately impact developing nations. Additionally, ensure affordable access to essential medicines and vaccines, aligning with the principles outlined in the Doha Declaration on the Trade-Related Aspects of Intellectual Property Rights (TRIPS) and Public Health.",
          "SDG/Quality Education/Proportion of children aged 24–59 months who are developmentally on track in health, learning and psychosocial well-being, by sex",
          "SDG/Zero Hunger/Safeguard the genetic diversity of seeds, cultivated plants, domesticated animals, and their associated wild species by preserving them in well-managed and diversified seed and plant banks at national, regional, and international levels. Additionally, promote access to genetic resources and the fair and equitable sharing of benefits derived from their utilization, in accordance with internationally agreed agreements and protocols, including the protection of traditional knowledge.",
          "SDG/Good Health and Well-Being/Significantly augment health funding and prioritize the recruitment, advancement, training, and retention of healthcare professionals in developing nations, particularly in least developed countries and small island developing states.",
          "SDG/Good Health and Well-Being",
          "SDG/No Poverty",
          "SDG/Quality Education",
          "SDG/Zero Hunger",
          "SDG"
         ],
         "labels": [
          "1.1.1. Proportion of the population living below the international poverty line by sex, age, employment status and geographical location (urban/rural)",
          "1.2.1. Proportion of population living below the national poverty line, by sex and age",
          "1.2.2. Proportion of men, women and children of all ages living in poverty in all its dimensions according to national definitions",
          "1.3.1. Proportion of population covered by social protection floors/systems, by sex, distinguishing children, unemployed persons, older persons, persons with disabilities, pregnant women, newborns, work-injury victims and the poor and the vulnerable",
          "1.4.1. Proportion of population living in households with access to basic services",
          "1.4.2. Proportion of total adult population with secure tenure rights to land, (a) with legally recognized documentation, and (b) who perceive their rights to land as secure, by sex and by type of tenure",
          "1.5.1. Number of deaths, missing persons and directly affected persons attributed to disasters per 100,000 population",
          "1.5.2. Direct economic loss attributed to disasters in relation to global gross domestic product (GDP)",
          "1.5.3. Number of countries that adopt and implement national disaster risk reduction strategies in line with the Sendai Framework for Disaster Risk Reduction 2015-2030",
          "1.5.4. Proportion of local governments that adopt and implement local disaster risk reduction strategies in line with national disaster risk reduction strategies",
          "1.a.1. Total official development assistance grants from all donors that focus on poverty reduction as a share of the recipient country's gross national income",
          "1.a.2. Proportion of total government spending on essential services (education, health and social protection)",
          "1.b.1. Pro-poor public social spending",
          "2.1.1. Prevalence of undernourishment",
          "2.1.2. Prevalence of moderate or severe food insecurity in the population, based on the Food Insecurity Experience Scale (FIES)",
          "2.2.1. Prevalence of stunting (height for age <-2 standard deviation from the median of the World Health Organization (WHO) Child Growth Standards) among children under 5 years of age",
          "2.2.2. Prevalence of malnutrition (weight for height >+2 or <-2 standard deviation from the median of the WHO Child Growth Standards) among children under 5 years of age, by type (wasting and overweight)",
          "2.2.3. Prevalence of anaemia in women aged 15 to 49 years, by pregnancy status (percentage)",
          "2.3.1. Volume of production per labour unit by classes of farming/pastoral/forestry enterprise size",
          "2.3.2. Average income of small-scale food producers, by sex and indigenous status",
          "2.4.1. Proportion of agricultural area under productive and sustainable agriculture",
          "2.5.1. Number of (a) plant and (b) animal genetic resources for food and agriculture secured in either medium- or long-term conservation facilities",
          "2.5.2. Proportion of local breeds classified as being at risk of extinction",
          "2.a.1. The agriculture orientation index for government expenditures",
          "2.a.2. Total official flows (official development assistance plus other official flows) to the agriculture sector",
          "2.b.1. Agricultural export subsidies",
          "2.c.1. Indicator of food price anomalies",
          "3.1.1. Maternal mortality ratio",
          "3.1.2. Proportion of births attended by skilled health personnel",
          "3.2.1. Under-five mortality rate",
          "3.2.2. Neonatal mortality rate",
          "3.3.1. Number of new HIV infections per 1,000 uninfected population, by sex, age and key populations",
          "3.3.2. Tuberculosis incidence per 100,000 population",
          "3.3.3. Malaria incidence per 1,000 population",
          "3.3.4. Hepatitis B incidence per 100,000 population",
          "3.3.5. Number of people requiring interventions against neglected tropical diseases",
          "3.4.1. Mortality rate attributed to cardiovascular disease, cancer, diabetes or chronic respiratory disease",
          "3.4.2. Suicide mortality rate",
          "3.5.1. Coverage of treatment interventions (pharmacological, psychosocial and rehabilitation and aftercare services) for substance use disorders",
          "3.5.2. Alcohol per capita consumption (aged 15 years and older) within a calendar year in litres of pure alcohol",
          "3.6.1. Death rate due to road traffic injuries",
          "3.7.1. Proportion of women of reproductive age (aged 15-49 years) who have their need for family planning satisfied with modern methods",
          "3.7.2. Adolescent birth rate (aged 10-14 years; aged 15-19 years) per 1,000 women in that age group",
          "3.8.1. Coverage of essential health services",
          "3.8.2. Proportion of population with large household expenditures on health as a share of total household expenditure or income",
          "3.9.1. Mortality rate attributed to household and ambient air pollution",
          "3.9.2. Mortality rate attributed to unsafe water, unsafe sanitation and lack of hygiene (exposure to unsafe Water, Sanitation and Hygiene for All (WASH) services)",
          "3.9.3. Mortality rate attributed to unintentional poisoning",
          "3.a.1. Age-standardized prevalence of current tobacco use among persons aged 15 years and older",
          "3.b.1. Proportion of the target population covered by all vaccines included in their national programme",
          "3.b.2. Total net official development assistance to medical research and basic health sectors",
          "3.b.3. Proportion of health facilities that have a core set of relevant essential medicines available and affordable on a sustainable basis",
          "3.c.1. Health worker density and distribution",
          "3.d.1. International Health Regulations (IHR) capacity and health emergency preparedness",
          "3.d.2. Percentage of bloodstream infections due to selected antimicrobial-resistant organisms",
          "4.1.1. Proportion of children and young people (a) in grades 2/3; (b) at the end of primary; and (c) at the end of lower secondary achieving at least a minimum proficiency level in (i) reading and (ii) mathematics, by sex",
          "4.1.2. Completion rate (primary education, lower secondary education, upper secondary education)",
          "4.2.1. Proportion of children aged 24–59 months who are developmentally on track in health, learning and psychosocial well-being, by sex",
          "4.2.2. Participation rate in organized learning (one year before the official primary entry age), by sex",
          "4.3.1. Participation rate of youth and adults in formal and non-formal education and training in the previous 12 months, by sex",
          "4.4.1. Proportion of youth and adults with information and communications technology (ICT) skills, by type of skill",
          "4.5.1. Parity indices (female/male, rural/urban, bottom/top wealth quintile and others such as disability status, indigenous peoples and conflict-affected, as data become available) for all education indicators on this list that can be disaggregated",
          "4.6.1. Proportion of population in a given age group achieving at least a fixed level of proficiency in functional (a) literacy and (b) numeracy skills, by sex",
          "4.7.1. Extent to which (i) global citizenship education and (ii) education for sustainable development are mainstreamed in (a) national education policies; (b) curricula; (c) teacher education and (d) student assessment",
          "4.a.1. Proportion of schools offering basic services, by type of service",
          "4.b.1. Volume of official development assistance flows for scholarships by sector and type of study",
          "4.c.1. Proportion of teachers with the minimum required qualifications, by education level",
          "Address and prevent trade restrictions and imbalances in global agricultural markets, including the complete elimination of agricultural export subsidies and export measures that have similar impacts. These actions should align with the objectives of the Doha Development Round.",
          "Attain universal health coverage for everyone, encompassing financial security, access to high-quality essential healthcare services, and availability of safe, effective, and affordable essential medicines and vaccines for all individuals.",
          "Boost investment, including through intensified international collaboration, in rural infrastructure, agricultural research, extension services, technology advancement, and the preservation of plant and livestock gene banks. ",
          "By  2030, achieve the elimination of avoidable deaths among newborns and children under the age of five, with all nations striving to reduce neonatal mortality to a level no higher than 12 per 1,000 live births, and under-five mortality to a level no higher than 25 per 1,000 live births.",
          "By  2030, eradicate gender inequalities in education and ensure equal access for all individuals, including vulnerable groups such as persons with disabilities, indigenous peoples, and children in precarious circumstances, to all levels of education and vocational training.",
          "By  2030, guarantee equal and widespread availability of sexual and reproductive healthcare services, including family planning, comprehensive information, and education, as well as the incorporation of reproductive health within national strategies and programs.",
          "By  2030, put an end to the epidemics of AIDS, tuberculosis, malaria, and neglected tropical diseases, while also addressing the challenges posed by hepatitis, water-borne diseases, and other communicable diseases.",
          "By  2030, significantly enhance the availability of qualified teachers, particularly in least developed countries, through international collaboration aimed at providing teacher training.",
          "By 2020, reduce by half the worldwide number of fatalities and injuries resulting from road traffic accidents.",
          "By 2020, significantly increase the global number of scholarships to developing nations, with a specific emphasis on least developed countries, small island developing states, and African countries.",
          "By 2030, achieve the complete elimination of extreme poverty for all individuals globally, such as no individuals will be living on less than $1.25 per day.",
          "By 2030, decrease premature mortality from non-communicable diseases by one-third through preventive measures, treatment interventions, and the promotion of mental health and overall well-being.",
          "By 2030, decrease the worldwide maternal mortality ratio to below 70 deaths per 100,000 live births.",
          "By 2030, enhance the resilience of individuals living in poverty and vulnerable circumstances, reducing their exposure and susceptibility to climate-related extreme events, as well as other economic, social, and environmental shocks and disasters.",
          "By 2030, ensure the achievement of universal, free, fair, and high-quality primary and secondary education for all girls and boys. This education should result in relevant and effective learning outcomes for students.",
          "By 2030, eradicate all manifestations of malnutrition, including attaining the internationally agreed-upon goals for reducing stunting and wasting in children under the age of 5 by 2025. Additionally, focus on addressing the nutritional requirements of adolescent girls, pregnant and lactating women, and older individuals.",
          "By 2030, eradicate hunger and ensure that everyone, especially those living in poverty and vulnerable conditions, including infants, has consistent access to safe, nutritious, and adequate food throughout the year.",
          "By 2030, establish sustainable food production systems and adopt resilient agricultural practices that enhance productivity and output. ",
          "By 2030, guarantee equal opportunities for women and men to avail affordable and high-quality technical, vocational, and higher education, including university-level education.",
          "By 2030, guarantee equal rights for all individuals, particularly the impoverished and vulnerable, to economic resources. ",
          "By 2030, guarantee that all individuals attain the necessary knowledge and competencies to advance sustainable development.",
          "By 2030, guarantee that every young person and a significant portion of adults, regardless of gender, attain proficiency in reading, writing, and basic arithmetic skills.",
          "By 2030, significantly decrease the number of fatalities and illnesses caused by dangerous chemicals, as well as mitigate the impact of air, water, and soil pollution and contamination.",
          "By 2030, significantly enhance the number of young people and adults equipped with relevant skills, including technical and vocational competencies, to foster employment, secure decent jobs, and promote entrepreneurship.",
          "By 2030, strive to achieve to double the increase in agricultural productivity and incomes for small-scale food producers, with special emphasis on women, indigenous communities, family farmers, pastoralists, and fishers.",
          "By 2030, the aim is to achieve significant coverage of social protection programs for those living in poverty and vulnerable conditions, and introduce social protection systems and measures that are tailored to each country's needs, providing coverage for all individuals, including establishing minimum standards. ",
          "By 2030, the proportion of men, women and children living in poverty (i.e., based on the country’s definition of poverty) should be reduced by half.",
          "Construct and improve educational infrastructures that are considerate of the needs of children, individuals with disabilities, and different genders. ",
          "Enhance efforts to prevent and address substance abuse, including the misuse of narcotic drugs and harmful alcohol consumption, through improved prevention measures and effective treatment approaches.",
          "Enhance the capabilities of all nations, with a particular focus on developing countries, to strengthen early warning systems, mitigate risks, and manage health threats at both national and global levels.",
          "Enhance the enforcement and application of the World Health Organization Framework Convention on Tobacco Control in all relevant countries, as deemed suitable.",
          "Ensure substantial mobilization of resources from diverse channels, including strengthened development cooperation, to ensure that developing countries, especially least developed nations, have sufficient and predictable means to implement comprehensive programs and policies aimed at eradicating poverty in all its dimensions.",
          "Establish robust policy frameworks at the national, regional, and international levels that are rooted in pro-poor and gender-responsive development strategies. ",
          "Implement measures to ensure the effective operation of food commodity markets and their derivatives, while also enabling timely access to market information, including data on food reserves. These efforts are crucial in mitigating excessive volatility in food prices.",
          "Promote and facilitate research and innovation in the field of vaccines and medications for both communicable and non-communicable diseases that disproportionately impact developing nations. Additionally, ensure affordable access to essential medicines and vaccines, aligning with the principles outlined in the Doha Declaration on the Trade-Related Aspects of Intellectual Property Rights (TRIPS) and Public Health.",
          "Proportion of children aged 24–59 months who are developmentally on track in health, learning and psychosocial well-being, by sex",
          "Safeguard the genetic diversity of seeds, cultivated plants, domesticated animals, and their associated wild species by preserving them in well-managed and diversified seed and plant banks at national, regional, and international levels. Additionally, promote access to genetic resources and the fair and equitable sharing of benefits derived from their utilization, in accordance with internationally agreed agreements and protocols, including the protection of traditional knowledge.",
          "Significantly augment health funding and prioritize the recruitment, advancement, training, and retention of healthcare professionals in developing nations, particularly in least developed countries and small island developing states.",
          "Good Health and Well-Being",
          "No Poverty",
          "Quality Education",
          "Zero Hunger",
          "SDG"
         ],
         "name": "",
         "parents": [
          "SDG/No Poverty/By 2030, achieve the complete elimination of extreme poverty for all individuals globally, such as no individuals will be living on less than $1.25 per day.",
          "SDG/No Poverty/By 2030, the proportion of men, women and children living in poverty (i.e., based on the country’s definition of poverty) should be reduced by half.",
          "SDG/No Poverty/By 2030, the proportion of men, women and children living in poverty (i.e., based on the country’s definition of poverty) should be reduced by half.",
          "SDG/No Poverty/By 2030, the aim is to achieve significant coverage of social protection programs for those living in poverty and vulnerable conditions, and introduce social protection systems and measures that are tailored to each country's needs, providing coverage for all individuals, including establishing minimum standards. ",
          "SDG/No Poverty/By 2030, guarantee equal rights for all individuals, particularly the impoverished and vulnerable, to economic resources. ",
          "SDG/No Poverty/By 2030, guarantee equal rights for all individuals, particularly the impoverished and vulnerable, to economic resources. ",
          "SDG/No Poverty/By 2030, enhance the resilience of individuals living in poverty and vulnerable circumstances, reducing their exposure and susceptibility to climate-related extreme events, as well as other economic, social, and environmental shocks and disasters.",
          "SDG/No Poverty/By 2030, enhance the resilience of individuals living in poverty and vulnerable circumstances, reducing their exposure and susceptibility to climate-related extreme events, as well as other economic, social, and environmental shocks and disasters.",
          "SDG/No Poverty/By 2030, enhance the resilience of individuals living in poverty and vulnerable circumstances, reducing their exposure and susceptibility to climate-related extreme events, as well as other economic, social, and environmental shocks and disasters.",
          "SDG/No Poverty/By 2030, enhance the resilience of individuals living in poverty and vulnerable circumstances, reducing their exposure and susceptibility to climate-related extreme events, as well as other economic, social, and environmental shocks and disasters.",
          "SDG/No Poverty/Ensure substantial mobilization of resources from diverse channels, including strengthened development cooperation, to ensure that developing countries, especially least developed nations, have sufficient and predictable means to implement comprehensive programs and policies aimed at eradicating poverty in all its dimensions.",
          "SDG/No Poverty/Ensure substantial mobilization of resources from diverse channels, including strengthened development cooperation, to ensure that developing countries, especially least developed nations, have sufficient and predictable means to implement comprehensive programs and policies aimed at eradicating poverty in all its dimensions.",
          "SDG/No Poverty/Establish robust policy frameworks at the national, regional, and international levels that are rooted in pro-poor and gender-responsive development strategies. ",
          "SDG/Zero Hunger/By 2030, eradicate hunger and ensure that everyone, especially those living in poverty and vulnerable conditions, including infants, has consistent access to safe, nutritious, and adequate food throughout the year.",
          "SDG/Zero Hunger/By 2030, eradicate hunger and ensure that everyone, especially those living in poverty and vulnerable conditions, including infants, has consistent access to safe, nutritious, and adequate food throughout the year.",
          "SDG/Zero Hunger/By 2030, eradicate all manifestations of malnutrition, including attaining the internationally agreed-upon goals for reducing stunting and wasting in children under the age of 5 by 2025. Additionally, focus on addressing the nutritional requirements of adolescent girls, pregnant and lactating women, and older individuals.",
          "SDG/Zero Hunger/By 2030, eradicate all manifestations of malnutrition, including attaining the internationally agreed-upon goals for reducing stunting and wasting in children under the age of 5 by 2025. Additionally, focus on addressing the nutritional requirements of adolescent girls, pregnant and lactating women, and older individuals.",
          "SDG/Zero Hunger/By 2030, eradicate all manifestations of malnutrition, including attaining the internationally agreed-upon goals for reducing stunting and wasting in children under the age of 5 by 2025. Additionally, focus on addressing the nutritional requirements of adolescent girls, pregnant and lactating women, and older individuals.",
          "SDG/Zero Hunger/By 2030, strive to achieve to double the increase in agricultural productivity and incomes for small-scale food producers, with special emphasis on women, indigenous communities, family farmers, pastoralists, and fishers.",
          "SDG/Zero Hunger/By 2030, strive to achieve to double the increase in agricultural productivity and incomes for small-scale food producers, with special emphasis on women, indigenous communities, family farmers, pastoralists, and fishers.",
          "SDG/Zero Hunger/By 2030, establish sustainable food production systems and adopt resilient agricultural practices that enhance productivity and output. ",
          "SDG/Zero Hunger/Safeguard the genetic diversity of seeds, cultivated plants, domesticated animals, and their associated wild species by preserving them in well-managed and diversified seed and plant banks at national, regional, and international levels. Additionally, promote access to genetic resources and the fair and equitable sharing of benefits derived from their utilization, in accordance with internationally agreed agreements and protocols, including the protection of traditional knowledge.",
          "SDG/Zero Hunger/Safeguard the genetic diversity of seeds, cultivated plants, domesticated animals, and their associated wild species by preserving them in well-managed and diversified seed and plant banks at national, regional, and international levels. Additionally, promote access to genetic resources and the fair and equitable sharing of benefits derived from their utilization, in accordance with internationally agreed agreements and protocols, including the protection of traditional knowledge.",
          "SDG/Zero Hunger/Boost investment, including through intensified international collaboration, in rural infrastructure, agricultural research, extension services, technology advancement, and the preservation of plant and livestock gene banks. ",
          "SDG/Zero Hunger/Boost investment, including through intensified international collaboration, in rural infrastructure, agricultural research, extension services, technology advancement, and the preservation of plant and livestock gene banks. ",
          "SDG/Zero Hunger/Address and prevent trade restrictions and imbalances in global agricultural markets, including the complete elimination of agricultural export subsidies and export measures that have similar impacts. These actions should align with the objectives of the Doha Development Round.",
          "SDG/Zero Hunger/Implement measures to ensure the effective operation of food commodity markets and their derivatives, while also enabling timely access to market information, including data on food reserves. These efforts are crucial in mitigating excessive volatility in food prices.",
          "SDG/Good Health and Well-Being/By 2030, decrease the worldwide maternal mortality ratio to below 70 deaths per 100,000 live births.",
          "SDG/Good Health and Well-Being/By 2030, decrease the worldwide maternal mortality ratio to below 70 deaths per 100,000 live births.",
          "SDG/Good Health and Well-Being/By  2030, achieve the elimination of avoidable deaths among newborns and children under the age of five, with all nations striving to reduce neonatal mortality to a level no higher than 12 per 1,000 live births, and under-five mortality to a level no higher than 25 per 1,000 live births.",
          "SDG/Good Health and Well-Being/By  2030, achieve the elimination of avoidable deaths among newborns and children under the age of five, with all nations striving to reduce neonatal mortality to a level no higher than 12 per 1,000 live births, and under-five mortality to a level no higher than 25 per 1,000 live births.",
          "SDG/Good Health and Well-Being/By  2030, put an end to the epidemics of AIDS, tuberculosis, malaria, and neglected tropical diseases, while also addressing the challenges posed by hepatitis, water-borne diseases, and other communicable diseases.",
          "SDG/Good Health and Well-Being/By  2030, put an end to the epidemics of AIDS, tuberculosis, malaria, and neglected tropical diseases, while also addressing the challenges posed by hepatitis, water-borne diseases, and other communicable diseases.",
          "SDG/Good Health and Well-Being/By  2030, put an end to the epidemics of AIDS, tuberculosis, malaria, and neglected tropical diseases, while also addressing the challenges posed by hepatitis, water-borne diseases, and other communicable diseases.",
          "SDG/Good Health and Well-Being/By  2030, put an end to the epidemics of AIDS, tuberculosis, malaria, and neglected tropical diseases, while also addressing the challenges posed by hepatitis, water-borne diseases, and other communicable diseases.",
          "SDG/Good Health and Well-Being/By  2030, put an end to the epidemics of AIDS, tuberculosis, malaria, and neglected tropical diseases, while also addressing the challenges posed by hepatitis, water-borne diseases, and other communicable diseases.",
          "SDG/Good Health and Well-Being/By 2030, decrease premature mortality from non-communicable diseases by one-third through preventive measures, treatment interventions, and the promotion of mental health and overall well-being.",
          "SDG/Good Health and Well-Being/By 2030, decrease premature mortality from non-communicable diseases by one-third through preventive measures, treatment interventions, and the promotion of mental health and overall well-being.",
          "SDG/Good Health and Well-Being/Enhance efforts to prevent and address substance abuse, including the misuse of narcotic drugs and harmful alcohol consumption, through improved prevention measures and effective treatment approaches.",
          "SDG/Good Health and Well-Being/Enhance efforts to prevent and address substance abuse, including the misuse of narcotic drugs and harmful alcohol consumption, through improved prevention measures and effective treatment approaches.",
          "SDG/Good Health and Well-Being/By 2020, reduce by half the worldwide number of fatalities and injuries resulting from road traffic accidents.",
          "SDG/Good Health and Well-Being/By  2030, guarantee equal and widespread availability of sexual and reproductive healthcare services, including family planning, comprehensive information, and education, as well as the incorporation of reproductive health within national strategies and programs.",
          "SDG/Good Health and Well-Being/By  2030, guarantee equal and widespread availability of sexual and reproductive healthcare services, including family planning, comprehensive information, and education, as well as the incorporation of reproductive health within national strategies and programs.",
          "SDG/Good Health and Well-Being/Attain universal health coverage for everyone, encompassing financial security, access to high-quality essential healthcare services, and availability of safe, effective, and affordable essential medicines and vaccines for all individuals.",
          "SDG/Good Health and Well-Being/Attain universal health coverage for everyone, encompassing financial security, access to high-quality essential healthcare services, and availability of safe, effective, and affordable essential medicines and vaccines for all individuals.",
          "SDG/Good Health and Well-Being/By 2030, significantly decrease the number of fatalities and illnesses caused by dangerous chemicals, as well as mitigate the impact of air, water, and soil pollution and contamination.",
          "SDG/Good Health and Well-Being/By 2030, significantly decrease the number of fatalities and illnesses caused by dangerous chemicals, as well as mitigate the impact of air, water, and soil pollution and contamination.",
          "SDG/Good Health and Well-Being/By 2030, significantly decrease the number of fatalities and illnesses caused by dangerous chemicals, as well as mitigate the impact of air, water, and soil pollution and contamination.",
          "SDG/Good Health and Well-Being/Enhance the enforcement and application of the World Health Organization Framework Convention on Tobacco Control in all relevant countries, as deemed suitable.",
          "SDG/Good Health and Well-Being/Promote and facilitate research and innovation in the field of vaccines and medications for both communicable and non-communicable diseases that disproportionately impact developing nations. Additionally, ensure affordable access to essential medicines and vaccines, aligning with the principles outlined in the Doha Declaration on the Trade-Related Aspects of Intellectual Property Rights (TRIPS) and Public Health.",
          "SDG/Good Health and Well-Being/Promote and facilitate research and innovation in the field of vaccines and medications for both communicable and non-communicable diseases that disproportionately impact developing nations. Additionally, ensure affordable access to essential medicines and vaccines, aligning with the principles outlined in the Doha Declaration on the Trade-Related Aspects of Intellectual Property Rights (TRIPS) and Public Health.",
          "SDG/Good Health and Well-Being/Promote and facilitate research and innovation in the field of vaccines and medications for both communicable and non-communicable diseases that disproportionately impact developing nations. Additionally, ensure affordable access to essential medicines and vaccines, aligning with the principles outlined in the Doha Declaration on the Trade-Related Aspects of Intellectual Property Rights (TRIPS) and Public Health.",
          "SDG/Good Health and Well-Being/Significantly augment health funding and prioritize the recruitment, advancement, training, and retention of healthcare professionals in developing nations, particularly in least developed countries and small island developing states.",
          "SDG/Good Health and Well-Being/Enhance the capabilities of all nations, with a particular focus on developing countries, to strengthen early warning systems, mitigate risks, and manage health threats at both national and global levels.",
          "SDG/Good Health and Well-Being/Enhance the capabilities of all nations, with a particular focus on developing countries, to strengthen early warning systems, mitigate risks, and manage health threats at both national and global levels.",
          "SDG/Quality Education/By 2030, ensure the achievement of universal, free, fair, and high-quality primary and secondary education for all girls and boys. This education should result in relevant and effective learning outcomes for students.",
          "SDG/Quality Education/By 2030, ensure the achievement of universal, free, fair, and high-quality primary and secondary education for all girls and boys. This education should result in relevant and effective learning outcomes for students.",
          "SDG/Quality Education/Proportion of children aged 24–59 months who are developmentally on track in health, learning and psychosocial well-being, by sex",
          "SDG/Quality Education/Proportion of children aged 24–59 months who are developmentally on track in health, learning and psychosocial well-being, by sex",
          "SDG/Quality Education/By 2030, guarantee equal opportunities for women and men to avail affordable and high-quality technical, vocational, and higher education, including university-level education.",
          "SDG/Quality Education/By 2030, significantly enhance the number of young people and adults equipped with relevant skills, including technical and vocational competencies, to foster employment, secure decent jobs, and promote entrepreneurship.",
          "SDG/Quality Education/By  2030, eradicate gender inequalities in education and ensure equal access for all individuals, including vulnerable groups such as persons with disabilities, indigenous peoples, and children in precarious circumstances, to all levels of education and vocational training.",
          "SDG/Quality Education/By 2030, guarantee that every young person and a significant portion of adults, regardless of gender, attain proficiency in reading, writing, and basic arithmetic skills.",
          "SDG/Quality Education/By 2030, guarantee that all individuals attain the necessary knowledge and competencies to advance sustainable development.",
          "SDG/Quality Education/Construct and improve educational infrastructures that are considerate of the needs of children, individuals with disabilities, and different genders. ",
          "SDG/Quality Education/By 2020, significantly increase the global number of scholarships to developing nations, with a specific emphasis on least developed countries, small island developing states, and African countries.",
          "SDG/Quality Education/By  2030, significantly enhance the availability of qualified teachers, particularly in least developed countries, through international collaboration aimed at providing teacher training.",
          "SDG/Zero Hunger",
          "SDG/Good Health and Well-Being",
          "SDG/Zero Hunger",
          "SDG/Good Health and Well-Being",
          "SDG/Quality Education",
          "SDG/Good Health and Well-Being",
          "SDG/Good Health and Well-Being",
          "SDG/Quality Education",
          "SDG/Good Health and Well-Being",
          "SDG/Quality Education",
          "SDG/No Poverty",
          "SDG/Good Health and Well-Being",
          "SDG/Good Health and Well-Being",
          "SDG/No Poverty",
          "SDG/Quality Education",
          "SDG/Zero Hunger",
          "SDG/Zero Hunger",
          "SDG/Zero Hunger",
          "SDG/Quality Education",
          "SDG/No Poverty",
          "SDG/Quality Education",
          "SDG/Quality Education",
          "SDG/Good Health and Well-Being",
          "SDG/Quality Education",
          "SDG/Zero Hunger",
          "SDG/No Poverty",
          "SDG/No Poverty",
          "SDG/Quality Education",
          "SDG/Good Health and Well-Being",
          "SDG/Good Health and Well-Being",
          "SDG/Good Health and Well-Being",
          "SDG/No Poverty",
          "SDG/No Poverty",
          "SDG/Zero Hunger",
          "SDG/Good Health and Well-Being",
          "SDG/Quality Education",
          "SDG/Zero Hunger",
          "SDG/Good Health and Well-Being",
          "SDG",
          "SDG",
          "SDG",
          "SDG",
          ""
         ],
         "root": {
          "color": "lightgrey"
         },
         "type": "icicle",
         "values": [
          1,
          1,
          1,
          1,
          1,
          1,
          1,
          1,
          1,
          1,
          1,
          1,
          1,
          1,
          1,
          1,
          1,
          1,
          1,
          1,
          1,
          1,
          1,
          1,
          1,
          1,
          1,
          1,
          1,
          1,
          1,
          1,
          1,
          1,
          1,
          1,
          1,
          1,
          1,
          1,
          1,
          1,
          1,
          1,
          1,
          1,
          1,
          1,
          1,
          1,
          1,
          1,
          1,
          1,
          1,
          1,
          1,
          1,
          1,
          1,
          1,
          1,
          1,
          1,
          1,
          1,
          1,
          1,
          2,
          2,
          2,
          1,
          2,
          5,
          1,
          1,
          1,
          1,
          2,
          2,
          4,
          2,
          3,
          2,
          1,
          1,
          2,
          1,
          1,
          3,
          1,
          2,
          1,
          2,
          1,
          2,
          2,
          1,
          2,
          1,
          1,
          3,
          2,
          2,
          1,
          28,
          13,
          12,
          14,
          67
         ]
        }
       ],
       "layout": {
        "legend": {
         "tracegroupgap": 0
        },
        "margin": {
         "b": 25,
         "l": 25,
         "r": 25,
         "t": 50
        },
        "template": {
         "data": {
          "bar": [
           {
            "error_x": {
             "color": "#2a3f5f"
            },
            "error_y": {
             "color": "#2a3f5f"
            },
            "marker": {
             "line": {
              "color": "#E5ECF6",
              "width": 0.5
             },
             "pattern": {
              "fillmode": "overlay",
              "size": 10,
              "solidity": 0.2
             }
            },
            "type": "bar"
           }
          ],
          "barpolar": [
           {
            "marker": {
             "line": {
              "color": "#E5ECF6",
              "width": 0.5
             },
             "pattern": {
              "fillmode": "overlay",
              "size": 10,
              "solidity": 0.2
             }
            },
            "type": "barpolar"
           }
          ],
          "carpet": [
           {
            "aaxis": {
             "endlinecolor": "#2a3f5f",
             "gridcolor": "white",
             "linecolor": "white",
             "minorgridcolor": "white",
             "startlinecolor": "#2a3f5f"
            },
            "baxis": {
             "endlinecolor": "#2a3f5f",
             "gridcolor": "white",
             "linecolor": "white",
             "minorgridcolor": "white",
             "startlinecolor": "#2a3f5f"
            },
            "type": "carpet"
           }
          ],
          "choropleth": [
           {
            "colorbar": {
             "outlinewidth": 0,
             "ticks": ""
            },
            "type": "choropleth"
           }
          ],
          "contour": [
           {
            "colorbar": {
             "outlinewidth": 0,
             "ticks": ""
            },
            "colorscale": [
             [
              0,
              "#0d0887"
             ],
             [
              0.1111111111111111,
              "#46039f"
             ],
             [
              0.2222222222222222,
              "#7201a8"
             ],
             [
              0.3333333333333333,
              "#9c179e"
             ],
             [
              0.4444444444444444,
              "#bd3786"
             ],
             [
              0.5555555555555556,
              "#d8576b"
             ],
             [
              0.6666666666666666,
              "#ed7953"
             ],
             [
              0.7777777777777778,
              "#fb9f3a"
             ],
             [
              0.8888888888888888,
              "#fdca26"
             ],
             [
              1,
              "#f0f921"
             ]
            ],
            "type": "contour"
           }
          ],
          "contourcarpet": [
           {
            "colorbar": {
             "outlinewidth": 0,
             "ticks": ""
            },
            "type": "contourcarpet"
           }
          ],
          "heatmap": [
           {
            "colorbar": {
             "outlinewidth": 0,
             "ticks": ""
            },
            "colorscale": [
             [
              0,
              "#0d0887"
             ],
             [
              0.1111111111111111,
              "#46039f"
             ],
             [
              0.2222222222222222,
              "#7201a8"
             ],
             [
              0.3333333333333333,
              "#9c179e"
             ],
             [
              0.4444444444444444,
              "#bd3786"
             ],
             [
              0.5555555555555556,
              "#d8576b"
             ],
             [
              0.6666666666666666,
              "#ed7953"
             ],
             [
              0.7777777777777778,
              "#fb9f3a"
             ],
             [
              0.8888888888888888,
              "#fdca26"
             ],
             [
              1,
              "#f0f921"
             ]
            ],
            "type": "heatmap"
           }
          ],
          "heatmapgl": [
           {
            "colorbar": {
             "outlinewidth": 0,
             "ticks": ""
            },
            "colorscale": [
             [
              0,
              "#0d0887"
             ],
             [
              0.1111111111111111,
              "#46039f"
             ],
             [
              0.2222222222222222,
              "#7201a8"
             ],
             [
              0.3333333333333333,
              "#9c179e"
             ],
             [
              0.4444444444444444,
              "#bd3786"
             ],
             [
              0.5555555555555556,
              "#d8576b"
             ],
             [
              0.6666666666666666,
              "#ed7953"
             ],
             [
              0.7777777777777778,
              "#fb9f3a"
             ],
             [
              0.8888888888888888,
              "#fdca26"
             ],
             [
              1,
              "#f0f921"
             ]
            ],
            "type": "heatmapgl"
           }
          ],
          "histogram": [
           {
            "marker": {
             "pattern": {
              "fillmode": "overlay",
              "size": 10,
              "solidity": 0.2
             }
            },
            "type": "histogram"
           }
          ],
          "histogram2d": [
           {
            "colorbar": {
             "outlinewidth": 0,
             "ticks": ""
            },
            "colorscale": [
             [
              0,
              "#0d0887"
             ],
             [
              0.1111111111111111,
              "#46039f"
             ],
             [
              0.2222222222222222,
              "#7201a8"
             ],
             [
              0.3333333333333333,
              "#9c179e"
             ],
             [
              0.4444444444444444,
              "#bd3786"
             ],
             [
              0.5555555555555556,
              "#d8576b"
             ],
             [
              0.6666666666666666,
              "#ed7953"
             ],
             [
              0.7777777777777778,
              "#fb9f3a"
             ],
             [
              0.8888888888888888,
              "#fdca26"
             ],
             [
              1,
              "#f0f921"
             ]
            ],
            "type": "histogram2d"
           }
          ],
          "histogram2dcontour": [
           {
            "colorbar": {
             "outlinewidth": 0,
             "ticks": ""
            },
            "colorscale": [
             [
              0,
              "#0d0887"
             ],
             [
              0.1111111111111111,
              "#46039f"
             ],
             [
              0.2222222222222222,
              "#7201a8"
             ],
             [
              0.3333333333333333,
              "#9c179e"
             ],
             [
              0.4444444444444444,
              "#bd3786"
             ],
             [
              0.5555555555555556,
              "#d8576b"
             ],
             [
              0.6666666666666666,
              "#ed7953"
             ],
             [
              0.7777777777777778,
              "#fb9f3a"
             ],
             [
              0.8888888888888888,
              "#fdca26"
             ],
             [
              1,
              "#f0f921"
             ]
            ],
            "type": "histogram2dcontour"
           }
          ],
          "mesh3d": [
           {
            "colorbar": {
             "outlinewidth": 0,
             "ticks": ""
            },
            "type": "mesh3d"
           }
          ],
          "parcoords": [
           {
            "line": {
             "colorbar": {
              "outlinewidth": 0,
              "ticks": ""
             }
            },
            "type": "parcoords"
           }
          ],
          "pie": [
           {
            "automargin": true,
            "type": "pie"
           }
          ],
          "scatter": [
           {
            "fillpattern": {
             "fillmode": "overlay",
             "size": 10,
             "solidity": 0.2
            },
            "type": "scatter"
           }
          ],
          "scatter3d": [
           {
            "line": {
             "colorbar": {
              "outlinewidth": 0,
              "ticks": ""
             }
            },
            "marker": {
             "colorbar": {
              "outlinewidth": 0,
              "ticks": ""
             }
            },
            "type": "scatter3d"
           }
          ],
          "scattercarpet": [
           {
            "marker": {
             "colorbar": {
              "outlinewidth": 0,
              "ticks": ""
             }
            },
            "type": "scattercarpet"
           }
          ],
          "scattergeo": [
           {
            "marker": {
             "colorbar": {
              "outlinewidth": 0,
              "ticks": ""
             }
            },
            "type": "scattergeo"
           }
          ],
          "scattergl": [
           {
            "marker": {
             "colorbar": {
              "outlinewidth": 0,
              "ticks": ""
             }
            },
            "type": "scattergl"
           }
          ],
          "scattermapbox": [
           {
            "marker": {
             "colorbar": {
              "outlinewidth": 0,
              "ticks": ""
             }
            },
            "type": "scattermapbox"
           }
          ],
          "scatterpolar": [
           {
            "marker": {
             "colorbar": {
              "outlinewidth": 0,
              "ticks": ""
             }
            },
            "type": "scatterpolar"
           }
          ],
          "scatterpolargl": [
           {
            "marker": {
             "colorbar": {
              "outlinewidth": 0,
              "ticks": ""
             }
            },
            "type": "scatterpolargl"
           }
          ],
          "scatterternary": [
           {
            "marker": {
             "colorbar": {
              "outlinewidth": 0,
              "ticks": ""
             }
            },
            "type": "scatterternary"
           }
          ],
          "surface": [
           {
            "colorbar": {
             "outlinewidth": 0,
             "ticks": ""
            },
            "colorscale": [
             [
              0,
              "#0d0887"
             ],
             [
              0.1111111111111111,
              "#46039f"
             ],
             [
              0.2222222222222222,
              "#7201a8"
             ],
             [
              0.3333333333333333,
              "#9c179e"
             ],
             [
              0.4444444444444444,
              "#bd3786"
             ],
             [
              0.5555555555555556,
              "#d8576b"
             ],
             [
              0.6666666666666666,
              "#ed7953"
             ],
             [
              0.7777777777777778,
              "#fb9f3a"
             ],
             [
              0.8888888888888888,
              "#fdca26"
             ],
             [
              1,
              "#f0f921"
             ]
            ],
            "type": "surface"
           }
          ],
          "table": [
           {
            "cells": {
             "fill": {
              "color": "#EBF0F8"
             },
             "line": {
              "color": "white"
             }
            },
            "header": {
             "fill": {
              "color": "#C8D4E3"
             },
             "line": {
              "color": "white"
             }
            },
            "type": "table"
           }
          ]
         },
         "layout": {
          "annotationdefaults": {
           "arrowcolor": "#2a3f5f",
           "arrowhead": 0,
           "arrowwidth": 1
          },
          "autotypenumbers": "strict",
          "coloraxis": {
           "colorbar": {
            "outlinewidth": 0,
            "ticks": ""
           }
          },
          "colorscale": {
           "diverging": [
            [
             0,
             "#8e0152"
            ],
            [
             0.1,
             "#c51b7d"
            ],
            [
             0.2,
             "#de77ae"
            ],
            [
             0.3,
             "#f1b6da"
            ],
            [
             0.4,
             "#fde0ef"
            ],
            [
             0.5,
             "#f7f7f7"
            ],
            [
             0.6,
             "#e6f5d0"
            ],
            [
             0.7,
             "#b8e186"
            ],
            [
             0.8,
             "#7fbc41"
            ],
            [
             0.9,
             "#4d9221"
            ],
            [
             1,
             "#276419"
            ]
           ],
           "sequential": [
            [
             0,
             "#0d0887"
            ],
            [
             0.1111111111111111,
             "#46039f"
            ],
            [
             0.2222222222222222,
             "#7201a8"
            ],
            [
             0.3333333333333333,
             "#9c179e"
            ],
            [
             0.4444444444444444,
             "#bd3786"
            ],
            [
             0.5555555555555556,
             "#d8576b"
            ],
            [
             0.6666666666666666,
             "#ed7953"
            ],
            [
             0.7777777777777778,
             "#fb9f3a"
            ],
            [
             0.8888888888888888,
             "#fdca26"
            ],
            [
             1,
             "#f0f921"
            ]
           ],
           "sequentialminus": [
            [
             0,
             "#0d0887"
            ],
            [
             0.1111111111111111,
             "#46039f"
            ],
            [
             0.2222222222222222,
             "#7201a8"
            ],
            [
             0.3333333333333333,
             "#9c179e"
            ],
            [
             0.4444444444444444,
             "#bd3786"
            ],
            [
             0.5555555555555556,
             "#d8576b"
            ],
            [
             0.6666666666666666,
             "#ed7953"
            ],
            [
             0.7777777777777778,
             "#fb9f3a"
            ],
            [
             0.8888888888888888,
             "#fdca26"
            ],
            [
             1,
             "#f0f921"
            ]
           ]
          },
          "colorway": [
           "#636efa",
           "#EF553B",
           "#00cc96",
           "#ab63fa",
           "#FFA15A",
           "#19d3f3",
           "#FF6692",
           "#B6E880",
           "#FF97FF",
           "#FECB52"
          ],
          "font": {
           "color": "#2a3f5f"
          },
          "geo": {
           "bgcolor": "white",
           "lakecolor": "white",
           "landcolor": "#E5ECF6",
           "showlakes": true,
           "showland": true,
           "subunitcolor": "white"
          },
          "hoverlabel": {
           "align": "left"
          },
          "hovermode": "closest",
          "mapbox": {
           "style": "light"
          },
          "paper_bgcolor": "white",
          "plot_bgcolor": "#E5ECF6",
          "polar": {
           "angularaxis": {
            "gridcolor": "white",
            "linecolor": "white",
            "ticks": ""
           },
           "bgcolor": "#E5ECF6",
           "radialaxis": {
            "gridcolor": "white",
            "linecolor": "white",
            "ticks": ""
           }
          },
          "scene": {
           "xaxis": {
            "backgroundcolor": "#E5ECF6",
            "gridcolor": "white",
            "gridwidth": 2,
            "linecolor": "white",
            "showbackground": true,
            "ticks": "",
            "zerolinecolor": "white"
           },
           "yaxis": {
            "backgroundcolor": "#E5ECF6",
            "gridcolor": "white",
            "gridwidth": 2,
            "linecolor": "white",
            "showbackground": true,
            "ticks": "",
            "zerolinecolor": "white"
           },
           "zaxis": {
            "backgroundcolor": "#E5ECF6",
            "gridcolor": "white",
            "gridwidth": 2,
            "linecolor": "white",
            "showbackground": true,
            "ticks": "",
            "zerolinecolor": "white"
           }
          },
          "shapedefaults": {
           "line": {
            "color": "#2a3f5f"
           }
          },
          "ternary": {
           "aaxis": {
            "gridcolor": "white",
            "linecolor": "white",
            "ticks": ""
           },
           "baxis": {
            "gridcolor": "white",
            "linecolor": "white",
            "ticks": ""
           },
           "bgcolor": "#E5ECF6",
           "caxis": {
            "gridcolor": "white",
            "linecolor": "white",
            "ticks": ""
           }
          },
          "title": {
           "x": 0.05
          },
          "xaxis": {
           "automargin": true,
           "gridcolor": "white",
           "linecolor": "white",
           "ticks": "",
           "title": {
            "standoff": 15
           },
           "zerolinecolor": "white",
           "zerolinewidth": 2
          },
          "yaxis": {
           "automargin": true,
           "gridcolor": "white",
           "linecolor": "white",
           "ticks": "",
           "title": {
            "standoff": 15
           },
           "zerolinecolor": "white",
           "zerolinewidth": 2
          }
         }
        }
       }
      },
      "text/html": [
       "<div>                            <div id=\"17f05095-e419-498e-a006-d94bc8da8e3f\" class=\"plotly-graph-div\" style=\"height:525px; width:100%;\"></div>            <script type=\"text/javascript\">                require([\"plotly\"], function(Plotly) {                    window.PLOTLYENV=window.PLOTLYENV || {};                                    if (document.getElementById(\"17f05095-e419-498e-a006-d94bc8da8e3f\")) {                    Plotly.newPlot(                        \"17f05095-e419-498e-a006-d94bc8da8e3f\",                        [{\"branchvalues\":\"total\",\"domain\":{\"x\":[0.0,1.0],\"y\":[0.0,1.0]},\"ids\":[\"SDG/No Poverty/By 2030, achieve the complete elimination of extreme poverty for all individuals globally, such as no individuals will be living on less than $1.25 per day./1.1.1. Proportion of the population living below the international poverty line by sex, age, employment status and geographical location (urban/rural)\",\"SDG/No Poverty/By 2030, the proportion of men, women and children living in poverty (i.e., based on the country\\u2019s definition of poverty) should be reduced by half./1.2.1. Proportion of population living below the national poverty line, by sex and age\",\"SDG/No Poverty/By 2030, the proportion of men, women and children living in poverty (i.e., based on the country\\u2019s definition of poverty) should be reduced by half./1.2.2. Proportion of men, women and children of all ages living in poverty in all its dimensions according to national definitions\",\"SDG/No Poverty/By 2030, the aim is to achieve significant coverage of social protection programs for those living in poverty and vulnerable conditions, and introduce social protection systems and measures that are tailored to each country's needs, providing coverage for all individuals, including establishing minimum standards. /1.3.1. Proportion of population covered by social protection floors/systems, by sex, distinguishing children, unemployed persons, older persons, persons with disabilities, pregnant women, newborns, work-injury victims and the poor and the vulnerable\",\"SDG/No Poverty/By 2030, guarantee equal rights for all individuals, particularly the impoverished and vulnerable, to economic resources. /1.4.1. Proportion of population living in households with access to basic services\",\"SDG/No Poverty/By 2030, guarantee equal rights for all individuals, particularly the impoverished and vulnerable, to economic resources. /1.4.2. Proportion of total adult population with secure tenure rights to land, (a) with legally recognized documentation, and (b) who perceive their rights to land as secure, by sex and by type of tenure\",\"SDG/No Poverty/By 2030, enhance the resilience of individuals living in poverty and vulnerable circumstances, reducing their exposure and susceptibility to climate-related extreme events, as well as other economic, social, and environmental shocks and disasters./1.5.1. Number of deaths, missing persons and directly affected persons attributed to disasters per 100,000 population\",\"SDG/No Poverty/By 2030, enhance the resilience of individuals living in poverty and vulnerable circumstances, reducing their exposure and susceptibility to climate-related extreme events, as well as other economic, social, and environmental shocks and disasters./1.5.2. Direct economic loss attributed to disasters in relation to global gross domestic product (GDP)\",\"SDG/No Poverty/By 2030, enhance the resilience of individuals living in poverty and vulnerable circumstances, reducing their exposure and susceptibility to climate-related extreme events, as well as other economic, social, and environmental shocks and disasters./1.5.3. Number of countries that adopt and implement national disaster risk reduction strategies in line with the Sendai Framework for Disaster Risk Reduction 2015-2030\",\"SDG/No Poverty/By 2030, enhance the resilience of individuals living in poverty and vulnerable circumstances, reducing their exposure and susceptibility to climate-related extreme events, as well as other economic, social, and environmental shocks and disasters./1.5.4. Proportion of local governments that adopt and implement local disaster risk reduction strategies in line with national disaster risk reduction strategies\",\"SDG/No Poverty/Ensure substantial mobilization of resources from diverse channels, including strengthened development cooperation, to ensure that developing countries, especially least developed nations, have sufficient and predictable means to implement comprehensive programs and policies aimed at eradicating poverty in all its dimensions./1.a.1. Total official development assistance grants from all donors that focus on poverty reduction as a share of the recipient country's gross national income\",\"SDG/No Poverty/Ensure substantial mobilization of resources from diverse channels, including strengthened development cooperation, to ensure that developing countries, especially least developed nations, have sufficient and predictable means to implement comprehensive programs and policies aimed at eradicating poverty in all its dimensions./1.a.2. Proportion of total government spending on essential services (education, health and social protection)\",\"SDG/No Poverty/Establish robust policy frameworks at the national, regional, and international levels that are rooted in pro-poor and gender-responsive development strategies. /1.b.1. Pro-poor public social spending\",\"SDG/Zero Hunger/By 2030, eradicate hunger and ensure that everyone, especially those living in poverty and vulnerable conditions, including infants, has consistent access to safe, nutritious, and adequate food throughout the year./2.1.1. Prevalence of undernourishment\",\"SDG/Zero Hunger/By 2030, eradicate hunger and ensure that everyone, especially those living in poverty and vulnerable conditions, including infants, has consistent access to safe, nutritious, and adequate food throughout the year./2.1.2. Prevalence of moderate or severe food insecurity in the population, based on the Food Insecurity Experience Scale (FIES)\",\"SDG/Zero Hunger/By 2030, eradicate all manifestations of malnutrition, including attaining the internationally agreed-upon goals for reducing stunting and wasting in children under the age of 5 by 2025. Additionally, focus on addressing the nutritional requirements of adolescent girls, pregnant and lactating women, and older individuals./2.2.1. Prevalence of stunting (height for age <-2 standard deviation from the median of the World Health Organization (WHO) Child Growth Standards) among children under 5 years of age\",\"SDG/Zero Hunger/By 2030, eradicate all manifestations of malnutrition, including attaining the internationally agreed-upon goals for reducing stunting and wasting in children under the age of 5 by 2025. Additionally, focus on addressing the nutritional requirements of adolescent girls, pregnant and lactating women, and older individuals./2.2.2. Prevalence of malnutrition (weight for height >+2 or <-2 standard deviation from the median of the WHO Child Growth Standards) among children under 5 years of age, by type (wasting and overweight)\",\"SDG/Zero Hunger/By 2030, eradicate all manifestations of malnutrition, including attaining the internationally agreed-upon goals for reducing stunting and wasting in children under the age of 5 by 2025. Additionally, focus on addressing the nutritional requirements of adolescent girls, pregnant and lactating women, and older individuals./2.2.3. Prevalence of anaemia in women aged 15 to 49 years, by pregnancy status (percentage)\",\"SDG/Zero Hunger/By 2030, strive to achieve to double the increase in agricultural productivity and incomes for small-scale food producers, with special emphasis on women, indigenous communities, family farmers, pastoralists, and fishers./2.3.1. Volume of production per labour unit by classes of farming/pastoral/forestry enterprise size\",\"SDG/Zero Hunger/By 2030, strive to achieve to double the increase in agricultural productivity and incomes for small-scale food producers, with special emphasis on women, indigenous communities, family farmers, pastoralists, and fishers./2.3.2. Average income of small-scale food producers, by sex and indigenous status\",\"SDG/Zero Hunger/By 2030, establish sustainable food production systems and adopt resilient agricultural practices that enhance productivity and output. /2.4.1. Proportion of agricultural area under productive and sustainable agriculture\",\"SDG/Zero Hunger/Safeguard the genetic diversity of seeds, cultivated plants, domesticated animals, and their associated wild species by preserving them in well-managed and diversified seed and plant banks at national, regional, and international levels. Additionally, promote access to genetic resources and the fair and equitable sharing of benefits derived from their utilization, in accordance with internationally agreed agreements and protocols, including the protection of traditional knowledge./2.5.1. Number of (a) plant and (b) animal genetic resources for food and agriculture secured in either medium- or long-term conservation facilities\",\"SDG/Zero Hunger/Safeguard the genetic diversity of seeds, cultivated plants, domesticated animals, and their associated wild species by preserving them in well-managed and diversified seed and plant banks at national, regional, and international levels. Additionally, promote access to genetic resources and the fair and equitable sharing of benefits derived from their utilization, in accordance with internationally agreed agreements and protocols, including the protection of traditional knowledge./2.5.2. Proportion of local breeds classified as being at risk of extinction\",\"SDG/Zero Hunger/Boost investment, including through intensified international collaboration, in rural infrastructure, agricultural research, extension services, technology advancement, and the preservation of plant and livestock gene banks. /2.a.1. The agriculture orientation index for government expenditures\",\"SDG/Zero Hunger/Boost investment, including through intensified international collaboration, in rural infrastructure, agricultural research, extension services, technology advancement, and the preservation of plant and livestock gene banks. /2.a.2. Total official flows (official development assistance plus other official flows) to the agriculture sector\",\"SDG/Zero Hunger/Address and prevent trade restrictions and imbalances in global agricultural markets, including the complete elimination of agricultural export subsidies and export measures that have similar impacts. These actions should align with the objectives of the Doha Development Round./2.b.1. Agricultural export subsidies\",\"SDG/Zero Hunger/Implement measures to ensure the effective operation of food commodity markets and their derivatives, while also enabling timely access to market information, including data on food reserves. These efforts are crucial in mitigating excessive volatility in food prices./2.c.1. Indicator of food price anomalies\",\"SDG/Good Health and Well-Being/By 2030, decrease the worldwide maternal mortality ratio to below 70 deaths per 100,000 live births./3.1.1. Maternal mortality ratio\",\"SDG/Good Health and Well-Being/By 2030, decrease the worldwide maternal mortality ratio to below 70 deaths per 100,000 live births./3.1.2. Proportion of births attended by skilled health personnel\",\"SDG/Good Health and Well-Being/By  2030, achieve the elimination of avoidable deaths among newborns and children under the age of five, with all nations striving to reduce neonatal mortality to a level no higher than 12 per 1,000 live births, and under-five mortality to a level no higher than 25 per 1,000 live births./3.2.1. Under-five mortality rate\",\"SDG/Good Health and Well-Being/By  2030, achieve the elimination of avoidable deaths among newborns and children under the age of five, with all nations striving to reduce neonatal mortality to a level no higher than 12 per 1,000 live births, and under-five mortality to a level no higher than 25 per 1,000 live births./3.2.2. Neonatal mortality rate\",\"SDG/Good Health and Well-Being/By  2030, put an end to the epidemics of AIDS, tuberculosis, malaria, and neglected tropical diseases, while also addressing the challenges posed by hepatitis, water-borne diseases, and other communicable diseases./3.3.1. Number of new HIV infections per 1,000 uninfected population, by sex, age and key populations\",\"SDG/Good Health and Well-Being/By  2030, put an end to the epidemics of AIDS, tuberculosis, malaria, and neglected tropical diseases, while also addressing the challenges posed by hepatitis, water-borne diseases, and other communicable diseases./3.3.2. Tuberculosis incidence per 100,000 population\",\"SDG/Good Health and Well-Being/By  2030, put an end to the epidemics of AIDS, tuberculosis, malaria, and neglected tropical diseases, while also addressing the challenges posed by hepatitis, water-borne diseases, and other communicable diseases./3.3.3. Malaria incidence per 1,000 population\",\"SDG/Good Health and Well-Being/By  2030, put an end to the epidemics of AIDS, tuberculosis, malaria, and neglected tropical diseases, while also addressing the challenges posed by hepatitis, water-borne diseases, and other communicable diseases./3.3.4. Hepatitis B incidence per 100,000 population\",\"SDG/Good Health and Well-Being/By  2030, put an end to the epidemics of AIDS, tuberculosis, malaria, and neglected tropical diseases, while also addressing the challenges posed by hepatitis, water-borne diseases, and other communicable diseases./3.3.5. Number of people requiring interventions against neglected tropical diseases\",\"SDG/Good Health and Well-Being/By 2030, decrease premature mortality from non-communicable diseases by one-third through preventive measures, treatment interventions, and the promotion of mental health and overall well-being./3.4.1. Mortality rate attributed to cardiovascular disease, cancer, diabetes or chronic respiratory disease\",\"SDG/Good Health and Well-Being/By 2030, decrease premature mortality from non-communicable diseases by one-third through preventive measures, treatment interventions, and the promotion of mental health and overall well-being./3.4.2. Suicide mortality rate\",\"SDG/Good Health and Well-Being/Enhance efforts to prevent and address substance abuse, including the misuse of narcotic drugs and harmful alcohol consumption, through improved prevention measures and effective treatment approaches./3.5.1. Coverage of treatment interventions (pharmacological, psychosocial and rehabilitation and aftercare services) for substance use disorders\",\"SDG/Good Health and Well-Being/Enhance efforts to prevent and address substance abuse, including the misuse of narcotic drugs and harmful alcohol consumption, through improved prevention measures and effective treatment approaches./3.5.2. Alcohol per capita consumption (aged 15 years and older) within a calendar year in litres of pure alcohol\",\"SDG/Good Health and Well-Being/By 2020, reduce by half the worldwide number of fatalities and injuries resulting from road traffic accidents./3.6.1. Death rate due to road traffic injuries\",\"SDG/Good Health and Well-Being/By  2030, guarantee equal and widespread availability of sexual and reproductive healthcare services, including family planning, comprehensive information, and education, as well as the incorporation of reproductive health within national strategies and programs./3.7.1. Proportion of women of reproductive age (aged 15-49 years) who have their need for family planning satisfied with modern methods\",\"SDG/Good Health and Well-Being/By  2030, guarantee equal and widespread availability of sexual and reproductive healthcare services, including family planning, comprehensive information, and education, as well as the incorporation of reproductive health within national strategies and programs./3.7.2. Adolescent birth rate (aged 10-14 years; aged 15-19 years) per 1,000 women in that age group\",\"SDG/Good Health and Well-Being/Attain universal health coverage for everyone, encompassing financial security, access to high-quality essential healthcare services, and availability of safe, effective, and affordable essential medicines and vaccines for all individuals./3.8.1. Coverage of essential health services\",\"SDG/Good Health and Well-Being/Attain universal health coverage for everyone, encompassing financial security, access to high-quality essential healthcare services, and availability of safe, effective, and affordable essential medicines and vaccines for all individuals./3.8.2. Proportion of population with large household expenditures on health as a share of total household expenditure or income\",\"SDG/Good Health and Well-Being/By 2030, significantly decrease the number of fatalities and illnesses caused by dangerous chemicals, as well as mitigate the impact of air, water, and soil pollution and contamination./3.9.1. Mortality rate attributed to household and ambient air pollution\",\"SDG/Good Health and Well-Being/By 2030, significantly decrease the number of fatalities and illnesses caused by dangerous chemicals, as well as mitigate the impact of air, water, and soil pollution and contamination./3.9.2. Mortality rate attributed to unsafe water, unsafe sanitation and lack of hygiene (exposure to unsafe Water, Sanitation and Hygiene for All (WASH) services)\",\"SDG/Good Health and Well-Being/By 2030, significantly decrease the number of fatalities and illnesses caused by dangerous chemicals, as well as mitigate the impact of air, water, and soil pollution and contamination./3.9.3. Mortality rate attributed to unintentional poisoning\",\"SDG/Good Health and Well-Being/Enhance the enforcement and application of the World Health Organization Framework Convention on Tobacco Control in all relevant countries, as deemed suitable./3.a.1. Age-standardized prevalence of current tobacco use among persons aged 15 years and older\",\"SDG/Good Health and Well-Being/Promote and facilitate research and innovation in the field of vaccines and medications for both communicable and non-communicable diseases that disproportionately impact developing nations. Additionally, ensure affordable access to essential medicines and vaccines, aligning with the principles outlined in the Doha Declaration on the Trade-Related Aspects of Intellectual Property Rights (TRIPS) and Public Health./3.b.1. Proportion of the target population covered by all vaccines included in their national programme\",\"SDG/Good Health and Well-Being/Promote and facilitate research and innovation in the field of vaccines and medications for both communicable and non-communicable diseases that disproportionately impact developing nations. Additionally, ensure affordable access to essential medicines and vaccines, aligning with the principles outlined in the Doha Declaration on the Trade-Related Aspects of Intellectual Property Rights (TRIPS) and Public Health./3.b.2. Total net official development assistance to medical research and basic health sectors\",\"SDG/Good Health and Well-Being/Promote and facilitate research and innovation in the field of vaccines and medications for both communicable and non-communicable diseases that disproportionately impact developing nations. Additionally, ensure affordable access to essential medicines and vaccines, aligning with the principles outlined in the Doha Declaration on the Trade-Related Aspects of Intellectual Property Rights (TRIPS) and Public Health./3.b.3. Proportion of health facilities that have a core set of relevant essential medicines available and affordable on a sustainable basis\",\"SDG/Good Health and Well-Being/Significantly augment health funding and prioritize the recruitment, advancement, training, and retention of healthcare professionals in developing nations, particularly in least developed countries and small island developing states./3.c.1. Health worker density and distribution\",\"SDG/Good Health and Well-Being/Enhance the capabilities of all nations, with a particular focus on developing countries, to strengthen early warning systems, mitigate risks, and manage health threats at both national and global levels./3.d.1. International Health Regulations (IHR) capacity and health emergency preparedness\",\"SDG/Good Health and Well-Being/Enhance the capabilities of all nations, with a particular focus on developing countries, to strengthen early warning systems, mitigate risks, and manage health threats at both national and global levels./3.d.2. Percentage of bloodstream infections due to selected antimicrobial-resistant organisms\",\"SDG/Quality Education/By 2030, ensure the achievement of universal, free, fair, and high-quality primary and secondary education for all girls and boys. This education should result in relevant and effective learning outcomes for students./4.1.1. Proportion of children and young people (a) in grades 2/3; (b) at the end of primary; and (c) at the end of lower secondary achieving at least a minimum proficiency level in (i) reading and (ii) mathematics, by sex\",\"SDG/Quality Education/By 2030, ensure the achievement of universal, free, fair, and high-quality primary and secondary education for all girls and boys. This education should result in relevant and effective learning outcomes for students./4.1.2. Completion rate (primary education, lower secondary education, upper secondary education)\",\"SDG/Quality Education/Proportion of children aged 24\\u201359 months who are developmentally on track in health, learning and psychosocial well-being, by sex/4.2.1. Proportion of children aged 24\\u201359 months who are developmentally on track in health, learning and psychosocial well-being, by sex\",\"SDG/Quality Education/Proportion of children aged 24\\u201359 months who are developmentally on track in health, learning and psychosocial well-being, by sex/4.2.2. Participation rate in organized learning (one year before the official primary entry age), by sex\",\"SDG/Quality Education/By 2030, guarantee equal opportunities for women and men to avail affordable and high-quality technical, vocational, and higher education, including university-level education./4.3.1. Participation rate of youth and adults in formal and non-formal education and training in the previous 12 months, by sex\",\"SDG/Quality Education/By 2030, significantly enhance the number of young people and adults equipped with relevant skills, including technical and vocational competencies, to foster employment, secure decent jobs, and promote entrepreneurship./4.4.1. Proportion of youth and adults with information and communications technology (ICT) skills, by type of skill\",\"SDG/Quality Education/By  2030, eradicate gender inequalities in education and ensure equal access for all individuals, including vulnerable groups such as persons with disabilities, indigenous peoples, and children in precarious circumstances, to all levels of education and vocational training./4.5.1. Parity indices (female/male, rural/urban, bottom/top wealth quintile and others such as disability status, indigenous peoples and conflict-affected, as data become available) for all education indicators on this list that can be disaggregated\",\"SDG/Quality Education/By 2030, guarantee that every young person and a significant portion of adults, regardless of gender, attain proficiency in reading, writing, and basic arithmetic skills./4.6.1. Proportion of population in a given age group achieving at least a fixed level of proficiency in functional (a) literacy and (b) numeracy skills, by sex\",\"SDG/Quality Education/By 2030, guarantee that all individuals attain the necessary knowledge and competencies to advance sustainable development./4.7.1. Extent to which (i) global citizenship education and (ii) education for sustainable development are mainstreamed in (a) national education policies; (b) curricula; (c) teacher education and (d) student assessment\",\"SDG/Quality Education/Construct and improve educational infrastructures that are considerate of the needs of children, individuals with disabilities, and different genders. /4.a.1. Proportion of schools offering basic services, by type of service\",\"SDG/Quality Education/By 2020, significantly increase the global number of scholarships to developing nations, with a specific emphasis on least developed countries, small island developing states, and African countries./4.b.1. Volume of official development assistance flows for scholarships by sector and type of study\",\"SDG/Quality Education/By  2030, significantly enhance the availability of qualified teachers, particularly in least developed countries, through international collaboration aimed at providing teacher training./4.c.1. Proportion of teachers with the minimum required qualifications, by education level\",\"SDG/Zero Hunger/Address and prevent trade restrictions and imbalances in global agricultural markets, including the complete elimination of agricultural export subsidies and export measures that have similar impacts. These actions should align with the objectives of the Doha Development Round.\",\"SDG/Good Health and Well-Being/Attain universal health coverage for everyone, encompassing financial security, access to high-quality essential healthcare services, and availability of safe, effective, and affordable essential medicines and vaccines for all individuals.\",\"SDG/Zero Hunger/Boost investment, including through intensified international collaboration, in rural infrastructure, agricultural research, extension services, technology advancement, and the preservation of plant and livestock gene banks. \",\"SDG/Good Health and Well-Being/By  2030, achieve the elimination of avoidable deaths among newborns and children under the age of five, with all nations striving to reduce neonatal mortality to a level no higher than 12 per 1,000 live births, and under-five mortality to a level no higher than 25 per 1,000 live births.\",\"SDG/Quality Education/By  2030, eradicate gender inequalities in education and ensure equal access for all individuals, including vulnerable groups such as persons with disabilities, indigenous peoples, and children in precarious circumstances, to all levels of education and vocational training.\",\"SDG/Good Health and Well-Being/By  2030, guarantee equal and widespread availability of sexual and reproductive healthcare services, including family planning, comprehensive information, and education, as well as the incorporation of reproductive health within national strategies and programs.\",\"SDG/Good Health and Well-Being/By  2030, put an end to the epidemics of AIDS, tuberculosis, malaria, and neglected tropical diseases, while also addressing the challenges posed by hepatitis, water-borne diseases, and other communicable diseases.\",\"SDG/Quality Education/By  2030, significantly enhance the availability of qualified teachers, particularly in least developed countries, through international collaboration aimed at providing teacher training.\",\"SDG/Good Health and Well-Being/By 2020, reduce by half the worldwide number of fatalities and injuries resulting from road traffic accidents.\",\"SDG/Quality Education/By 2020, significantly increase the global number of scholarships to developing nations, with a specific emphasis on least developed countries, small island developing states, and African countries.\",\"SDG/No Poverty/By 2030, achieve the complete elimination of extreme poverty for all individuals globally, such as no individuals will be living on less than $1.25 per day.\",\"SDG/Good Health and Well-Being/By 2030, decrease premature mortality from non-communicable diseases by one-third through preventive measures, treatment interventions, and the promotion of mental health and overall well-being.\",\"SDG/Good Health and Well-Being/By 2030, decrease the worldwide maternal mortality ratio to below 70 deaths per 100,000 live births.\",\"SDG/No Poverty/By 2030, enhance the resilience of individuals living in poverty and vulnerable circumstances, reducing their exposure and susceptibility to climate-related extreme events, as well as other economic, social, and environmental shocks and disasters.\",\"SDG/Quality Education/By 2030, ensure the achievement of universal, free, fair, and high-quality primary and secondary education for all girls and boys. This education should result in relevant and effective learning outcomes for students.\",\"SDG/Zero Hunger/By 2030, eradicate all manifestations of malnutrition, including attaining the internationally agreed-upon goals for reducing stunting and wasting in children under the age of 5 by 2025. Additionally, focus on addressing the nutritional requirements of adolescent girls, pregnant and lactating women, and older individuals.\",\"SDG/Zero Hunger/By 2030, eradicate hunger and ensure that everyone, especially those living in poverty and vulnerable conditions, including infants, has consistent access to safe, nutritious, and adequate food throughout the year.\",\"SDG/Zero Hunger/By 2030, establish sustainable food production systems and adopt resilient agricultural practices that enhance productivity and output. \",\"SDG/Quality Education/By 2030, guarantee equal opportunities for women and men to avail affordable and high-quality technical, vocational, and higher education, including university-level education.\",\"SDG/No Poverty/By 2030, guarantee equal rights for all individuals, particularly the impoverished and vulnerable, to economic resources. \",\"SDG/Quality Education/By 2030, guarantee that all individuals attain the necessary knowledge and competencies to advance sustainable development.\",\"SDG/Quality Education/By 2030, guarantee that every young person and a significant portion of adults, regardless of gender, attain proficiency in reading, writing, and basic arithmetic skills.\",\"SDG/Good Health and Well-Being/By 2030, significantly decrease the number of fatalities and illnesses caused by dangerous chemicals, as well as mitigate the impact of air, water, and soil pollution and contamination.\",\"SDG/Quality Education/By 2030, significantly enhance the number of young people and adults equipped with relevant skills, including technical and vocational competencies, to foster employment, secure decent jobs, and promote entrepreneurship.\",\"SDG/Zero Hunger/By 2030, strive to achieve to double the increase in agricultural productivity and incomes for small-scale food producers, with special emphasis on women, indigenous communities, family farmers, pastoralists, and fishers.\",\"SDG/No Poverty/By 2030, the aim is to achieve significant coverage of social protection programs for those living in poverty and vulnerable conditions, and introduce social protection systems and measures that are tailored to each country's needs, providing coverage for all individuals, including establishing minimum standards. \",\"SDG/No Poverty/By 2030, the proportion of men, women and children living in poverty (i.e., based on the country\\u2019s definition of poverty) should be reduced by half.\",\"SDG/Quality Education/Construct and improve educational infrastructures that are considerate of the needs of children, individuals with disabilities, and different genders. \",\"SDG/Good Health and Well-Being/Enhance efforts to prevent and address substance abuse, including the misuse of narcotic drugs and harmful alcohol consumption, through improved prevention measures and effective treatment approaches.\",\"SDG/Good Health and Well-Being/Enhance the capabilities of all nations, with a particular focus on developing countries, to strengthen early warning systems, mitigate risks, and manage health threats at both national and global levels.\",\"SDG/Good Health and Well-Being/Enhance the enforcement and application of the World Health Organization Framework Convention on Tobacco Control in all relevant countries, as deemed suitable.\",\"SDG/No Poverty/Ensure substantial mobilization of resources from diverse channels, including strengthened development cooperation, to ensure that developing countries, especially least developed nations, have sufficient and predictable means to implement comprehensive programs and policies aimed at eradicating poverty in all its dimensions.\",\"SDG/No Poverty/Establish robust policy frameworks at the national, regional, and international levels that are rooted in pro-poor and gender-responsive development strategies. \",\"SDG/Zero Hunger/Implement measures to ensure the effective operation of food commodity markets and their derivatives, while also enabling timely access to market information, including data on food reserves. These efforts are crucial in mitigating excessive volatility in food prices.\",\"SDG/Good Health and Well-Being/Promote and facilitate research and innovation in the field of vaccines and medications for both communicable and non-communicable diseases that disproportionately impact developing nations. Additionally, ensure affordable access to essential medicines and vaccines, aligning with the principles outlined in the Doha Declaration on the Trade-Related Aspects of Intellectual Property Rights (TRIPS) and Public Health.\",\"SDG/Quality Education/Proportion of children aged 24\\u201359 months who are developmentally on track in health, learning and psychosocial well-being, by sex\",\"SDG/Zero Hunger/Safeguard the genetic diversity of seeds, cultivated plants, domesticated animals, and their associated wild species by preserving them in well-managed and diversified seed and plant banks at national, regional, and international levels. Additionally, promote access to genetic resources and the fair and equitable sharing of benefits derived from their utilization, in accordance with internationally agreed agreements and protocols, including the protection of traditional knowledge.\",\"SDG/Good Health and Well-Being/Significantly augment health funding and prioritize the recruitment, advancement, training, and retention of healthcare professionals in developing nations, particularly in least developed countries and small island developing states.\",\"SDG/Good Health and Well-Being\",\"SDG/No Poverty\",\"SDG/Quality Education\",\"SDG/Zero Hunger\",\"SDG\"],\"labels\":[\"1.1.1. Proportion of the population living below the international poverty line by sex, age, employment status and geographical location (urban/rural)\",\"1.2.1. Proportion of population living below the national poverty line, by sex and age\",\"1.2.2. Proportion of men, women and children of all ages living in poverty in all its dimensions according to national definitions\",\"1.3.1. Proportion of population covered by social protection floors/systems, by sex, distinguishing children, unemployed persons, older persons, persons with disabilities, pregnant women, newborns, work-injury victims and the poor and the vulnerable\",\"1.4.1. Proportion of population living in households with access to basic services\",\"1.4.2. Proportion of total adult population with secure tenure rights to land, (a) with legally recognized documentation, and (b) who perceive their rights to land as secure, by sex and by type of tenure\",\"1.5.1. Number of deaths, missing persons and directly affected persons attributed to disasters per 100,000 population\",\"1.5.2. Direct economic loss attributed to disasters in relation to global gross domestic product (GDP)\",\"1.5.3. Number of countries that adopt and implement national disaster risk reduction strategies in line with the Sendai Framework for Disaster Risk Reduction 2015-2030\",\"1.5.4. Proportion of local governments that adopt and implement local disaster risk reduction strategies in line with national disaster risk reduction strategies\",\"1.a.1. Total official development assistance grants from all donors that focus on poverty reduction as a share of the recipient country's gross national income\",\"1.a.2. Proportion of total government spending on essential services (education, health and social protection)\",\"1.b.1. Pro-poor public social spending\",\"2.1.1. Prevalence of undernourishment\",\"2.1.2. Prevalence of moderate or severe food insecurity in the population, based on the Food Insecurity Experience Scale (FIES)\",\"2.2.1. Prevalence of stunting (height for age <-2 standard deviation from the median of the World Health Organization (WHO) Child Growth Standards) among children under 5 years of age\",\"2.2.2. Prevalence of malnutrition (weight for height >+2 or <-2 standard deviation from the median of the WHO Child Growth Standards) among children under 5 years of age, by type (wasting and overweight)\",\"2.2.3. Prevalence of anaemia in women aged 15 to 49 years, by pregnancy status (percentage)\",\"2.3.1. Volume of production per labour unit by classes of farming/pastoral/forestry enterprise size\",\"2.3.2. Average income of small-scale food producers, by sex and indigenous status\",\"2.4.1. Proportion of agricultural area under productive and sustainable agriculture\",\"2.5.1. Number of (a) plant and (b) animal genetic resources for food and agriculture secured in either medium- or long-term conservation facilities\",\"2.5.2. Proportion of local breeds classified as being at risk of extinction\",\"2.a.1. The agriculture orientation index for government expenditures\",\"2.a.2. Total official flows (official development assistance plus other official flows) to the agriculture sector\",\"2.b.1. Agricultural export subsidies\",\"2.c.1. Indicator of food price anomalies\",\"3.1.1. Maternal mortality ratio\",\"3.1.2. Proportion of births attended by skilled health personnel\",\"3.2.1. Under-five mortality rate\",\"3.2.2. Neonatal mortality rate\",\"3.3.1. Number of new HIV infections per 1,000 uninfected population, by sex, age and key populations\",\"3.3.2. Tuberculosis incidence per 100,000 population\",\"3.3.3. Malaria incidence per 1,000 population\",\"3.3.4. Hepatitis B incidence per 100,000 population\",\"3.3.5. Number of people requiring interventions against neglected tropical diseases\",\"3.4.1. Mortality rate attributed to cardiovascular disease, cancer, diabetes or chronic respiratory disease\",\"3.4.2. Suicide mortality rate\",\"3.5.1. Coverage of treatment interventions (pharmacological, psychosocial and rehabilitation and aftercare services) for substance use disorders\",\"3.5.2. Alcohol per capita consumption (aged 15 years and older) within a calendar year in litres of pure alcohol\",\"3.6.1. Death rate due to road traffic injuries\",\"3.7.1. Proportion of women of reproductive age (aged 15-49 years) who have their need for family planning satisfied with modern methods\",\"3.7.2. Adolescent birth rate (aged 10-14 years; aged 15-19 years) per 1,000 women in that age group\",\"3.8.1. Coverage of essential health services\",\"3.8.2. Proportion of population with large household expenditures on health as a share of total household expenditure or income\",\"3.9.1. Mortality rate attributed to household and ambient air pollution\",\"3.9.2. Mortality rate attributed to unsafe water, unsafe sanitation and lack of hygiene (exposure to unsafe Water, Sanitation and Hygiene for All (WASH) services)\",\"3.9.3. Mortality rate attributed to unintentional poisoning\",\"3.a.1. Age-standardized prevalence of current tobacco use among persons aged 15 years and older\",\"3.b.1. Proportion of the target population covered by all vaccines included in their national programme\",\"3.b.2. Total net official development assistance to medical research and basic health sectors\",\"3.b.3. Proportion of health facilities that have a core set of relevant essential medicines available and affordable on a sustainable basis\",\"3.c.1. Health worker density and distribution\",\"3.d.1. International Health Regulations (IHR) capacity and health emergency preparedness\",\"3.d.2. Percentage of bloodstream infections due to selected antimicrobial-resistant organisms\",\"4.1.1. Proportion of children and young people (a) in grades 2/3; (b) at the end of primary; and (c) at the end of lower secondary achieving at least a minimum proficiency level in (i) reading and (ii) mathematics, by sex\",\"4.1.2. Completion rate (primary education, lower secondary education, upper secondary education)\",\"4.2.1. Proportion of children aged 24\\u201359 months who are developmentally on track in health, learning and psychosocial well-being, by sex\",\"4.2.2. Participation rate in organized learning (one year before the official primary entry age), by sex\",\"4.3.1. Participation rate of youth and adults in formal and non-formal education and training in the previous 12 months, by sex\",\"4.4.1. Proportion of youth and adults with information and communications technology (ICT) skills, by type of skill\",\"4.5.1. Parity indices (female/male, rural/urban, bottom/top wealth quintile and others such as disability status, indigenous peoples and conflict-affected, as data become available) for all education indicators on this list that can be disaggregated\",\"4.6.1. Proportion of population in a given age group achieving at least a fixed level of proficiency in functional (a) literacy and (b) numeracy skills, by sex\",\"4.7.1. Extent to which (i) global citizenship education and (ii) education for sustainable development are mainstreamed in (a) national education policies; (b) curricula; (c) teacher education and (d) student assessment\",\"4.a.1. Proportion of schools offering basic services, by type of service\",\"4.b.1. Volume of official development assistance flows for scholarships by sector and type of study\",\"4.c.1. Proportion of teachers with the minimum required qualifications, by education level\",\"Address and prevent trade restrictions and imbalances in global agricultural markets, including the complete elimination of agricultural export subsidies and export measures that have similar impacts. These actions should align with the objectives of the Doha Development Round.\",\"Attain universal health coverage for everyone, encompassing financial security, access to high-quality essential healthcare services, and availability of safe, effective, and affordable essential medicines and vaccines for all individuals.\",\"Boost investment, including through intensified international collaboration, in rural infrastructure, agricultural research, extension services, technology advancement, and the preservation of plant and livestock gene banks. \",\"By  2030, achieve the elimination of avoidable deaths among newborns and children under the age of five, with all nations striving to reduce neonatal mortality to a level no higher than 12 per 1,000 live births, and under-five mortality to a level no higher than 25 per 1,000 live births.\",\"By  2030, eradicate gender inequalities in education and ensure equal access for all individuals, including vulnerable groups such as persons with disabilities, indigenous peoples, and children in precarious circumstances, to all levels of education and vocational training.\",\"By  2030, guarantee equal and widespread availability of sexual and reproductive healthcare services, including family planning, comprehensive information, and education, as well as the incorporation of reproductive health within national strategies and programs.\",\"By  2030, put an end to the epidemics of AIDS, tuberculosis, malaria, and neglected tropical diseases, while also addressing the challenges posed by hepatitis, water-borne diseases, and other communicable diseases.\",\"By  2030, significantly enhance the availability of qualified teachers, particularly in least developed countries, through international collaboration aimed at providing teacher training.\",\"By 2020, reduce by half the worldwide number of fatalities and injuries resulting from road traffic accidents.\",\"By 2020, significantly increase the global number of scholarships to developing nations, with a specific emphasis on least developed countries, small island developing states, and African countries.\",\"By 2030, achieve the complete elimination of extreme poverty for all individuals globally, such as no individuals will be living on less than $1.25 per day.\",\"By 2030, decrease premature mortality from non-communicable diseases by one-third through preventive measures, treatment interventions, and the promotion of mental health and overall well-being.\",\"By 2030, decrease the worldwide maternal mortality ratio to below 70 deaths per 100,000 live births.\",\"By 2030, enhance the resilience of individuals living in poverty and vulnerable circumstances, reducing their exposure and susceptibility to climate-related extreme events, as well as other economic, social, and environmental shocks and disasters.\",\"By 2030, ensure the achievement of universal, free, fair, and high-quality primary and secondary education for all girls and boys. This education should result in relevant and effective learning outcomes for students.\",\"By 2030, eradicate all manifestations of malnutrition, including attaining the internationally agreed-upon goals for reducing stunting and wasting in children under the age of 5 by 2025. Additionally, focus on addressing the nutritional requirements of adolescent girls, pregnant and lactating women, and older individuals.\",\"By 2030, eradicate hunger and ensure that everyone, especially those living in poverty and vulnerable conditions, including infants, has consistent access to safe, nutritious, and adequate food throughout the year.\",\"By 2030, establish sustainable food production systems and adopt resilient agricultural practices that enhance productivity and output. \",\"By 2030, guarantee equal opportunities for women and men to avail affordable and high-quality technical, vocational, and higher education, including university-level education.\",\"By 2030, guarantee equal rights for all individuals, particularly the impoverished and vulnerable, to economic resources. \",\"By 2030, guarantee that all individuals attain the necessary knowledge and competencies to advance sustainable development.\",\"By 2030, guarantee that every young person and a significant portion of adults, regardless of gender, attain proficiency in reading, writing, and basic arithmetic skills.\",\"By 2030, significantly decrease the number of fatalities and illnesses caused by dangerous chemicals, as well as mitigate the impact of air, water, and soil pollution and contamination.\",\"By 2030, significantly enhance the number of young people and adults equipped with relevant skills, including technical and vocational competencies, to foster employment, secure decent jobs, and promote entrepreneurship.\",\"By 2030, strive to achieve to double the increase in agricultural productivity and incomes for small-scale food producers, with special emphasis on women, indigenous communities, family farmers, pastoralists, and fishers.\",\"By 2030, the aim is to achieve significant coverage of social protection programs for those living in poverty and vulnerable conditions, and introduce social protection systems and measures that are tailored to each country's needs, providing coverage for all individuals, including establishing minimum standards. \",\"By 2030, the proportion of men, women and children living in poverty (i.e., based on the country\\u2019s definition of poverty) should be reduced by half.\",\"Construct and improve educational infrastructures that are considerate of the needs of children, individuals with disabilities, and different genders. \",\"Enhance efforts to prevent and address substance abuse, including the misuse of narcotic drugs and harmful alcohol consumption, through improved prevention measures and effective treatment approaches.\",\"Enhance the capabilities of all nations, with a particular focus on developing countries, to strengthen early warning systems, mitigate risks, and manage health threats at both national and global levels.\",\"Enhance the enforcement and application of the World Health Organization Framework Convention on Tobacco Control in all relevant countries, as deemed suitable.\",\"Ensure substantial mobilization of resources from diverse channels, including strengthened development cooperation, to ensure that developing countries, especially least developed nations, have sufficient and predictable means to implement comprehensive programs and policies aimed at eradicating poverty in all its dimensions.\",\"Establish robust policy frameworks at the national, regional, and international levels that are rooted in pro-poor and gender-responsive development strategies. \",\"Implement measures to ensure the effective operation of food commodity markets and their derivatives, while also enabling timely access to market information, including data on food reserves. These efforts are crucial in mitigating excessive volatility in food prices.\",\"Promote and facilitate research and innovation in the field of vaccines and medications for both communicable and non-communicable diseases that disproportionately impact developing nations. Additionally, ensure affordable access to essential medicines and vaccines, aligning with the principles outlined in the Doha Declaration on the Trade-Related Aspects of Intellectual Property Rights (TRIPS) and Public Health.\",\"Proportion of children aged 24\\u201359 months who are developmentally on track in health, learning and psychosocial well-being, by sex\",\"Safeguard the genetic diversity of seeds, cultivated plants, domesticated animals, and their associated wild species by preserving them in well-managed and diversified seed and plant banks at national, regional, and international levels. Additionally, promote access to genetic resources and the fair and equitable sharing of benefits derived from their utilization, in accordance with internationally agreed agreements and protocols, including the protection of traditional knowledge.\",\"Significantly augment health funding and prioritize the recruitment, advancement, training, and retention of healthcare professionals in developing nations, particularly in least developed countries and small island developing states.\",\"Good Health and Well-Being\",\"No Poverty\",\"Quality Education\",\"Zero Hunger\",\"SDG\"],\"name\":\"\",\"parents\":[\"SDG/No Poverty/By 2030, achieve the complete elimination of extreme poverty for all individuals globally, such as no individuals will be living on less than $1.25 per day.\",\"SDG/No Poverty/By 2030, the proportion of men, women and children living in poverty (i.e., based on the country\\u2019s definition of poverty) should be reduced by half.\",\"SDG/No Poverty/By 2030, the proportion of men, women and children living in poverty (i.e., based on the country\\u2019s definition of poverty) should be reduced by half.\",\"SDG/No Poverty/By 2030, the aim is to achieve significant coverage of social protection programs for those living in poverty and vulnerable conditions, and introduce social protection systems and measures that are tailored to each country's needs, providing coverage for all individuals, including establishing minimum standards. \",\"SDG/No Poverty/By 2030, guarantee equal rights for all individuals, particularly the impoverished and vulnerable, to economic resources. \",\"SDG/No Poverty/By 2030, guarantee equal rights for all individuals, particularly the impoverished and vulnerable, to economic resources. \",\"SDG/No Poverty/By 2030, enhance the resilience of individuals living in poverty and vulnerable circumstances, reducing their exposure and susceptibility to climate-related extreme events, as well as other economic, social, and environmental shocks and disasters.\",\"SDG/No Poverty/By 2030, enhance the resilience of individuals living in poverty and vulnerable circumstances, reducing their exposure and susceptibility to climate-related extreme events, as well as other economic, social, and environmental shocks and disasters.\",\"SDG/No Poverty/By 2030, enhance the resilience of individuals living in poverty and vulnerable circumstances, reducing their exposure and susceptibility to climate-related extreme events, as well as other economic, social, and environmental shocks and disasters.\",\"SDG/No Poverty/By 2030, enhance the resilience of individuals living in poverty and vulnerable circumstances, reducing their exposure and susceptibility to climate-related extreme events, as well as other economic, social, and environmental shocks and disasters.\",\"SDG/No Poverty/Ensure substantial mobilization of resources from diverse channels, including strengthened development cooperation, to ensure that developing countries, especially least developed nations, have sufficient and predictable means to implement comprehensive programs and policies aimed at eradicating poverty in all its dimensions.\",\"SDG/No Poverty/Ensure substantial mobilization of resources from diverse channels, including strengthened development cooperation, to ensure that developing countries, especially least developed nations, have sufficient and predictable means to implement comprehensive programs and policies aimed at eradicating poverty in all its dimensions.\",\"SDG/No Poverty/Establish robust policy frameworks at the national, regional, and international levels that are rooted in pro-poor and gender-responsive development strategies. \",\"SDG/Zero Hunger/By 2030, eradicate hunger and ensure that everyone, especially those living in poverty and vulnerable conditions, including infants, has consistent access to safe, nutritious, and adequate food throughout the year.\",\"SDG/Zero Hunger/By 2030, eradicate hunger and ensure that everyone, especially those living in poverty and vulnerable conditions, including infants, has consistent access to safe, nutritious, and adequate food throughout the year.\",\"SDG/Zero Hunger/By 2030, eradicate all manifestations of malnutrition, including attaining the internationally agreed-upon goals for reducing stunting and wasting in children under the age of 5 by 2025. Additionally, focus on addressing the nutritional requirements of adolescent girls, pregnant and lactating women, and older individuals.\",\"SDG/Zero Hunger/By 2030, eradicate all manifestations of malnutrition, including attaining the internationally agreed-upon goals for reducing stunting and wasting in children under the age of 5 by 2025. Additionally, focus on addressing the nutritional requirements of adolescent girls, pregnant and lactating women, and older individuals.\",\"SDG/Zero Hunger/By 2030, eradicate all manifestations of malnutrition, including attaining the internationally agreed-upon goals for reducing stunting and wasting in children under the age of 5 by 2025. Additionally, focus on addressing the nutritional requirements of adolescent girls, pregnant and lactating women, and older individuals.\",\"SDG/Zero Hunger/By 2030, strive to achieve to double the increase in agricultural productivity and incomes for small-scale food producers, with special emphasis on women, indigenous communities, family farmers, pastoralists, and fishers.\",\"SDG/Zero Hunger/By 2030, strive to achieve to double the increase in agricultural productivity and incomes for small-scale food producers, with special emphasis on women, indigenous communities, family farmers, pastoralists, and fishers.\",\"SDG/Zero Hunger/By 2030, establish sustainable food production systems and adopt resilient agricultural practices that enhance productivity and output. \",\"SDG/Zero Hunger/Safeguard the genetic diversity of seeds, cultivated plants, domesticated animals, and their associated wild species by preserving them in well-managed and diversified seed and plant banks at national, regional, and international levels. Additionally, promote access to genetic resources and the fair and equitable sharing of benefits derived from their utilization, in accordance with internationally agreed agreements and protocols, including the protection of traditional knowledge.\",\"SDG/Zero Hunger/Safeguard the genetic diversity of seeds, cultivated plants, domesticated animals, and their associated wild species by preserving them in well-managed and diversified seed and plant banks at national, regional, and international levels. Additionally, promote access to genetic resources and the fair and equitable sharing of benefits derived from their utilization, in accordance with internationally agreed agreements and protocols, including the protection of traditional knowledge.\",\"SDG/Zero Hunger/Boost investment, including through intensified international collaboration, in rural infrastructure, agricultural research, extension services, technology advancement, and the preservation of plant and livestock gene banks. \",\"SDG/Zero Hunger/Boost investment, including through intensified international collaboration, in rural infrastructure, agricultural research, extension services, technology advancement, and the preservation of plant and livestock gene banks. \",\"SDG/Zero Hunger/Address and prevent trade restrictions and imbalances in global agricultural markets, including the complete elimination of agricultural export subsidies and export measures that have similar impacts. These actions should align with the objectives of the Doha Development Round.\",\"SDG/Zero Hunger/Implement measures to ensure the effective operation of food commodity markets and their derivatives, while also enabling timely access to market information, including data on food reserves. These efforts are crucial in mitigating excessive volatility in food prices.\",\"SDG/Good Health and Well-Being/By 2030, decrease the worldwide maternal mortality ratio to below 70 deaths per 100,000 live births.\",\"SDG/Good Health and Well-Being/By 2030, decrease the worldwide maternal mortality ratio to below 70 deaths per 100,000 live births.\",\"SDG/Good Health and Well-Being/By  2030, achieve the elimination of avoidable deaths among newborns and children under the age of five, with all nations striving to reduce neonatal mortality to a level no higher than 12 per 1,000 live births, and under-five mortality to a level no higher than 25 per 1,000 live births.\",\"SDG/Good Health and Well-Being/By  2030, achieve the elimination of avoidable deaths among newborns and children under the age of five, with all nations striving to reduce neonatal mortality to a level no higher than 12 per 1,000 live births, and under-five mortality to a level no higher than 25 per 1,000 live births.\",\"SDG/Good Health and Well-Being/By  2030, put an end to the epidemics of AIDS, tuberculosis, malaria, and neglected tropical diseases, while also addressing the challenges posed by hepatitis, water-borne diseases, and other communicable diseases.\",\"SDG/Good Health and Well-Being/By  2030, put an end to the epidemics of AIDS, tuberculosis, malaria, and neglected tropical diseases, while also addressing the challenges posed by hepatitis, water-borne diseases, and other communicable diseases.\",\"SDG/Good Health and Well-Being/By  2030, put an end to the epidemics of AIDS, tuberculosis, malaria, and neglected tropical diseases, while also addressing the challenges posed by hepatitis, water-borne diseases, and other communicable diseases.\",\"SDG/Good Health and Well-Being/By  2030, put an end to the epidemics of AIDS, tuberculosis, malaria, and neglected tropical diseases, while also addressing the challenges posed by hepatitis, water-borne diseases, and other communicable diseases.\",\"SDG/Good Health and Well-Being/By  2030, put an end to the epidemics of AIDS, tuberculosis, malaria, and neglected tropical diseases, while also addressing the challenges posed by hepatitis, water-borne diseases, and other communicable diseases.\",\"SDG/Good Health and Well-Being/By 2030, decrease premature mortality from non-communicable diseases by one-third through preventive measures, treatment interventions, and the promotion of mental health and overall well-being.\",\"SDG/Good Health and Well-Being/By 2030, decrease premature mortality from non-communicable diseases by one-third through preventive measures, treatment interventions, and the promotion of mental health and overall well-being.\",\"SDG/Good Health and Well-Being/Enhance efforts to prevent and address substance abuse, including the misuse of narcotic drugs and harmful alcohol consumption, through improved prevention measures and effective treatment approaches.\",\"SDG/Good Health and Well-Being/Enhance efforts to prevent and address substance abuse, including the misuse of narcotic drugs and harmful alcohol consumption, through improved prevention measures and effective treatment approaches.\",\"SDG/Good Health and Well-Being/By 2020, reduce by half the worldwide number of fatalities and injuries resulting from road traffic accidents.\",\"SDG/Good Health and Well-Being/By  2030, guarantee equal and widespread availability of sexual and reproductive healthcare services, including family planning, comprehensive information, and education, as well as the incorporation of reproductive health within national strategies and programs.\",\"SDG/Good Health and Well-Being/By  2030, guarantee equal and widespread availability of sexual and reproductive healthcare services, including family planning, comprehensive information, and education, as well as the incorporation of reproductive health within national strategies and programs.\",\"SDG/Good Health and Well-Being/Attain universal health coverage for everyone, encompassing financial security, access to high-quality essential healthcare services, and availability of safe, effective, and affordable essential medicines and vaccines for all individuals.\",\"SDG/Good Health and Well-Being/Attain universal health coverage for everyone, encompassing financial security, access to high-quality essential healthcare services, and availability of safe, effective, and affordable essential medicines and vaccines for all individuals.\",\"SDG/Good Health and Well-Being/By 2030, significantly decrease the number of fatalities and illnesses caused by dangerous chemicals, as well as mitigate the impact of air, water, and soil pollution and contamination.\",\"SDG/Good Health and Well-Being/By 2030, significantly decrease the number of fatalities and illnesses caused by dangerous chemicals, as well as mitigate the impact of air, water, and soil pollution and contamination.\",\"SDG/Good Health and Well-Being/By 2030, significantly decrease the number of fatalities and illnesses caused by dangerous chemicals, as well as mitigate the impact of air, water, and soil pollution and contamination.\",\"SDG/Good Health and Well-Being/Enhance the enforcement and application of the World Health Organization Framework Convention on Tobacco Control in all relevant countries, as deemed suitable.\",\"SDG/Good Health and Well-Being/Promote and facilitate research and innovation in the field of vaccines and medications for both communicable and non-communicable diseases that disproportionately impact developing nations. Additionally, ensure affordable access to essential medicines and vaccines, aligning with the principles outlined in the Doha Declaration on the Trade-Related Aspects of Intellectual Property Rights (TRIPS) and Public Health.\",\"SDG/Good Health and Well-Being/Promote and facilitate research and innovation in the field of vaccines and medications for both communicable and non-communicable diseases that disproportionately impact developing nations. Additionally, ensure affordable access to essential medicines and vaccines, aligning with the principles outlined in the Doha Declaration on the Trade-Related Aspects of Intellectual Property Rights (TRIPS) and Public Health.\",\"SDG/Good Health and Well-Being/Promote and facilitate research and innovation in the field of vaccines and medications for both communicable and non-communicable diseases that disproportionately impact developing nations. Additionally, ensure affordable access to essential medicines and vaccines, aligning with the principles outlined in the Doha Declaration on the Trade-Related Aspects of Intellectual Property Rights (TRIPS) and Public Health.\",\"SDG/Good Health and Well-Being/Significantly augment health funding and prioritize the recruitment, advancement, training, and retention of healthcare professionals in developing nations, particularly in least developed countries and small island developing states.\",\"SDG/Good Health and Well-Being/Enhance the capabilities of all nations, with a particular focus on developing countries, to strengthen early warning systems, mitigate risks, and manage health threats at both national and global levels.\",\"SDG/Good Health and Well-Being/Enhance the capabilities of all nations, with a particular focus on developing countries, to strengthen early warning systems, mitigate risks, and manage health threats at both national and global levels.\",\"SDG/Quality Education/By 2030, ensure the achievement of universal, free, fair, and high-quality primary and secondary education for all girls and boys. This education should result in relevant and effective learning outcomes for students.\",\"SDG/Quality Education/By 2030, ensure the achievement of universal, free, fair, and high-quality primary and secondary education for all girls and boys. This education should result in relevant and effective learning outcomes for students.\",\"SDG/Quality Education/Proportion of children aged 24\\u201359 months who are developmentally on track in health, learning and psychosocial well-being, by sex\",\"SDG/Quality Education/Proportion of children aged 24\\u201359 months who are developmentally on track in health, learning and psychosocial well-being, by sex\",\"SDG/Quality Education/By 2030, guarantee equal opportunities for women and men to avail affordable and high-quality technical, vocational, and higher education, including university-level education.\",\"SDG/Quality Education/By 2030, significantly enhance the number of young people and adults equipped with relevant skills, including technical and vocational competencies, to foster employment, secure decent jobs, and promote entrepreneurship.\",\"SDG/Quality Education/By  2030, eradicate gender inequalities in education and ensure equal access for all individuals, including vulnerable groups such as persons with disabilities, indigenous peoples, and children in precarious circumstances, to all levels of education and vocational training.\",\"SDG/Quality Education/By 2030, guarantee that every young person and a significant portion of adults, regardless of gender, attain proficiency in reading, writing, and basic arithmetic skills.\",\"SDG/Quality Education/By 2030, guarantee that all individuals attain the necessary knowledge and competencies to advance sustainable development.\",\"SDG/Quality Education/Construct and improve educational infrastructures that are considerate of the needs of children, individuals with disabilities, and different genders. \",\"SDG/Quality Education/By 2020, significantly increase the global number of scholarships to developing nations, with a specific emphasis on least developed countries, small island developing states, and African countries.\",\"SDG/Quality Education/By  2030, significantly enhance the availability of qualified teachers, particularly in least developed countries, through international collaboration aimed at providing teacher training.\",\"SDG/Zero Hunger\",\"SDG/Good Health and Well-Being\",\"SDG/Zero Hunger\",\"SDG/Good Health and Well-Being\",\"SDG/Quality Education\",\"SDG/Good Health and Well-Being\",\"SDG/Good Health and Well-Being\",\"SDG/Quality Education\",\"SDG/Good Health and Well-Being\",\"SDG/Quality Education\",\"SDG/No Poverty\",\"SDG/Good Health and Well-Being\",\"SDG/Good Health and Well-Being\",\"SDG/No Poverty\",\"SDG/Quality Education\",\"SDG/Zero Hunger\",\"SDG/Zero Hunger\",\"SDG/Zero Hunger\",\"SDG/Quality Education\",\"SDG/No Poverty\",\"SDG/Quality Education\",\"SDG/Quality Education\",\"SDG/Good Health and Well-Being\",\"SDG/Quality Education\",\"SDG/Zero Hunger\",\"SDG/No Poverty\",\"SDG/No Poverty\",\"SDG/Quality Education\",\"SDG/Good Health and Well-Being\",\"SDG/Good Health and Well-Being\",\"SDG/Good Health and Well-Being\",\"SDG/No Poverty\",\"SDG/No Poverty\",\"SDG/Zero Hunger\",\"SDG/Good Health and Well-Being\",\"SDG/Quality Education\",\"SDG/Zero Hunger\",\"SDG/Good Health and Well-Being\",\"SDG\",\"SDG\",\"SDG\",\"SDG\",\"\"],\"values\":[1,1,1,1,1,1,1,1,1,1,1,1,1,1,1,1,1,1,1,1,1,1,1,1,1,1,1,1,1,1,1,1,1,1,1,1,1,1,1,1,1,1,1,1,1,1,1,1,1,1,1,1,1,1,1,1,1,1,1,1,1,1,1,1,1,1,1,1,2,2,2,1,2,5,1,1,1,1,2,2,4,2,3,2,1,1,2,1,1,3,1,2,1,2,1,2,2,1,2,1,1,3,2,2,1,28,13,12,14,67],\"type\":\"icicle\",\"root\":{\"color\":\"lightgrey\"},\"hoverinfo\":\"skip\"}],                        {\"template\":{\"data\":{\"histogram2dcontour\":[{\"type\":\"histogram2dcontour\",\"colorbar\":{\"outlinewidth\":0,\"ticks\":\"\"},\"colorscale\":[[0.0,\"#0d0887\"],[0.1111111111111111,\"#46039f\"],[0.2222222222222222,\"#7201a8\"],[0.3333333333333333,\"#9c179e\"],[0.4444444444444444,\"#bd3786\"],[0.5555555555555556,\"#d8576b\"],[0.6666666666666666,\"#ed7953\"],[0.7777777777777778,\"#fb9f3a\"],[0.8888888888888888,\"#fdca26\"],[1.0,\"#f0f921\"]]}],\"choropleth\":[{\"type\":\"choropleth\",\"colorbar\":{\"outlinewidth\":0,\"ticks\":\"\"}}],\"histogram2d\":[{\"type\":\"histogram2d\",\"colorbar\":{\"outlinewidth\":0,\"ticks\":\"\"},\"colorscale\":[[0.0,\"#0d0887\"],[0.1111111111111111,\"#46039f\"],[0.2222222222222222,\"#7201a8\"],[0.3333333333333333,\"#9c179e\"],[0.4444444444444444,\"#bd3786\"],[0.5555555555555556,\"#d8576b\"],[0.6666666666666666,\"#ed7953\"],[0.7777777777777778,\"#fb9f3a\"],[0.8888888888888888,\"#fdca26\"],[1.0,\"#f0f921\"]]}],\"heatmap\":[{\"type\":\"heatmap\",\"colorbar\":{\"outlinewidth\":0,\"ticks\":\"\"},\"colorscale\":[[0.0,\"#0d0887\"],[0.1111111111111111,\"#46039f\"],[0.2222222222222222,\"#7201a8\"],[0.3333333333333333,\"#9c179e\"],[0.4444444444444444,\"#bd3786\"],[0.5555555555555556,\"#d8576b\"],[0.6666666666666666,\"#ed7953\"],[0.7777777777777778,\"#fb9f3a\"],[0.8888888888888888,\"#fdca26\"],[1.0,\"#f0f921\"]]}],\"heatmapgl\":[{\"type\":\"heatmapgl\",\"colorbar\":{\"outlinewidth\":0,\"ticks\":\"\"},\"colorscale\":[[0.0,\"#0d0887\"],[0.1111111111111111,\"#46039f\"],[0.2222222222222222,\"#7201a8\"],[0.3333333333333333,\"#9c179e\"],[0.4444444444444444,\"#bd3786\"],[0.5555555555555556,\"#d8576b\"],[0.6666666666666666,\"#ed7953\"],[0.7777777777777778,\"#fb9f3a\"],[0.8888888888888888,\"#fdca26\"],[1.0,\"#f0f921\"]]}],\"contourcarpet\":[{\"type\":\"contourcarpet\",\"colorbar\":{\"outlinewidth\":0,\"ticks\":\"\"}}],\"contour\":[{\"type\":\"contour\",\"colorbar\":{\"outlinewidth\":0,\"ticks\":\"\"},\"colorscale\":[[0.0,\"#0d0887\"],[0.1111111111111111,\"#46039f\"],[0.2222222222222222,\"#7201a8\"],[0.3333333333333333,\"#9c179e\"],[0.4444444444444444,\"#bd3786\"],[0.5555555555555556,\"#d8576b\"],[0.6666666666666666,\"#ed7953\"],[0.7777777777777778,\"#fb9f3a\"],[0.8888888888888888,\"#fdca26\"],[1.0,\"#f0f921\"]]}],\"surface\":[{\"type\":\"surface\",\"colorbar\":{\"outlinewidth\":0,\"ticks\":\"\"},\"colorscale\":[[0.0,\"#0d0887\"],[0.1111111111111111,\"#46039f\"],[0.2222222222222222,\"#7201a8\"],[0.3333333333333333,\"#9c179e\"],[0.4444444444444444,\"#bd3786\"],[0.5555555555555556,\"#d8576b\"],[0.6666666666666666,\"#ed7953\"],[0.7777777777777778,\"#fb9f3a\"],[0.8888888888888888,\"#fdca26\"],[1.0,\"#f0f921\"]]}],\"mesh3d\":[{\"type\":\"mesh3d\",\"colorbar\":{\"outlinewidth\":0,\"ticks\":\"\"}}],\"scatter\":[{\"fillpattern\":{\"fillmode\":\"overlay\",\"size\":10,\"solidity\":0.2},\"type\":\"scatter\"}],\"parcoords\":[{\"type\":\"parcoords\",\"line\":{\"colorbar\":{\"outlinewidth\":0,\"ticks\":\"\"}}}],\"scatterpolargl\":[{\"type\":\"scatterpolargl\",\"marker\":{\"colorbar\":{\"outlinewidth\":0,\"ticks\":\"\"}}}],\"bar\":[{\"error_x\":{\"color\":\"#2a3f5f\"},\"error_y\":{\"color\":\"#2a3f5f\"},\"marker\":{\"line\":{\"color\":\"#E5ECF6\",\"width\":0.5},\"pattern\":{\"fillmode\":\"overlay\",\"size\":10,\"solidity\":0.2}},\"type\":\"bar\"}],\"scattergeo\":[{\"type\":\"scattergeo\",\"marker\":{\"colorbar\":{\"outlinewidth\":0,\"ticks\":\"\"}}}],\"scatterpolar\":[{\"type\":\"scatterpolar\",\"marker\":{\"colorbar\":{\"outlinewidth\":0,\"ticks\":\"\"}}}],\"histogram\":[{\"marker\":{\"pattern\":{\"fillmode\":\"overlay\",\"size\":10,\"solidity\":0.2}},\"type\":\"histogram\"}],\"scattergl\":[{\"type\":\"scattergl\",\"marker\":{\"colorbar\":{\"outlinewidth\":0,\"ticks\":\"\"}}}],\"scatter3d\":[{\"type\":\"scatter3d\",\"line\":{\"colorbar\":{\"outlinewidth\":0,\"ticks\":\"\"}},\"marker\":{\"colorbar\":{\"outlinewidth\":0,\"ticks\":\"\"}}}],\"scattermapbox\":[{\"type\":\"scattermapbox\",\"marker\":{\"colorbar\":{\"outlinewidth\":0,\"ticks\":\"\"}}}],\"scatterternary\":[{\"type\":\"scatterternary\",\"marker\":{\"colorbar\":{\"outlinewidth\":0,\"ticks\":\"\"}}}],\"scattercarpet\":[{\"type\":\"scattercarpet\",\"marker\":{\"colorbar\":{\"outlinewidth\":0,\"ticks\":\"\"}}}],\"carpet\":[{\"aaxis\":{\"endlinecolor\":\"#2a3f5f\",\"gridcolor\":\"white\",\"linecolor\":\"white\",\"minorgridcolor\":\"white\",\"startlinecolor\":\"#2a3f5f\"},\"baxis\":{\"endlinecolor\":\"#2a3f5f\",\"gridcolor\":\"white\",\"linecolor\":\"white\",\"minorgridcolor\":\"white\",\"startlinecolor\":\"#2a3f5f\"},\"type\":\"carpet\"}],\"table\":[{\"cells\":{\"fill\":{\"color\":\"#EBF0F8\"},\"line\":{\"color\":\"white\"}},\"header\":{\"fill\":{\"color\":\"#C8D4E3\"},\"line\":{\"color\":\"white\"}},\"type\":\"table\"}],\"barpolar\":[{\"marker\":{\"line\":{\"color\":\"#E5ECF6\",\"width\":0.5},\"pattern\":{\"fillmode\":\"overlay\",\"size\":10,\"solidity\":0.2}},\"type\":\"barpolar\"}],\"pie\":[{\"automargin\":true,\"type\":\"pie\"}]},\"layout\":{\"autotypenumbers\":\"strict\",\"colorway\":[\"#636efa\",\"#EF553B\",\"#00cc96\",\"#ab63fa\",\"#FFA15A\",\"#19d3f3\",\"#FF6692\",\"#B6E880\",\"#FF97FF\",\"#FECB52\"],\"font\":{\"color\":\"#2a3f5f\"},\"hovermode\":\"closest\",\"hoverlabel\":{\"align\":\"left\"},\"paper_bgcolor\":\"white\",\"plot_bgcolor\":\"#E5ECF6\",\"polar\":{\"bgcolor\":\"#E5ECF6\",\"angularaxis\":{\"gridcolor\":\"white\",\"linecolor\":\"white\",\"ticks\":\"\"},\"radialaxis\":{\"gridcolor\":\"white\",\"linecolor\":\"white\",\"ticks\":\"\"}},\"ternary\":{\"bgcolor\":\"#E5ECF6\",\"aaxis\":{\"gridcolor\":\"white\",\"linecolor\":\"white\",\"ticks\":\"\"},\"baxis\":{\"gridcolor\":\"white\",\"linecolor\":\"white\",\"ticks\":\"\"},\"caxis\":{\"gridcolor\":\"white\",\"linecolor\":\"white\",\"ticks\":\"\"}},\"coloraxis\":{\"colorbar\":{\"outlinewidth\":0,\"ticks\":\"\"}},\"colorscale\":{\"sequential\":[[0.0,\"#0d0887\"],[0.1111111111111111,\"#46039f\"],[0.2222222222222222,\"#7201a8\"],[0.3333333333333333,\"#9c179e\"],[0.4444444444444444,\"#bd3786\"],[0.5555555555555556,\"#d8576b\"],[0.6666666666666666,\"#ed7953\"],[0.7777777777777778,\"#fb9f3a\"],[0.8888888888888888,\"#fdca26\"],[1.0,\"#f0f921\"]],\"sequentialminus\":[[0.0,\"#0d0887\"],[0.1111111111111111,\"#46039f\"],[0.2222222222222222,\"#7201a8\"],[0.3333333333333333,\"#9c179e\"],[0.4444444444444444,\"#bd3786\"],[0.5555555555555556,\"#d8576b\"],[0.6666666666666666,\"#ed7953\"],[0.7777777777777778,\"#fb9f3a\"],[0.8888888888888888,\"#fdca26\"],[1.0,\"#f0f921\"]],\"diverging\":[[0,\"#8e0152\"],[0.1,\"#c51b7d\"],[0.2,\"#de77ae\"],[0.3,\"#f1b6da\"],[0.4,\"#fde0ef\"],[0.5,\"#f7f7f7\"],[0.6,\"#e6f5d0\"],[0.7,\"#b8e186\"],[0.8,\"#7fbc41\"],[0.9,\"#4d9221\"],[1,\"#276419\"]]},\"xaxis\":{\"gridcolor\":\"white\",\"linecolor\":\"white\",\"ticks\":\"\",\"title\":{\"standoff\":15},\"zerolinecolor\":\"white\",\"automargin\":true,\"zerolinewidth\":2},\"yaxis\":{\"gridcolor\":\"white\",\"linecolor\":\"white\",\"ticks\":\"\",\"title\":{\"standoff\":15},\"zerolinecolor\":\"white\",\"automargin\":true,\"zerolinewidth\":2},\"scene\":{\"xaxis\":{\"backgroundcolor\":\"#E5ECF6\",\"gridcolor\":\"white\",\"linecolor\":\"white\",\"showbackground\":true,\"ticks\":\"\",\"zerolinecolor\":\"white\",\"gridwidth\":2},\"yaxis\":{\"backgroundcolor\":\"#E5ECF6\",\"gridcolor\":\"white\",\"linecolor\":\"white\",\"showbackground\":true,\"ticks\":\"\",\"zerolinecolor\":\"white\",\"gridwidth\":2},\"zaxis\":{\"backgroundcolor\":\"#E5ECF6\",\"gridcolor\":\"white\",\"linecolor\":\"white\",\"showbackground\":true,\"ticks\":\"\",\"zerolinecolor\":\"white\",\"gridwidth\":2}},\"shapedefaults\":{\"line\":{\"color\":\"#2a3f5f\"}},\"annotationdefaults\":{\"arrowcolor\":\"#2a3f5f\",\"arrowhead\":0,\"arrowwidth\":1},\"geo\":{\"bgcolor\":\"white\",\"landcolor\":\"#E5ECF6\",\"subunitcolor\":\"white\",\"showland\":true,\"showlakes\":true,\"lakecolor\":\"white\"},\"title\":{\"x\":0.05},\"mapbox\":{\"style\":\"light\"}}},\"legend\":{\"tracegroupgap\":0},\"margin\":{\"t\":50,\"l\":25,\"r\":25,\"b\":25}},                        {\"responsive\": true}                    ).then(function(){\n",
       "                            \n",
       "var gd = document.getElementById('17f05095-e419-498e-a006-d94bc8da8e3f');\n",
       "var x = new MutationObserver(function (mutations, observer) {{\n",
       "        var display = window.getComputedStyle(gd).display;\n",
       "        if (!display || display === 'none') {{\n",
       "            console.log([gd, 'removed!']);\n",
       "            Plotly.purge(gd);\n",
       "            observer.disconnect();\n",
       "        }}\n",
       "}});\n",
       "\n",
       "// Listen for the removal of the full notebook cells\n",
       "var notebookContainer = gd.closest('#notebook-container');\n",
       "if (notebookContainer) {{\n",
       "    x.observe(notebookContainer, {childList: true});\n",
       "}}\n",
       "\n",
       "// Listen for the clearing of the current output cell\n",
       "var outputEl = gd.closest('.output');\n",
       "if (outputEl) {{\n",
       "    x.observe(outputEl, {childList: true});\n",
       "}}\n",
       "\n",
       "                        })                };                });            </script>        </div>"
      ]
     },
     "metadata": {},
     "output_type": "display_data"
    }
   ],
   "source": [
    "fig = px.icicle(sdg_info_df, path=['SDG', 'Main SDG', 'Target', 'Indicator'], hover_data = None)\n",
    "fig.update_traces(root_color='lightgrey',hovertemplate = None, hoverinfo = \"skip\")\n",
    "fig.update_layout(margin = dict(t=50, l=25, r=25, b=25))\n",
    "fig.show()"
   ]
  },
  {
   "cell_type": "code",
   "execution_count": null,
   "id": "accb6b85",
   "metadata": {},
   "outputs": [],
   "source": []
  }
 ],
 "metadata": {
  "kernelspec": {
   "display_name": "Python 3 (ipykernel)",
   "language": "python",
   "name": "python3"
  },
  "language_info": {
   "codemirror_mode": {
    "name": "ipython",
    "version": 3
   },
   "file_extension": ".py",
   "mimetype": "text/x-python",
   "name": "python",
   "nbconvert_exporter": "python",
   "pygments_lexer": "ipython3",
   "version": "3.9.7"
  },
  "toc": {
   "base_numbering": 1,
   "nav_menu": {},
   "number_sections": true,
   "sideBar": true,
   "skip_h1_title": false,
   "title_cell": "Table of Contents",
   "title_sidebar": "Contents",
   "toc_cell": false,
   "toc_position": {},
   "toc_section_display": true,
   "toc_window_display": false
  },
  "varInspector": {
   "cols": {
    "lenName": 16,
    "lenType": 16,
    "lenVar": 40
   },
   "kernels_config": {
    "python": {
     "delete_cmd_postfix": "",
     "delete_cmd_prefix": "del ",
     "library": "var_list.py",
     "varRefreshCmd": "print(var_dic_list())"
    },
    "r": {
     "delete_cmd_postfix": ") ",
     "delete_cmd_prefix": "rm(",
     "library": "var_list.r",
     "varRefreshCmd": "cat(var_dic_list()) "
    }
   },
   "types_to_exclude": [
    "module",
    "function",
    "builtin_function_or_method",
    "instance",
    "_Feature"
   ],
   "window_display": false
  }
 },
 "nbformat": 4,
 "nbformat_minor": 5
}
